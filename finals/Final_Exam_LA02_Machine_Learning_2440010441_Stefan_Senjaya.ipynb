{
  "nbformat": 4,
  "nbformat_minor": 0,
  "metadata": {
    "colab": {
      "name": "Final Exam_LA02_Machine Learning_2440010441_Stefan Senjaya.ipynb",
      "provenance": [],
      "collapsed_sections": []
    },
    "kernelspec": {
      "name": "python3",
      "display_name": "Python 3"
    },
    "language_info": {
      "name": "python"
    }
  },
  "cells": [
    {
      "cell_type": "markdown",
      "source": [
        "Name: Stefan Senjaya\n",
        "\n",
        "NIM: 2440010441\n",
        "\n",
        "Class: LA02"
      ],
      "metadata": {
        "id": "11_yrD6gBzMO"
      }
    },
    {
      "cell_type": "code",
      "source": [
        "import matplotlib.pyplot as plt\n",
        "import pandas as pd\n",
        "from sklearn import linear_model\n",
        "from sklearn.model_selection import train_test_split\n",
        "import numpy as np\n",
        "import seaborn as sb\n",
        "from sklearn.metrics import r2_score, mean_squared_error, mean_absolute_error, classification_report, confusion_matrix, f1_score, accuracy_score"
      ],
      "metadata": {
        "id": "y7Ut7YCdF2Sb"
      },
      "execution_count": 218,
      "outputs": []
    },
    {
      "cell_type": "markdown",
      "source": [
        "<h4>1a. Explain the dataset profile comprehensively. Use visualization to help\n",
        "the explanation."
      ],
      "metadata": {
        "id": "xSnHjfnXFAx1"
      }
    },
    {
      "cell_type": "markdown",
      "source": [
        "Reading the dataset"
      ],
      "metadata": {
        "id": "Jt6kJvNBGDpB"
      }
    },
    {
      "cell_type": "code",
      "execution_count": 219,
      "metadata": {
        "colab": {
          "base_uri": "https://localhost:8080/"
        },
        "id": "97I2brTEEgeD",
        "outputId": "f5a9c0c5-b2f8-4877-dfbc-0dab05451506"
      },
      "outputs": [
        {
          "output_type": "stream",
          "name": "stdout",
          "text": [
            "<bound method NDFrame.head of         Age  Gender OwnHome  Married Location  Salary  Children History  \\\n",
            "0     Young    Male    Rent   Single    Close   15000         3     Low   \n",
            "1     Young    Male    Rent   Single    Close   13000         3     Low   \n",
            "2     Young  Female    Rent   Single    Close   14600         3     Low   \n",
            "3     Young  Female    Rent   Single    Close   17900         3     Low   \n",
            "4       Old  Female     Own   Single    Close   12700         2     Low   \n",
            "..      ...     ...     ...      ...      ...     ...       ...     ...   \n",
            "995  Middle  Female     Own  Married      Far   99200         0    High   \n",
            "996     Old  Female     Own  Married      Far  110000         0    High   \n",
            "997  Middle  Female    Rent  Married      Far  120800         1    High   \n",
            "998  Middle    Male     Own  Married      Far  123000         1    High   \n",
            "999     Old    Male     Own  Married      Far  112900         0    High   \n",
            "\n",
            "     Catalogs AmountSpent  \n",
            "0           6         Low  \n",
            "1           6         Low  \n",
            "2           6         Low  \n",
            "3           6         Low  \n",
            "4           6         Low  \n",
            "..        ...         ...  \n",
            "995        24   Very High  \n",
            "996        24   Very High  \n",
            "997        24   Very High  \n",
            "998        24   Very High  \n",
            "999        24   Very High  \n",
            "\n",
            "[1000 rows x 10 columns]>\n"
          ]
        }
      ],
      "source": [
        "marketingData = pd.read_csv(\"https://raw.githubusercontent.com/Styfh/MachineLearningCourse/main/CustomerMarketingDataset.csv\")\n",
        "print(marketingData.head)"
      ]
    },
    {
      "cell_type": "markdown",
      "source": [
        "Dataset datatypes:"
      ],
      "metadata": {
        "id": "fJLukUQ3GGTH"
      }
    },
    {
      "cell_type": "code",
      "source": [
        "print(marketingData.dtypes)"
      ],
      "metadata": {
        "colab": {
          "base_uri": "https://localhost:8080/"
        },
        "id": "aNvJw7tLGILj",
        "outputId": "d658e10a-6a75-42fb-ffde-e99caf14a6e1"
      },
      "execution_count": 220,
      "outputs": [
        {
          "output_type": "stream",
          "name": "stdout",
          "text": [
            "Age            object\n",
            "Gender         object\n",
            "OwnHome        object\n",
            "Married        object\n",
            "Location       object\n",
            "Salary          int64\n",
            "Children        int64\n",
            "History        object\n",
            "Catalogs        int64\n",
            "AmountSpent    object\n",
            "dtype: object\n"
          ]
        }
      ]
    },
    {
      "cell_type": "markdown",
      "source": [
        "Dataset null values:"
      ],
      "metadata": {
        "id": "xnKKtuwRGQ-I"
      }
    },
    {
      "cell_type": "code",
      "source": [
        "print(marketingData.isna().values.any())\n",
        "\n",
        "print(marketingData.info())"
      ],
      "metadata": {
        "colab": {
          "base_uri": "https://localhost:8080/"
        },
        "id": "ILocYNsLGU2_",
        "outputId": "ff8d8144-d0d7-403d-dff5-5a9096cb3b35"
      },
      "execution_count": 221,
      "outputs": [
        {
          "output_type": "stream",
          "name": "stdout",
          "text": [
            "True\n",
            "<class 'pandas.core.frame.DataFrame'>\n",
            "RangeIndex: 1000 entries, 0 to 999\n",
            "Data columns (total 10 columns):\n",
            " #   Column       Non-Null Count  Dtype \n",
            "---  ------       --------------  ----- \n",
            " 0   Age          1000 non-null   object\n",
            " 1   Gender       1000 non-null   object\n",
            " 2   OwnHome      1000 non-null   object\n",
            " 3   Married      1000 non-null   object\n",
            " 4   Location     1000 non-null   object\n",
            " 5   Salary       1000 non-null   int64 \n",
            " 6   Children     1000 non-null   int64 \n",
            " 7   History      697 non-null    object\n",
            " 8   Catalogs     1000 non-null   int64 \n",
            " 9   AmountSpent  1000 non-null   object\n",
            "dtypes: int64(3), object(7)\n",
            "memory usage: 78.2+ KB\n",
            "None\n"
          ]
        }
      ]
    },
    {
      "cell_type": "markdown",
      "source": [
        "Identifying categories in string data"
      ],
      "metadata": {
        "id": "FBVNWOCbLxW-"
      }
    },
    {
      "cell_type": "code",
      "source": [
        "print(\"Age\")\n",
        "age = marketingData[[\"Age\"]].to_numpy()\n",
        "print(np.unique(age))\n",
        "\n",
        "print(\"Gender\")\n",
        "gender = marketingData[[\"Gender\"]].to_numpy()\n",
        "print(np.unique(gender))\n",
        "\n",
        "print(\"OwnHome\")\n",
        "ownHome = marketingData[[\"OwnHome\"]].to_numpy()\n",
        "print(np.unique(ownHome))\n",
        "\n",
        "print(\"Married\")\n",
        "married = marketingData[[\"Married\"]].to_numpy()\n",
        "print(np.unique(married))\n",
        "\n",
        "print(\"Location\")\n",
        "location = marketingData[[\"Location\"]].to_numpy()\n",
        "print(np.unique(location))\n",
        "\n",
        "# this column has null values as indicated when calling .info()\n",
        "print(\"History\")\n",
        "history = marketingData[[\"History\"]].dropna().to_numpy()\n",
        "print(np.unique(history))\n",
        "\n",
        "print(\"AmountSpent\")\n",
        "amountSpent = marketingData[[\"AmountSpent\"]].to_numpy()\n",
        "print(np.unique(amountSpent))"
      ],
      "metadata": {
        "colab": {
          "base_uri": "https://localhost:8080/"
        },
        "id": "9MeGR22vML_Q",
        "outputId": "fde0bef0-740e-41a9-8a27-5b78bbc38160"
      },
      "execution_count": 222,
      "outputs": [
        {
          "output_type": "stream",
          "name": "stdout",
          "text": [
            "Age\n",
            "['Middle' 'Old' 'Young']\n",
            "Gender\n",
            "['Female' 'Male']\n",
            "OwnHome\n",
            "['Own' 'Rent']\n",
            "Married\n",
            "['Married' 'Single']\n",
            "Location\n",
            "['Close' 'Far']\n",
            "History\n",
            "['High' 'Low' 'Medium']\n",
            "AmountSpent\n",
            "['High' 'Low' 'Medium' 'Very High']\n"
          ]
        }
      ]
    },
    {
      "cell_type": "markdown",
      "source": [
        "Before continuing with the data profiling, I will preprocess the categorical data and handle the null values so that these can be visualized properly"
      ],
      "metadata": {
        "id": "EhZGHt8IXiSv"
      }
    },
    {
      "cell_type": "markdown",
      "source": [
        "Handling null values in the history column"
      ],
      "metadata": {
        "id": "-6Kpqq8nishs"
      }
    },
    {
      "cell_type": "markdown",
      "source": [
        "Since a significant portion of the data has null history (303),\n",
        "the data shouldn't be simply dropped. I'll assume having null history means the \n",
        "object simply never purchased from the Bee Department Store and will create category none signified by 0."
      ],
      "metadata": {
        "id": "U74MFWaki7_X"
      }
    },
    {
      "cell_type": "code",
      "source": [
        "marketingData[\"History\"] = marketingData[\"History\"].fillna(0)\n",
        "\n",
        "print(marketingData.info())"
      ],
      "metadata": {
        "colab": {
          "base_uri": "https://localhost:8080/"
        },
        "id": "iIPztKYrisSU",
        "outputId": "f0249d1e-b5f1-4ca8-ae09-2be908a44392"
      },
      "execution_count": 223,
      "outputs": [
        {
          "output_type": "stream",
          "name": "stdout",
          "text": [
            "<class 'pandas.core.frame.DataFrame'>\n",
            "RangeIndex: 1000 entries, 0 to 999\n",
            "Data columns (total 10 columns):\n",
            " #   Column       Non-Null Count  Dtype \n",
            "---  ------       --------------  ----- \n",
            " 0   Age          1000 non-null   object\n",
            " 1   Gender       1000 non-null   object\n",
            " 2   OwnHome      1000 non-null   object\n",
            " 3   Married      1000 non-null   object\n",
            " 4   Location     1000 non-null   object\n",
            " 5   Salary       1000 non-null   int64 \n",
            " 6   Children     1000 non-null   int64 \n",
            " 7   History      1000 non-null   object\n",
            " 8   Catalogs     1000 non-null   int64 \n",
            " 9   AmountSpent  1000 non-null   object\n",
            "dtypes: int64(3), object(7)\n",
            "memory usage: 78.2+ KB\n",
            "None\n"
          ]
        }
      ]
    },
    {
      "cell_type": "markdown",
      "source": [
        "Handling categorical data"
      ],
      "metadata": {
        "id": "fHSpBTo4QK8j"
      }
    },
    {
      "cell_type": "code",
      "source": [
        "categorizedMarketingData = marketingData\n",
        "\n",
        "ageMap = {\n",
        "    \"Young\": 0,\n",
        "    \"Middle\": 1,\n",
        "    \"Old\": 2\n",
        "}\n",
        "\n",
        "genderMap = {\n",
        "    \"Male\": 0,\n",
        "    \"Female\": 1\n",
        "}\n",
        "\n",
        "ownHomeMap = {\n",
        "    \"Own\": 0,\n",
        "    \"Rent\": 1\n",
        "}\n",
        "\n",
        "marriedMap = {\n",
        "    \"Single\": 0,\n",
        "    \"Married\": 1\n",
        "}\n",
        "\n",
        "locationMap = {\n",
        "    \"Close\": 0,\n",
        "    \"Far\": 1\n",
        "}\n",
        "\n",
        "# 0 Already exist as NA category\n",
        "historyMap = {\n",
        "    \"Low\": 1,\n",
        "    \"Medium\": 2,\n",
        "    \"High\": 3\n",
        "}\n",
        "\n",
        "amountSpentMap = {\n",
        "    \"Low\": 0,\n",
        "    \"Medium\": 1,\n",
        "    \"High\": 2,\n",
        "    \"Very High\": 3\n",
        "}\n",
        "\n",
        "categorizedMarketingData[\"Age\"] = marketingData[\"Age\"].replace(ageMap)\n",
        "categorizedMarketingData[\"Gender\"] = marketingData[\"Gender\"].replace(genderMap)\n",
        "categorizedMarketingData[\"OwnHome\"] = marketingData[\"OwnHome\"].replace(ownHomeMap)\n",
        "categorizedMarketingData[\"Married\"] = marketingData[\"Married\"].replace(marriedMap)\n",
        "categorizedMarketingData[\"Location\"] = marketingData[\"Location\"].replace(locationMap)\n",
        "categorizedMarketingData[\"History\"] = marketingData[\"History\"].replace(historyMap)\n",
        "categorizedMarketingData[\"AmountSpent\"] = marketingData[\"AmountSpent\"].replace(amountSpentMap)\n",
        "\n",
        "print(categorizedMarketingData.head)\n",
        "print(categorizedMarketingData.info())"
      ],
      "metadata": {
        "colab": {
          "base_uri": "https://localhost:8080/"
        },
        "id": "_20wPycnQJ56",
        "outputId": "9a4b616d-d47a-4ddd-dea5-f86ec90e1863"
      },
      "execution_count": 224,
      "outputs": [
        {
          "output_type": "stream",
          "name": "stdout",
          "text": [
            "<bound method NDFrame.head of      Age  Gender  OwnHome  Married  Location  Salary  Children  History  \\\n",
            "0      0       0        1        0         0   15000         3        1   \n",
            "1      0       0        1        0         0   13000         3        1   \n",
            "2      0       1        1        0         0   14600         3        1   \n",
            "3      0       1        1        0         0   17900         3        1   \n",
            "4      2       1        0        0         0   12700         2        1   \n",
            "..   ...     ...      ...      ...       ...     ...       ...      ...   \n",
            "995    1       1        0        1         1   99200         0        3   \n",
            "996    2       1        0        1         1  110000         0        3   \n",
            "997    1       1        1        1         1  120800         1        3   \n",
            "998    1       0        0        1         1  123000         1        3   \n",
            "999    2       0        0        1         1  112900         0        3   \n",
            "\n",
            "     Catalogs  AmountSpent  \n",
            "0           6            0  \n",
            "1           6            0  \n",
            "2           6            0  \n",
            "3           6            0  \n",
            "4           6            0  \n",
            "..        ...          ...  \n",
            "995        24            3  \n",
            "996        24            3  \n",
            "997        24            3  \n",
            "998        24            3  \n",
            "999        24            3  \n",
            "\n",
            "[1000 rows x 10 columns]>\n",
            "<class 'pandas.core.frame.DataFrame'>\n",
            "RangeIndex: 1000 entries, 0 to 999\n",
            "Data columns (total 10 columns):\n",
            " #   Column       Non-Null Count  Dtype\n",
            "---  ------       --------------  -----\n",
            " 0   Age          1000 non-null   int64\n",
            " 1   Gender       1000 non-null   int64\n",
            " 2   OwnHome      1000 non-null   int64\n",
            " 3   Married      1000 non-null   int64\n",
            " 4   Location     1000 non-null   int64\n",
            " 5   Salary       1000 non-null   int64\n",
            " 6   Children     1000 non-null   int64\n",
            " 7   History      1000 non-null   int64\n",
            " 8   Catalogs     1000 non-null   int64\n",
            " 9   AmountSpent  1000 non-null   int64\n",
            "dtypes: int64(10)\n",
            "memory usage: 78.2 KB\n",
            "None\n"
          ]
        }
      ]
    },
    {
      "cell_type": "markdown",
      "source": [
        "Data Visualization"
      ],
      "metadata": {
        "id": "Jm4lrX9pHqD5"
      }
    },
    {
      "cell_type": "code",
      "source": [
        "categorizedMarketingData.hist()\n",
        "plt.subplots_adjust(hspace = 0.5, wspace = 0.3)\n",
        "plt.rcParams[\"figure.figsize\"] = [16,9]\n",
        "plt.show()"
      ],
      "metadata": {
        "colab": {
          "base_uri": "https://localhost:8080/",
          "height": 553
        },
        "id": "kwWE_peAHxQh",
        "outputId": "5fe33900-18b6-4d2c-8fc9-9d9dddbe4df2"
      },
      "execution_count": 225,
      "outputs": [
        {
          "output_type": "display_data",
          "data": {
            "text/plain": [
              "<Figure size 1152x648 with 12 Axes>"
            ],
            "image/png": "[encoded data removed]"
          },
          "metadata": {
            "needs_background": "light"
          }
        }
      ]
    },
    {
      "cell_type": "markdown",
      "source": [
        "The data overall is distributed fairly evenly, but the only normally distributed data that is present is age so this will affect the algorithms that would optimally be used. It also has to be noted that the salary column has a significantly large range compared to the other columns."
      ],
      "metadata": {
        "id": "K6bUfZ0GCmXf"
      }
    },
    {
      "cell_type": "markdown",
      "source": [
        "<h4>1b. From the dataset profiling task (1.a.), please explain the relationship\n",
        "between (1) the customer’s Age and their Salary; (2) the customer’s marital status and\n",
        "their salary; (3) the customer’s salary and their amount spent in Bee Department\n",
        "Store. Please explain it using data and visualization. "
      ],
      "metadata": {
        "id": "fH4q9GapmrrK"
      }
    },
    {
      "cell_type": "code",
      "source": [
        "corr_matrix = categorizedMarketingData.corr()\n",
        "sb.heatmap(data = corr_matrix, annot = True)\n",
        "plt.show()"
      ],
      "metadata": {
        "colab": {
          "base_uri": "https://localhost:8080/",
          "height": 541
        },
        "id": "D-AtLWxWmShU",
        "outputId": "31447165-21c2-46ac-a6d5-f57aaef50db3"
      },
      "execution_count": 226,
      "outputs": [
        {
          "output_type": "display_data",
          "data": {
            "text/plain": [
              "<Figure size 1152x648 with 2 Axes>"
            ],
            "image/png": "[encoded data removed]"
          },
          "metadata": {
            "needs_background": "light"
          }
        }
      ]
    },
    {
      "cell_type": "markdown",
      "source": [
        "From the correlation matrix we can infer that:\n",
        "1. The customer's age and salary has a positive correlation (0.38)\n",
        "2. The customer's marital status and salary has a strong positive correlation (0.68)\n",
        "3. The customer's has the strongest correlation and is positive (0.72)"
      ],
      "metadata": {
        "id": "vQfOIS76muij"
      }
    },
    {
      "cell_type": "markdown",
      "source": [
        "<h4>1c. Perform data pre-processing and features engineering process on\n",
        "the dataset! Please explain the motivation on why do you choose such data\n",
        "processing and feature engineering techniques. Moreover, please explain the process\n",
        "and the results."
      ],
      "metadata": {
        "id": "xfQI-JxD1mW9"
      }
    },
    {
      "cell_type": "markdown",
      "source": [
        "I already performed the necessary pre-processing and feature engineering in the previous sections, so I'll review and break down what I used in this section. "
      ],
      "metadata": {
        "id": "bcdi1RX62h_l"
      }
    },
    {
      "cell_type": "markdown",
      "source": [
        "- <b>Handling of null data (data imputation)</b>\n",
        "\n",
        "Our dataset contained null values in the history column. In the case file this column was described as \"purchase volume history\", so it was infered that having the column as null means the customer never made a purchase in the department store, because the category was sortable (low - high), a new category (0) was made and assigned in place of the null value. Results can be viewed in the handling null values section in 1a."
      ],
      "metadata": {
        "id": "hKJIFH0K3QGK"
      }
    },
    {
      "cell_type": "markdown",
      "source": [
        "- <b>Handling categorical data (categorical imputation)</b>\n",
        "\n",
        "The dataset contains a lot of columns that are categorical in nature, so we need to change them into integer values so the machine learning models can process the information. Several methods can be applied such as vectorization or encoding. The categorical data was simple in nature so I applied Ordinal Encoding manually, that is replacing each label with a set integer value. The results can be viewed in the handling categorical data section of 1a. "
      ],
      "metadata": {
        "id": "7SrqdH1Z3R9A"
      }
    },
    {
      "cell_type": "markdown",
      "source": [
        "If using distance based algorithms, a data with large distances and variances might take a lot longer to process, therefore feature scaling is necessary, one such column is the salary column. This column is an outlier in the entire datase ranging from thousands to tenths of thousands."
      ],
      "metadata": {
        "id": "Gwpev5MnuffR"
      }
    },
    {
      "cell_type": "markdown",
      "source": [
        "In this approach, we look back to the histogram and see that the distribution of the salary column is not shaped in a bell curve, meaning it is not normally distributed, as standardization utilizes the z-score it is not very ideal for non-normally distributed data, as such I decided to use MinMaxScaler or normalization instead."
      ],
      "metadata": {
        "id": "ptV9I0t7v2Uu"
      }
    },
    {
      "cell_type": "markdown",
      "source": [
        "<b> Feature scaling (Normalization)"
      ],
      "metadata": {
        "id": "qP0lH9_0vBBL"
      }
    },
    {
      "cell_type": "markdown",
      "source": [
        "Importing required libary"
      ],
      "metadata": {
        "id": "ITDSeHxRvD9-"
      }
    },
    {
      "cell_type": "code",
      "source": [
        "from sklearn.preprocessing import MinMaxScaler"
      ],
      "metadata": {
        "id": "hY8ZEzZivG1B"
      },
      "execution_count": 227,
      "outputs": []
    },
    {
      "cell_type": "markdown",
      "source": [
        "Scaling the column"
      ],
      "metadata": {
        "id": "-JRFFiatvTHa"
      }
    },
    {
      "cell_type": "code",
      "source": [
        "scaler = MinMaxScaler()\n",
        "\n",
        "categorizedMarketingData[\"Salary\"] = scaler.fit_transform(categorizedMarketingData[[\"Salary\"]])\n",
        "\n",
        "categorizedMarketingData.describe()"
      ],
      "metadata": {
        "colab": {
          "base_uri": "https://localhost:8080/",
          "height": 300
        },
        "id": "Hme5RvlWvVSy",
        "outputId": "07f612b2-8990-4f64-9021-14c68f0b4007"
      },
      "execution_count": 228,
      "outputs": [
        {
          "output_type": "execute_result",
          "data": {
            "text/plain": [
              "               Age       Gender      OwnHome      Married     Location  \\\n",
              "count  1000.000000  1000.000000  1000.000000  1000.000000  1000.000000   \n",
              "mean      0.918000     0.506000     0.484000     0.502000     0.290000   \n",
              "std       0.696966     0.500214     0.499994     0.500246     0.453989   \n",
              "min       0.000000     0.000000     0.000000     0.000000     0.000000   \n",
              "25%       0.000000     0.000000     0.000000     0.000000     0.000000   \n",
              "50%       1.000000     1.000000     0.000000     1.000000     0.000000   \n",
              "75%       1.000000     1.000000     1.000000     1.000000     1.000000   \n",
              "max       2.000000     1.000000     1.000000     1.000000     1.000000   \n",
              "\n",
              "            Salary    Children      History     Catalogs  AmountSpent  \n",
              "count  1000.000000  1000.00000  1000.000000  1000.000000  1000.000000  \n",
              "mean      0.289880     0.93400     1.419000    14.682000     1.499000  \n",
              "std       0.192919     1.05107     1.166533     6.622895     1.118593  \n",
              "min       0.000000     0.00000     0.000000     6.000000     0.000000  \n",
              "25%       0.125236     0.00000     0.000000     6.000000     0.750000  \n",
              "50%       0.274732     1.00000     1.000000    12.000000     1.000000  \n",
              "75%       0.421708     2.00000     3.000000    18.000000     2.250000  \n",
              "max       1.000000     3.00000     3.000000    24.000000     3.000000  "
            ],
            "text/html": [
              "\n",
              "  <div id=\"df-7e027ab1-6f3a-402e-a8b5-014e8ebdf33e\">\n",
              "    <div class=\"colab-df-container\">\n",
              "      <div>\n",
              "<style scoped>\n",
              "    .dataframe tbody tr th:only-of-type {\n",
              "        vertical-align: middle;\n",
              "    }\n",
              "\n",
              "    .dataframe tbody tr th {\n",
              "        vertical-align: top;\n",
              "    }\n",
              "\n",
              "    .dataframe thead th {\n",
              "        text-align: right;\n",
              "    }\n",
              "</style>\n",
              "<table border=\"1\" class=\"dataframe\">\n",
              "  <thead>\n",
              "    <tr style=\"text-align: right;\">\n",
              "      <th></th>\n",
              "      <th>Age</th>\n",
              "      <th>Gender</th>\n",
              "      <th>OwnHome</th>\n",
              "      <th>Married</th>\n",
              "      <th>Location</th>\n",
              "      <th>Salary</th>\n",
              "      <th>Children</th>\n",
              "      <th>History</th>\n",
              "      <th>Catalogs</th>\n",
              "      <th>AmountSpent</th>\n",
              "    </tr>\n",
              "  </thead>\n",
              "  <tbody>\n",
              "    <tr>\n",
              "      <th>count</th>\n",
              "      <td>1000.000000</td>\n",
              "      <td>1000.000000</td>\n",
              "      <td>1000.000000</td>\n",
              "      <td>1000.000000</td>\n",
              "      <td>1000.000000</td>\n",
              "      <td>1000.000000</td>\n",
              "      <td>1000.00000</td>\n",
              "      <td>1000.000000</td>\n",
              "      <td>1000.000000</td>\n",
              "      <td>1000.000000</td>\n",
              "    </tr>\n",
              "    <tr>\n",
              "      <th>mean</th>\n",
              "      <td>0.918000</td>\n",
              "      <td>0.506000</td>\n",
              "      <td>0.484000</td>\n",
              "      <td>0.502000</td>\n",
              "      <td>0.290000</td>\n",
              "      <td>0.289880</td>\n",
              "      <td>0.93400</td>\n",
              "      <td>1.419000</td>\n",
              "      <td>14.682000</td>\n",
              "      <td>1.499000</td>\n",
              "    </tr>\n",
              "    <tr>\n",
              "      <th>std</th>\n",
              "      <td>0.696966</td>\n",
              "      <td>0.500214</td>\n",
              "      <td>0.499994</td>\n",
              "      <td>0.500246</td>\n",
              "      <td>0.453989</td>\n",
              "      <td>0.192919</td>\n",
              "      <td>1.05107</td>\n",
              "      <td>1.166533</td>\n",
              "      <td>6.622895</td>\n",
              "      <td>1.118593</td>\n",
              "    </tr>\n",
              "    <tr>\n",
              "      <th>min</th>\n",
              "      <td>0.000000</td>\n",
              "      <td>0.000000</td>\n",
              "      <td>0.000000</td>\n",
              "      <td>0.000000</td>\n",
              "      <td>0.000000</td>\n",
              "      <td>0.000000</td>\n",
              "      <td>0.00000</td>\n",
              "      <td>0.000000</td>\n",
              "      <td>6.000000</td>\n",
              "      <td>0.000000</td>\n",
              "    </tr>\n",
              "    <tr>\n",
              "      <th>25%</th>\n",
              "      <td>0.000000</td>\n",
              "      <td>0.000000</td>\n",
              "      <td>0.000000</td>\n",
              "      <td>0.000000</td>\n",
              "      <td>0.000000</td>\n",
              "      <td>0.125236</td>\n",
              "      <td>0.00000</td>\n",
              "      <td>0.000000</td>\n",
              "      <td>6.000000</td>\n",
              "      <td>0.750000</td>\n",
              "    </tr>\n",
              "    <tr>\n",
              "      <th>50%</th>\n",
              "      <td>1.000000</td>\n",
              "      <td>1.000000</td>\n",
              "      <td>0.000000</td>\n",
              "      <td>1.000000</td>\n",
              "      <td>0.000000</td>\n",
              "      <td>0.274732</td>\n",
              "      <td>1.00000</td>\n",
              "      <td>1.000000</td>\n",
              "      <td>12.000000</td>\n",
              "      <td>1.000000</td>\n",
              "    </tr>\n",
              "    <tr>\n",
              "      <th>75%</th>\n",
              "      <td>1.000000</td>\n",
              "      <td>1.000000</td>\n",
              "      <td>1.000000</td>\n",
              "      <td>1.000000</td>\n",
              "      <td>1.000000</td>\n",
              "      <td>0.421708</td>\n",
              "      <td>2.00000</td>\n",
              "      <td>3.000000</td>\n",
              "      <td>18.000000</td>\n",
              "      <td>2.250000</td>\n",
              "    </tr>\n",
              "    <tr>\n",
              "      <th>max</th>\n",
              "      <td>2.000000</td>\n",
              "      <td>1.000000</td>\n",
              "      <td>1.000000</td>\n",
              "      <td>1.000000</td>\n",
              "      <td>1.000000</td>\n",
              "      <td>1.000000</td>\n",
              "      <td>3.00000</td>\n",
              "      <td>3.000000</td>\n",
              "      <td>24.000000</td>\n",
              "      <td>3.000000</td>\n",
              "    </tr>\n",
              "  </tbody>\n",
              "</table>\n",
              "</div>\n",
              "      <button class=\"colab-df-convert\" onclick=\"convertToInteractive('df-7e027ab1-6f3a-402e-a8b5-014e8ebdf33e')\"\n",
              "              title=\"Convert this dataframe to an interactive table.\"\n",
              "              style=\"display:none;\">\n",
              "        \n",
              "  <svg xmlns=\"http://www.w3.org/2000/svg\" height=\"24px\"viewBox=\"0 0 24 24\"\n",
              "       width=\"24px\">\n",
              "    <path d=\"M0 0h24v24H0V0z\" fill=\"none\"/>\n",
              "    <path d=\"M18.56 5.44l.94 2.06.94-2.06 2.06-.94-2.06-.94-.94-2.06-.94 2.06-2.06.94zm-11 1L8.5 8.5l.94-2.06 2.06-.94-2.06-.94L8.5 2.5l-.94 2.06-2.06.94zm10 10l.94 2.06.94-2.06 2.06-.94-2.06-.94-.94-2.06-.94 2.06-2.06.94z\"/><path d=\"M17.41 7.96l-1.37-1.37c-.4-.4-.92-.59-1.43-.59-.52 0-1.04.2-1.43.59L10.3 9.45l-7.72 7.72c-.78.78-.78 2.05 0 2.83L4 21.41c.39.39.9.59 1.41.59.51 0 1.02-.2 1.41-.59l7.78-7.78 2.81-2.81c.8-.78.8-2.07 0-2.86zM5.41 20L4 18.59l7.72-7.72 1.47 1.35L5.41 20z\"/>\n",
              "  </svg>\n",
              "      </button>\n",
              "      \n",
              "  <style>\n",
              "    .colab-df-container {\n",
              "      display:flex;\n",
              "      flex-wrap:wrap;\n",
              "      gap: 12px;\n",
              "    }\n",
              "\n",
              "    .colab-df-convert {\n",
              "      background-color: #E8F0FE;\n",
              "      border: none;\n",
              "      border-radius: 50%;\n",
              "      cursor: pointer;\n",
              "      display: none;\n",
              "      fill: #1967D2;\n",
              "      height: 32px;\n",
              "      padding: 0 0 0 0;\n",
              "      width: 32px;\n",
              "    }\n",
              "\n",
              "    .colab-df-convert:hover {\n",
              "      background-color: #E2EBFA;\n",
              "      box-shadow: 0px 1px 2px rgba(60, 64, 67, 0.3), 0px 1px 3px 1px rgba(60, 64, 67, 0.15);\n",
              "      fill: #174EA6;\n",
              "    }\n",
              "\n",
              "    [theme=dark] .colab-df-convert {\n",
              "      background-color: #3B4455;\n",
              "      fill: #D2E3FC;\n",
              "    }\n",
              "\n",
              "    [theme=dark] .colab-df-convert:hover {\n",
              "      background-color: #434B5C;\n",
              "      box-shadow: 0px 1px 3px 1px rgba(0, 0, 0, 0.15);\n",
              "      filter: drop-shadow(0px 1px 2px rgba(0, 0, 0, 0.3));\n",
              "      fill: #FFFFFF;\n",
              "    }\n",
              "  </style>\n",
              "\n",
              "      <script>\n",
              "        const buttonEl =\n",
              "          document.querySelector('#df-7e027ab1-6f3a-402e-a8b5-014e8ebdf33e button.colab-df-convert');\n",
              "        buttonEl.style.display =\n",
              "          google.colab.kernel.accessAllowed ? 'block' : 'none';\n",
              "\n",
              "        async function convertToInteractive(key) {\n",
              "          const element = document.querySelector('#df-7e027ab1-6f3a-402e-a8b5-014e8ebdf33e');\n",
              "          const dataTable =\n",
              "            await google.colab.kernel.invokeFunction('convertToInteractive',\n",
              "                                                     [key], {});\n",
              "          if (!dataTable) return;\n",
              "\n",
              "          const docLinkHtml = 'Like what you see? Visit the ' +\n",
              "            '<a target=\"_blank\" href=https://colab.research.google.com/notebooks/data_table.ipynb>data table notebook</a>'\n",
              "            + ' to learn more about interactive tables.';\n",
              "          element.innerHTML = '';\n",
              "          dataTable['output_type'] = 'display_data';\n",
              "          await google.colab.output.renderOutput(dataTable, element);\n",
              "          const docLink = document.createElement('div');\n",
              "          docLink.innerHTML = docLinkHtml;\n",
              "          element.appendChild(docLink);\n",
              "        }\n",
              "      </script>\n",
              "    </div>\n",
              "  </div>\n",
              "  "
            ]
          },
          "metadata": {},
          "execution_count": 228
        }
      ]
    },
    {
      "cell_type": "markdown",
      "source": [
        "<h3>1d. Perform feature selection and prepare your data correctly for the\n",
        "machine learning training process. Please explain why do you choose the features and explain the process."
      ],
      "metadata": {
        "id": "ZUC3YnTW0Xw8"
      }
    },
    {
      "cell_type": "markdown",
      "source": [
        "<b>Importing additional required libraries"
      ],
      "metadata": {
        "id": "V-7UiPpQnO1t"
      }
    },
    {
      "cell_type": "code",
      "source": [
        "import itertools"
      ],
      "metadata": {
        "id": "vx3xRihSlYyX"
      },
      "execution_count": 229,
      "outputs": []
    },
    {
      "cell_type": "markdown",
      "source": [
        "<b>Performing feature subset selection"
      ],
      "metadata": {
        "id": "qJH6DQpYnnLA"
      }
    },
    {
      "cell_type": "markdown",
      "source": [
        "Based on implementation in: https://github.com/andrychowanda/COMP6577/blob/master/COMP6577-5.ipynb"
      ],
      "metadata": {
        "id": "aYGIaUi3ovhH"
      }
    },
    {
      "cell_type": "markdown",
      "source": [
        "There are several common variables that might be built a prediction model around, I'll assume the model will be predicting the `AmountSpent` column."
      ],
      "metadata": {
        "id": "F0f8bCYJriI2"
      }
    },
    {
      "cell_type": "code",
      "source": [
        "# amount spent\n",
        "x = categorizedMarketingData[[\"Age\", \"Gender\", \"OwnHome\", \"Married\", \"Location\", \"Children\", \"History\", \"Catalogs\", \"Salary\"]]\n",
        "y = categorizedMarketingData[\"AmountSpent\"]"
      ],
      "metadata": {
        "id": "_SKXeHFzo6EQ"
      },
      "execution_count": 230,
      "outputs": []
    },
    {
      "cell_type": "code",
      "source": [
        "k = x.shape[1]\n",
        "RSS, R2, features = [],[],[]\n",
        "n = []\n",
        "\n",
        "for k in range(1,len(x.columns) + 1):\n",
        "    for i in itertools.combinations(x.columns, k):  \n",
        "        LRG = linear_model.LinearRegression().fit(x[list(i)], y)\n",
        "        RSS.append(mean_squared_error(y, LRG.predict(x[list(i)])) * len(y))\n",
        "        R2.append(r2_score(y, LRG.predict(x[list(i)])))\n",
        "        features.append(i)\n",
        "        n.append(len(i))   \n",
        "\n",
        "subset = pd.DataFrame({'n': n,'RSS': RSS, 'R2':R2,'features': features})\n",
        "\n",
        "subset['Min_RSS'] = subset.groupby('n')['RSS'].transform(min)\n",
        "subset['Max_R2'] = subset.groupby('n')['R2'].transform(max)\n",
        "print(subset)"
      ],
      "metadata": {
        "colab": {
          "base_uri": "https://localhost:8080/"
        },
        "id": "NB6vt0itlrEr",
        "outputId": "948c80cf-5c67-4c15-e207-d4f917c4546f"
      },
      "execution_count": 231,
      "outputs": [
        {
          "output_type": "stream",
          "name": "stdout",
          "text": [
            "     n          RSS        R2  \\\n",
            "0    1  1057.148287  0.154281   \n",
            "1    1  1173.265598  0.061387   \n",
            "2    1  1072.549347  0.141960   \n",
            "3    1   926.228268  0.259017   \n",
            "4    1  1200.170617  0.039863   \n",
            "..  ..          ...       ...   \n",
            "506  8   335.141951  0.731886   \n",
            "507  8   335.686044  0.731451   \n",
            "508  8   335.420730  0.731663   \n",
            "509  8   335.753207  0.731397   \n",
            "510  9   334.602345  0.732318   \n",
            "\n",
            "                                              features     Min_RSS    Max_R2  \n",
            "0                                               (Age,)  607.028252  0.514377  \n",
            "1                                            (Gender,)  607.028252  0.514377  \n",
            "2                                           (OwnHome,)  607.028252  0.514377  \n",
            "3                                           (Married,)  607.028252  0.514377  \n",
            "4                                          (Location,)  607.028252  0.514377  \n",
            "..                                                 ...         ...       ...  \n",
            "506  (Age, Gender, OwnHome, Location, Children, His...  335.141951  0.731886  \n",
            "507  (Age, Gender, Married, Location, Children, His...  335.141951  0.731886  \n",
            "508  (Age, OwnHome, Married, Location, Children, Hi...  335.141951  0.731886  \n",
            "509  (Gender, OwnHome, Married, Location, Children,...  335.141951  0.731886  \n",
            "510  (Age, Gender, OwnHome, Married, Location, Chil...  334.602345  0.732318  \n",
            "\n",
            "[511 rows x 6 columns]\n"
          ]
        }
      ]
    },
    {
      "cell_type": "code",
      "source": [
        "Max_R2 = subset['R2'].max()\n",
        "Min_RSS = subset['RSS'].min()\n",
        "print(\"Max R2  : \", Max_R2)\n",
        "print(\"Min RSS : \", Min_RSS)\n",
        "index_R2 = subset['R2'].idxmax()\n",
        "index_RSS = subset['RSS'].idxmin()\n",
        "print (subset['features'][index_R2])\n",
        "print (subset['features'][index_RSS])"
      ],
      "metadata": {
        "colab": {
          "base_uri": "https://localhost:8080/"
        },
        "id": "Hc9968Til9yG",
        "outputId": "a4016bb9-bac0-4fec-e131-7710792bfe80"
      },
      "execution_count": 232,
      "outputs": [
        {
          "output_type": "stream",
          "name": "stdout",
          "text": [
            "Max R2  :  0.7323179101902855\n",
            "Min RSS :  334.60234458005334\n",
            "('Age', 'Gender', 'OwnHome', 'Married', 'Location', 'Children', 'History', 'Catalogs', 'Salary')\n",
            "('Age', 'Gender', 'OwnHome', 'Married', 'Location', 'Children', 'History', 'Catalogs', 'Salary')\n"
          ]
        }
      ]
    },
    {
      "cell_type": "markdown",
      "source": [
        "After running the code, we can see that all the columns should be included, this is supported by the correlation matrix when looking at the correlation for both variables each column has a notable impact with the weakest being 0.05 for the correlation between Salary and Children"
      ],
      "metadata": {
        "id": "ZOIkTvnZqKdY"
      }
    },
    {
      "cell_type": "markdown",
      "source": [
        "<b>Splitting data"
      ],
      "metadata": {
        "id": "kV26PDkpfkBF"
      }
    },
    {
      "cell_type": "markdown",
      "source": [
        "Importing required library"
      ],
      "metadata": {
        "id": "gc0wlj6sfz9G"
      }
    },
    {
      "cell_type": "code",
      "source": [
        "from sklearn.model_selection import train_test_split"
      ],
      "metadata": {
        "id": "i_uuGSpafjpW"
      },
      "execution_count": 233,
      "outputs": []
    },
    {
      "cell_type": "markdown",
      "source": [
        "Performing split"
      ],
      "metadata": {
        "id": "e7xLBoq4f136"
      }
    },
    {
      "cell_type": "code",
      "source": [
        "xTrain, xTest, yTrain, yTest = train_test_split(x, y, test_size = 0.2)"
      ],
      "metadata": {
        "id": "FfArTNOTf3RP"
      },
      "execution_count": 234,
      "outputs": []
    },
    {
      "cell_type": "markdown",
      "source": [
        "<h4> 2a. Choose at least three machine learning algorithms of your choice to\n",
        "predict the customer amount spent at the Bee Department Store (AmountSpent).\n",
        "Please explain your choice, the training process, and the training results."
      ],
      "metadata": {
        "id": "hUQxw4eTWagj"
      }
    },
    {
      "cell_type": "markdown",
      "source": [
        "<b>Problem:</b>\n",
        "\n",
        "Predicting `AmountSpent`, a categorical variable, in other words <b>Classification</b>"
      ],
      "metadata": {
        "id": "mpQw9fIUkf1l"
      }
    },
    {
      "cell_type": "markdown",
      "source": [
        "<b>Algorithms of choice:</b>\n",
        "1. Random Forest\n",
        "2. K-Nearest Neighbours\n",
        "3. SVM"
      ],
      "metadata": {
        "id": "ilYEs-ZuX_oO"
      }
    },
    {
      "cell_type": "markdown",
      "source": [
        "<b>Reason to choose:</b>\n",
        "\n",
        "All three are popular machine algorithms that differs fundamentally in the way they work, random forest being rule-based, to be more precise on decision trees, k-Nearest Neighbors being based on the distance between variables acts as the simplest option and SVM being based on support vector machines that is the boundaries between variables in a hyperplane."
      ],
      "metadata": {
        "id": "ev1Q5ecMbjJS"
      }
    },
    {
      "cell_type": "markdown",
      "source": [
        "<b>Random Forest<b>"
      ],
      "metadata": {
        "id": "8-Czb9Cac68F"
      }
    },
    {
      "cell_type": "markdown",
      "source": [
        "Importing required libraries"
      ],
      "metadata": {
        "id": "LF8JYihlfO_M"
      }
    },
    {
      "cell_type": "code",
      "source": [
        "from sklearn.ensemble import RandomForestClassifier"
      ],
      "metadata": {
        "id": "YmY_twWWc5E6"
      },
      "execution_count": 235,
      "outputs": []
    },
    {
      "cell_type": "markdown",
      "source": [
        "Training the model"
      ],
      "metadata": {
        "id": "AfVj4JaffYg5"
      }
    },
    {
      "cell_type": "code",
      "source": [
        "rf = RandomForestClassifier(max_depth = 3)\n",
        "rf.fit(xTrain, yTrain)"
      ],
      "metadata": {
        "colab": {
          "base_uri": "https://localhost:8080/"
        },
        "id": "pdWaVD7lgbqx",
        "outputId": "e403e10a-181a-4ca1-a9d7-26989b2d022a"
      },
      "execution_count": 236,
      "outputs": [
        {
          "output_type": "execute_result",
          "data": {
            "text/plain": [
              "RandomForestClassifier(max_depth=3)"
            ]
          },
          "metadata": {},
          "execution_count": 236
        }
      ]
    },
    {
      "cell_type": "markdown",
      "source": [
        "Running the model"
      ],
      "metadata": {
        "id": "GNje7MTDlTtZ"
      }
    },
    {
      "cell_type": "code",
      "source": [
        "rfRes = rf.predict(xTest)\n",
        "\n",
        "for i in range(len(xTest)):\n",
        "  print(xTest.values[i], rfRes[i])"
      ],
      "metadata": {
        "id": "Y7_P52nklTSC",
        "colab": {
          "base_uri": "https://localhost:8080/"
        },
        "outputId": "5115bcab-9d2d-4bde-8c36-148f0a647527"
      },
      "execution_count": 237,
      "outputs": [
        {
          "output_type": "stream",
          "name": "stdout",
          "text": [
            "[1.         1.         0.         1.         0.         2.\n",
            " 2.         6.         0.41965974] 1\n",
            "[2.         1.         1.         1.         0.         0.\n",
            " 2.         6.         0.23188406] 1\n",
            "[2.         1.         0.         0.         0.         0.\n",
            " 0.         6.         0.00819156] 0\n",
            "[0.         1.         1.         0.         1.         1.\n",
            " 1.         6.         0.02709515] 0\n",
            "[0.         1.         1.         0.         0.         2.\n",
            " 0.         6.         0.07309389] 0\n",
            "[ 0.         1.         1.         0.         0.         1.\n",
            "  0.        12.         0.0447385] 0\n",
            "[0.0000000e+00 1.0000000e+00 1.0000000e+00 0.0000000e+00 1.0000000e+00\n",
            " 3.0000000e+00 0.0000000e+00 1.2000000e+01 8.1915564e-03] 0\n",
            "[ 0.          0.          1.          0.          0.          1.\n",
            "  0.         24.          0.02583491] 0\n",
            "[ 0.          1.          0.          0.          0.          2.\n",
            "  1.         24.          0.10712035] 0\n",
            "[ 0.          1.          1.          1.          1.          0.\n",
            "  2.         12.          0.12602394] 1\n",
            "[ 1.          0.          1.          0.          1.          0.\n",
            "  3.         18.          0.24511657] 3\n",
            "[ 0.          0.          1.          0.          0.          0.\n",
            "  0.         18.          0.04914934] 0\n",
            "[ 1.          0.          1.          0.          0.          1.\n",
            "  2.         18.          0.22117202] 1\n",
            "[ 2.          1.          0.          1.          1.          0.\n",
            "  0.         12.          0.43604285] 3\n",
            "[ 2.          0.          0.          1.          0.          0.\n",
            "  3.         18.          0.40768746] 3\n",
            "[ 0.          1.          1.          0.          0.          0.\n",
            "  1.         18.          0.02142407] 0\n",
            "[0.         0.         1.         1.         0.         0.\n",
            " 2.         6.         0.22306238] 1\n",
            "[ 0.          0.          0.          1.          0.          0.\n",
            "  0.         18.          0.30749842] 2\n",
            "[ 2.          1.          0.          1.          0.          0.\n",
            "  2.         12.          0.25771897] 1\n",
            "[ 2.          1.          1.          1.          1.          0.\n",
            "  3.         18.          0.31568998] 3\n",
            "[ 1.          0.          0.          1.          1.          1.\n",
            "  3.         24.          0.71140517] 3\n",
            "[ 1.          0.          1.          0.          0.          0.\n",
            "  3.         12.          0.39004411] 2\n",
            "[1.         0.         0.         1.         0.         0.\n",
            " 3.         6.         0.67926906] 3\n",
            "[2.         0.         1.         1.         0.         0.\n",
            " 3.         6.         0.45179584] 3\n",
            "[0.         0.         1.         1.         0.         1.\n",
            " 1.         6.         0.10901071] 0\n",
            "[1.         0.         0.         0.         0.         3.\n",
            " 0.         6.         0.25519849] 1\n",
            "[ 1.          0.          0.          0.          0.          0.\n",
            "  3.         24.          0.33459357] 2\n",
            "[ 1.          1.          1.          1.          0.          1.\n",
            "  3.         18.          0.52551985] 3\n",
            "[1.         1.         0.         0.         0.         3.\n",
            " 0.         6.         0.27221172] 1\n",
            "[ 1.          0.          0.          1.          0.          0.\n",
            "  3.         18.          0.55072464] 3\n",
            "[1.         0.         1.         1.         1.         1.\n",
            " 0.         6.         0.33963453] 2\n",
            "[ 1.          0.          1.          1.          0.          0.\n",
            "  3.         18.          0.43730309] 3\n",
            "[ 1.          1.          1.          1.          1.          1.\n",
            "  3.         18.          0.31505986] 3\n",
            "[ 1.          1.          0.          1.          0.          1.\n",
            "  3.         24.          0.46124764] 3\n",
            "[ 2.          1.          1.          1.          0.          0.\n",
            "  3.         18.          0.36862004] 3\n",
            "[ 0.          0.          1.          1.          0.          0.\n",
            "  0.         24.          0.24700693] 2\n",
            "[ 1.          1.          1.          1.          0.          1.\n",
            "  2.         18.          0.43982357] 3\n",
            "[ 2.          1.          1.          1.          1.          0.\n",
            "  3.         18.          0.34341525] 3\n",
            "[ 1.          0.          1.          0.          0.          0.\n",
            "  0.         18.          0.26654064] 2\n",
            "[ 2.          0.          1.          1.          0.          0.\n",
            "  3.         12.          0.38878387] 3\n",
            "[ 2.          0.          0.          1.          0.          0.\n",
            "  3.         24.          0.50724638] 3\n",
            "[2.         1.         0.         0.         0.         0.\n",
            " 1.         6.         0.04536862] 0\n",
            "[ 0.          0.          1.          0.          0.          0.\n",
            "  1.         24.          0.07057341] 0\n",
            "[ 2.         1.         0.         1.         1.         0.\n",
            "  2.        18.         0.1726528] 1\n",
            "[ 1.         0.         1.         0.         0.         0.\n",
            "  2.        18.         0.2236925] 1\n",
            "[ 2.          0.          0.          1.          1.          0.\n",
            "  2.         12.          0.14429742] 1\n",
            "[ 1.          0.          1.          1.          0.          1.\n",
            "  3.         24.          0.54379332] 3\n",
            "[ 0.          1.          1.          1.          1.          1.\n",
            "  2.         12.          0.23377442] 1\n",
            "[ 2.          1.          1.          1.          0.          0.\n",
            "  3.         18.          0.47069943] 3\n",
            "[ 1.          1.          1.          0.          0.          1.\n",
            "  2.         24.          0.22936358] 1\n",
            "[ 2.          0.          0.          1.          0.          0.\n",
            "  2.         24.          0.30371771] 2\n",
            "[ 1.          0.          0.          1.          0.          0.\n",
            "  3.         24.          0.44801512] 3\n",
            "[0.         1.         0.         0.         0.         1.\n",
            " 2.         6.         0.21802142] 1\n",
            "[ 1.          0.          0.          1.          0.          0.\n",
            "  3.         18.          0.48582231] 3\n",
            "[0.00000000e+00 1.00000000e+00 1.00000000e+00 0.00000000e+00\n",
            " 1.00000000e+00 3.00000000e+00 1.00000000e+00 1.80000000e+01\n",
            " 1.44927536e-02] 0\n",
            "[ 2.          1.          0.          1.          1.          2.\n",
            "  2.         12.          0.14807813] 1\n",
            "[ 0.          0.          1.          1.          0.          0.\n",
            "  2.         18.          0.16887209] 1\n",
            "[1.         1.         1.         1.         0.         2.\n",
            " 1.         6.         0.31758034] 1\n",
            "[ 2.          1.          1.          0.          0.          0.\n",
            "  0.         12.          0.03024575] 0\n",
            "[ 2.          1.          0.          1.          1.          0.\n",
            "  3.         18.          0.37996219] 3\n",
            "[ 1.          1.          1.          0.          0.          1.\n",
            "  1.         24.          0.19092628] 1\n",
            "[ 0.          0.          1.          0.          0.          0.\n",
            "  1.         12.          0.08443604] 0\n",
            "[ 2.          0.          0.          0.          0.          0.\n",
            "  2.         18.          0.22432262] 1\n",
            "[0.         1.         1.         1.         0.         0.\n",
            " 0.         6.         0.43667297] 1\n",
            "[ 1.          1.          0.          0.          0.          1.\n",
            "  2.         12.          0.21045999] 1\n",
            "[ 1.          1.          1.          0.          0.          0.\n",
            "  0.         18.          0.15879017] 1\n",
            "[ 2.          1.          1.          1.          0.          0.\n",
            "  2.         18.          0.19911783] 1\n",
            "[ 0.          1.          1.          0.          0.          1.\n",
            "  0.         18.          0.05860113] 0\n",
            "[0.         1.         1.         0.         0.         1.\n",
            " 0.         6.         0.02016383] 0\n",
            "[ 1.         0.         0.         1.         0.         1.\n",
            "  3.        24.         0.5431632] 3\n",
            "[2.         1.         1.         0.         1.         0.\n",
            " 1.         6.         0.04914934] 0\n",
            "[1.         0.         1.         0.         1.         1.\n",
            " 0.         6.         0.28796471] 2\n",
            "[ 0.          1.          1.          0.          1.          1.\n",
            "  1.         12.          0.06679269] 0\n",
            "[ 1.          1.          0.          0.          0.          0.\n",
            "  2.         12.          0.15816005] 1\n",
            "[1.         1.         1.         0.         1.         1.\n",
            " 2.         6.         0.21865154] 1\n",
            "[ 1.          0.          1.          1.          1.          0.\n",
            "  3.         18.          0.33333333] 3\n",
            "[ 2.          0.          0.          1.          1.          2.\n",
            "  3.         24.          0.42091997] 3\n",
            "[ 2.          1.          0.          1.          0.          0.\n",
            "  3.         12.          0.40705734] 3\n",
            "[1.         1.         1.         0.         0.         1.\n",
            " 2.         6.         0.30560807] 1\n",
            "[ 1.          0.          0.          0.          0.          1.\n",
            "  2.         24.          0.24385633] 1\n",
            "[ 1.          0.          0.          1.          0.          1.\n",
            "  0.         24.          0.51795841] 3\n",
            "[2.         1.         0.         0.         0.         0.\n",
            " 0.         6.         0.34341525] 1\n",
            "[ 2.          0.          0.          1.          0.          0.\n",
            "  2.         12.          0.25897921] 1\n",
            "[ 1.          1.          0.          1.          1.          1.\n",
            "  3.         12.          0.68178954] 3\n",
            "[ 0.          0.          1.          0.          1.          0.\n",
            "  1.         24.          0.03276623] 0\n",
            "[ 1.          0.          1.          1.          1.          2.\n",
            "  3.         18.          0.48519219] 3\n",
            "[ 1.          0.          0.          0.          1.          1.\n",
            "  0.         18.          0.21991178] 2\n",
            "[ 2.          0.          1.          1.          1.          0.\n",
            "  3.         24.          0.35349716] 3\n",
            "[ 2.          1.          1.          1.          1.          0.\n",
            "  3.         18.          0.49338374] 3\n",
            "[0.000000e+00 1.000000e+00 1.000000e+00 0.000000e+00 1.000000e+00\n",
            " 2.000000e+00 0.000000e+00 2.400000e+01 2.268431e-02] 0\n",
            "[ 1.          1.          0.          1.          0.          1.\n",
            "  3.         18.          0.45746692] 3\n",
            "[ 1.          0.          1.          0.          0.          0.\n",
            "  2.         12.          0.19596723] 1\n",
            "[ 0.          0.          1.          1.          0.          0.\n",
            "  2.         18.          0.18651544] 1\n",
            "[0.         1.         1.         0.         1.         2.\n",
            " 1.         6.         0.02646503] 0\n",
            "[ 0.          0.          1.          0.          0.          0.\n",
            "  1.         18.          0.02079395] 0\n",
            "[2.         1.         0.         0.         0.         0.\n",
            " 1.         6.         0.09010712] 0\n",
            "[1.         1.         1.         1.         0.         3.\n",
            " 1.         6.         0.55009452] 1\n",
            "[2.         0.         0.         0.         0.         0.\n",
            " 0.         6.         0.26023945] 1\n",
            "[2.         0.         0.         0.         1.         0.\n",
            " 3.         6.         0.32073094] 2\n",
            "[ 0.          0.          1.          1.          1.          0.\n",
            "  2.         12.          0.09451796] 0\n",
            "[ 1.          0.          0.          1.          0.          2.\n",
            "  2.         24.          0.61247637] 3\n",
            "[ 1.          0.          0.          0.          1.          0.\n",
            "  3.         24.          0.41146818] 3\n",
            "[0.00000000e+00 1.00000000e+00 1.00000000e+00 0.00000000e+00\n",
            " 1.00000000e+00 2.00000000e+00 1.00000000e+00 1.80000000e+01\n",
            " 6.30119723e-04] 0\n",
            "[ 0.          1.          0.          0.          1.          2.\n",
            "  2.         12.          0.14555766] 1\n",
            "[ 0.          0.          1.          0.          0.          0.\n",
            "  1.         12.          0.07435413] 0\n",
            "[ 1.          0.          1.          1.          0.          0.\n",
            "  3.         12.          0.68494014] 3\n",
            "[ 2.         1.         0.         1.         1.         0.\n",
            "  3.        24.         0.6294896] 3\n",
            "[ 0.          0.          1.          1.          0.          1.\n",
            "  2.         12.          0.26780088] 1\n",
            "[ 1.         1.         0.         0.         0.         0.\n",
            "  3.        12.         0.3673598] 2\n",
            "[ 1.          0.          0.          1.          0.          2.\n",
            "  2.         12.          0.55135476] 1\n",
            "[ 1.          0.          0.          1.          0.          2.\n",
            "  2.         18.          0.64839319] 3\n",
            "[ 1.          1.          0.          1.          0.          1.\n",
            "  0.         12.          0.45431632] 3\n",
            "[2.         1.         0.         0.         1.         1.\n",
            " 1.         6.         0.08758664] 0\n",
            "[ 0.          1.          1.          1.          1.          1.\n",
            "  0.         24.          0.14555766] 2\n",
            "[ 1.          1.          0.          1.          0.          0.\n",
            "  2.         24.          0.15879017] 1\n",
            "[ 0.          1.          1.          1.          0.          0.\n",
            "  0.         12.          0.32514178] 1\n",
            "[ 0.          1.          1.          1.          0.          3.\n",
            "  1.         12.          0.31821046] 1\n",
            "[ 1.          1.          0.          0.          0.          1.\n",
            "  0.         24.          0.16194077] 1\n",
            "[ 1.          0.          0.          0.          0.          0.\n",
            "  3.         18.          0.34089477] 2\n",
            "[ 2.          1.          0.          0.          1.          0.\n",
            "  2.         12.          0.07498425] 0\n",
            "[0.        0.        1.        0.        0.        0.        0.\n",
            " 6.        0.0989288] 0\n",
            "[ 1.          0.          0.          1.          0.          3.\n",
            "  0.         18.          0.45557656] 3\n",
            "[ 1.          0.          1.          0.          0.          1.\n",
            "  1.         18.          0.15185885] 1\n",
            "[ 0.          0.          1.          0.          0.          0.\n",
            "  0.         12.          0.03213611] 0\n",
            "[ 2.         0.         1.         0.         0.         1.\n",
            "  1.        12.         0.1405167] 1\n",
            "[ 0.          1.          1.          0.          1.          1.\n",
            "  1.         12.          0.05229994] 0\n",
            "[ 2.          1.          1.          0.          0.          0.\n",
            "  1.         12.          0.12035287] 1\n",
            "[ 1.          0.          0.          1.          0.          3.\n",
            "  0.         12.          0.58349086] 3\n",
            "[0.        1.        1.        1.        0.        1.        2.\n",
            " 6.        0.2778828] 1\n",
            "[0.         1.         1.         1.         0.         3.\n",
            " 1.         6.         0.20100819] 1\n",
            "[ 0.          1.          1.          0.          0.          1.\n",
            "  1.         12.          0.03969754] 0\n",
            "[1.         1.         1.         0.         0.         1.\n",
            " 1.         6.         0.11405167] 0\n",
            "[ 0.          1.          1.          0.          1.          2.\n",
            "  0.         24.          0.08254568] 0\n",
            "[ 1.         1.         1.         0.         0.         2.\n",
            "  0.        12.         0.2747322] 1\n",
            "[ 1.        0.        0.        1.        0.        0.        3.\n",
            " 12.        0.357908] 3\n",
            "[ 1.          1.          0.          0.          0.          1.\n",
            "  0.         12.          0.24322621] 1\n",
            "[ 2.          1.          0.          1.          1.          0.\n",
            "  3.         18.          0.43352237] 3\n",
            "[ 1.          0.          0.          0.          0.          0.\n",
            "  2.         12.          0.28859483] 1\n",
            "[ 1.          1.          0.          0.          0.          0.\n",
            "  0.         12.          0.23818526] 1\n",
            "[ 0.          1.          1.          0.          0.          1.\n",
            "  1.         18.          0.05671078] 0\n",
            "[1.        1.        0.        0.        1.        1.        0.\n",
            " 6.        0.0957782] 0\n",
            "[ 2.          0.          0.          1.          0.          0.\n",
            "  2.         24.          0.28040328] 2\n",
            "[ 2.          1.          0.          1.          0.          0.\n",
            "  2.         12.          0.24637681] 1\n",
            "[ 2.          1.          0.          1.          0.          0.\n",
            "  3.         24.          0.38185255] 3\n",
            "[ 1.          0.          1.          0.          1.          0.\n",
            "  3.         24.          0.30812854] 3\n",
            "[ 1.          0.          0.          1.          0.          3.\n",
            "  1.         12.          0.35538752] 1\n",
            "[ 1.          0.          1.          1.          1.          2.\n",
            "  3.         24.          0.46250788] 3\n",
            "[0.         1.         1.         0.         0.         1.\n",
            " 1.         6.         0.02016383] 0\n",
            "[2.         0.         1.         1.         0.         0.\n",
            " 2.         6.         0.31442974] 1\n",
            "[ 1.          0.          0.          1.          0.          2.\n",
            "  2.         12.          0.53560176] 1\n",
            "[ 1.          0.          1.          0.          0.          0.\n",
            "  2.         24.          0.21676118] 1\n",
            "[ 1.          0.          0.          1.          1.          0.\n",
            "  3.         24.          0.50031506] 3\n",
            "[ 1.          0.          0.          1.          0.          2.\n",
            "  3.         18.          0.73345936] 3\n",
            "[1.         0.         0.         1.         0.         0.\n",
            " 2.         6.         0.20541903] 1\n",
            "[ 0.          0.          1.          1.          0.          1.\n",
            "  2.         24.          0.27410208] 2\n",
            "[ 1.          0.          0.          1.          0.          1.\n",
            "  0.         12.          0.38752363] 2\n",
            "[0.         1.         1.         0.         0.         3.\n",
            " 1.         6.         0.08128544] 0\n",
            "[ 1.         0.         0.         1.         0.         1.\n",
            "  3.        18.         0.5816005] 3\n",
            "[0.         1.         1.         0.         0.         3.\n",
            " 0.         6.         0.07876497] 0\n",
            "[ 2.        1.        0.        1.        0.        0.        3.\n",
            " 18.        0.373661] 3\n",
            "[ 1.          0.          1.          0.          0.          1.\n",
            "  1.         18.          0.17958412] 1\n",
            "[ 0.          0.          0.          0.          0.          3.\n",
            "  0.         12.          0.12287335] 0\n",
            "[ 1.          0.          0.          0.          0.          0.\n",
            "  3.         24.          0.39760555] 3\n",
            "[ 1.          0.          1.          0.          1.          1.\n",
            "  2.         24.          0.16761185] 1\n",
            "[ 1.          0.          1.          1.          1.          1.\n",
            "  0.         12.          0.55135476] 3\n",
            "[ 1.          1.          0.          0.          1.          3.\n",
            "  2.         24.          0.34215501] 2\n",
            "[2.         1.         0.         0.         0.         2.\n",
            " 1.         6.         0.01638311] 0\n",
            "[0.         1.         1.         0.         1.         0.\n",
            " 1.         6.         0.04536862] 0\n",
            "[ 1.         1.         0.         0.         0.         2.\n",
            "  1.        12.         0.2268431] 1\n",
            "[ 1.          0.          0.          1.          0.          1.\n",
            "  3.         12.          0.56206679] 3\n",
            "[ 1.          1.          0.          1.          0.          3.\n",
            "  1.         24.          0.45116572] 3\n",
            "[ 1.          0.          0.          1.          0.          0.\n",
            "  3.         24.          0.59231254] 3\n",
            "[ 1.          0.          1.          0.          0.          0.\n",
            "  2.         12.          0.22558286] 1\n",
            "[1.         0.         1.         0.         1.         2.\n",
            " 0.         6.         0.30560807] 1\n",
            "[ 0.          1.          1.          0.          0.          2.\n",
            "  1.         18.          0.07561437] 0\n",
            "[ 1.          0.          0.          1.          0.          0.\n",
            "  3.         18.          0.55702583] 3\n",
            "[ 1.          0.          0.          1.          1.          0.\n",
            "  3.         24.          0.40138626] 3\n",
            "[ 2.          0.          1.          1.          0.          0.\n",
            "  3.         24.          0.37618147] 3\n",
            "[ 2.          1.          0.          1.          1.          0.\n",
            "  3.         24.          0.44927536] 3\n",
            "[ 1.          1.          0.          1.          0.          1.\n",
            "  3.         24.          0.62822936] 3\n",
            "[ 1.          1.          1.          1.          0.          1.\n",
            "  2.         18.          0.33648393] 2\n",
            "[ 1.          0.          1.          0.          1.          0.\n",
            "  3.         12.          0.34845621] 3\n",
            "[ 1.          0.          0.          0.          1.          1.\n",
            "  3.         12.          0.34845621] 3\n",
            "[ 1.          0.          0.          1.          0.          0.\n",
            "  3.         24.          0.46691871] 3\n",
            "[ 0.          1.          0.          0.          1.          1.\n",
            "  0.         24.          0.13799622] 1\n",
            "[ 0.          0.          1.          1.          0.          0.\n",
            "  3.         12.          0.36357908] 2\n",
            "[ 1.         0.         0.         0.         0.         2.\n",
            "  0.        18.         0.3705104] 2\n",
            "[ 1.         0.         1.         0.         1.         1.\n",
            "  2.        12.         0.2205419] 1\n",
            "[0.         1.         1.         0.         0.         3.\n",
            " 0.         6.         0.02520479] 0\n",
            "[ 1.          0.          1.          0.          1.          0.\n",
            "  3.         18.          0.26339004] 3\n",
            "[ 0.          0.          1.          1.          0.          0.\n",
            "  2.         12.          0.16761185] 1\n",
            "[1.        0.        0.        1.        0.        0.        3.\n",
            " 6.        0.4057971] 3\n",
            "[1.         1.         0.         1.         0.         1.\n",
            " 0.         6.         0.30875866] 1\n",
            "[ 1.          0.          0.          1.          0.          0.\n",
            "  3.         24.          0.50535602] 3\n",
            "[ 1.          1.          0.          1.          0.          2.\n",
            "  2.         24.          0.34845621] 2\n",
            "[ 0.          1.          0.          0.          0.          3.\n",
            "  0.         12.          0.11153119] 0\n",
            "[0.         1.         0.         0.         0.         1.\n",
            " 1.         6.         0.09010712] 0\n",
            "[ 1.         0.         0.         0.         0.         0.\n",
            "  3.        24.         0.3163201] 2\n",
            "[ 1.          0.          1.          0.          0.          0.\n",
            "  2.         24.          0.20289855] 1\n",
            "[ 2.          1.          1.          0.          0.          0.\n",
            "  1.         12.          0.11846251] 1\n"
          ]
        }
      ]
    },
    {
      "cell_type": "markdown",
      "source": [
        "Evaluating the model"
      ],
      "metadata": {
        "id": "sNa4kGwdjq5O"
      }
    },
    {
      "cell_type": "code",
      "source": [
        "print(\"Accuracy: \", accuracy_score(yTest, rfRes))\n",
        "print(\"MAE: \", mean_absolute_error(yTest, rfRes))\n",
        "print(\"MSE: \", mean_squared_error(yTest, rfRes))\n",
        "print(\"F1_Score: \", f1_score(yTest, rfRes, average='weighted'))\n",
        "print(classification_report(yTest, rfRes))\n",
        "print(confusion_matrix(yTest, rfRes, labels=[0,1]))"
      ],
      "metadata": {
        "colab": {
          "base_uri": "https://localhost:8080/"
        },
        "id": "wrdJY_Rdj45a",
        "outputId": "c234be92-0dbb-4636-badd-715fe7f34e8f"
      },
      "execution_count": 238,
      "outputs": [
        {
          "output_type": "stream",
          "name": "stdout",
          "text": [
            "Accuracy:  0.63\n",
            "MAE:  0.38\n",
            "MSE:  0.4\n",
            "F1_Score:  0.5984280035120239\n",
            "              precision    recall  f1-score   support\n",
            "\n",
            "           0       0.79      0.84      0.81        44\n",
            "           1       0.45      0.65      0.54        46\n",
            "           2       0.64      0.23      0.34        61\n",
            "           3       0.69      0.92      0.79        49\n",
            "\n",
            "    accuracy                           0.63       200\n",
            "   macro avg       0.64      0.66      0.62       200\n",
            "weighted avg       0.64      0.63      0.60       200\n",
            "\n",
            "[[37  7]\n",
            " [10 30]]\n"
          ]
        }
      ]
    },
    {
      "cell_type": "markdown",
      "source": [
        "<b>K-Nearest Neighbors</b>"
      ],
      "metadata": {
        "id": "Ogl1lW712mmP"
      }
    },
    {
      "cell_type": "markdown",
      "source": [
        "Importing required libraries"
      ],
      "metadata": {
        "id": "BYX_aMu62uA1"
      }
    },
    {
      "cell_type": "code",
      "source": [
        "from sklearn.neighbors import KNeighborsClassifier"
      ],
      "metadata": {
        "id": "D2DGMknX2tDK"
      },
      "execution_count": 239,
      "outputs": []
    },
    {
      "cell_type": "markdown",
      "source": [
        "Training the model"
      ],
      "metadata": {
        "id": "IfLHLt8A25Gj"
      }
    },
    {
      "cell_type": "code",
      "source": [
        "knc = KNeighborsClassifier(n_neighbors = 3)\n",
        "knc.fit(xTrain, yTrain)"
      ],
      "metadata": {
        "colab": {
          "base_uri": "https://localhost:8080/"
        },
        "id": "_vGXbRs127MB",
        "outputId": "a7b75853-5dc8-4e20-f9c7-f71c29190017"
      },
      "execution_count": 240,
      "outputs": [
        {
          "output_type": "execute_result",
          "data": {
            "text/plain": [
              "KNeighborsClassifier(n_neighbors=3)"
            ]
          },
          "metadata": {},
          "execution_count": 240
        }
      ]
    },
    {
      "cell_type": "markdown",
      "source": [
        "Running the model"
      ],
      "metadata": {
        "id": "oda3aUZ23ubk"
      }
    },
    {
      "cell_type": "code",
      "source": [
        "kncRes = knc.predict(xTest)\n",
        "\n",
        "for i in range(len(xTest)):\n",
        "  print(xTest.values[i], kncRes[i])"
      ],
      "metadata": {
        "id": "400XmskA3wx3",
        "colab": {
          "base_uri": "https://localhost:8080/"
        },
        "outputId": "f21697d4-e04b-4cf9-ae4b-eee70ee8fc65"
      },
      "execution_count": 241,
      "outputs": [
        {
          "output_type": "stream",
          "name": "stdout",
          "text": [
            "[1.         1.         0.         1.         0.         2.\n",
            " 2.         6.         0.41965974] 1\n",
            "[2.         1.         1.         1.         0.         0.\n",
            " 2.         6.         0.23188406] 1\n",
            "[2.         1.         0.         0.         0.         0.\n",
            " 0.         6.         0.00819156] 0\n",
            "[0.         1.         1.         0.         1.         1.\n",
            " 1.         6.         0.02709515] 0\n",
            "[0.         1.         1.         0.         0.         2.\n",
            " 0.         6.         0.07309389] 0\n",
            "[ 0.         1.         1.         0.         0.         1.\n",
            "  0.        12.         0.0447385] 0\n",
            "[0.0000000e+00 1.0000000e+00 1.0000000e+00 0.0000000e+00 1.0000000e+00\n",
            " 3.0000000e+00 0.0000000e+00 1.2000000e+01 8.1915564e-03] 0\n",
            "[ 0.          0.          1.          0.          0.          1.\n",
            "  0.         24.          0.02583491] 1\n",
            "[ 0.          1.          0.          0.          0.          2.\n",
            "  1.         24.          0.10712035] 0\n",
            "[ 0.          1.          1.          1.          1.          0.\n",
            "  2.         12.          0.12602394] 1\n",
            "[ 1.          0.          1.          0.          1.          0.\n",
            "  3.         18.          0.24511657] 2\n",
            "[ 0.          0.          1.          0.          0.          0.\n",
            "  0.         18.          0.04914934] 0\n",
            "[ 1.          0.          1.          0.          0.          1.\n",
            "  2.         18.          0.22117202] 2\n",
            "[ 2.          1.          0.          1.          1.          0.\n",
            "  0.         12.          0.43604285] 0\n",
            "[ 2.          0.          0.          1.          0.          0.\n",
            "  3.         18.          0.40768746] 3\n",
            "[ 0.          1.          1.          0.          0.          0.\n",
            "  1.         18.          0.02142407] 1\n",
            "[0.         0.         1.         1.         0.         0.\n",
            " 2.         6.         0.22306238] 1\n",
            "[ 0.          0.          0.          1.          0.          0.\n",
            "  0.         18.          0.30749842] 2\n",
            "[ 2.          1.          0.          1.          0.          0.\n",
            "  2.         12.          0.25771897] 2\n",
            "[ 2.          1.          1.          1.          1.          0.\n",
            "  3.         18.          0.31568998] 3\n",
            "[ 1.          0.          0.          1.          1.          1.\n",
            "  3.         24.          0.71140517] 3\n",
            "[ 1.          0.          1.          0.          0.          0.\n",
            "  3.         12.          0.39004411] 2\n",
            "[1.         0.         0.         1.         0.         0.\n",
            " 3.         6.         0.67926906] 2\n",
            "[2.         0.         1.         1.         0.         0.\n",
            " 3.         6.         0.45179584] 1\n",
            "[0.         0.         1.         1.         0.         1.\n",
            " 1.         6.         0.10901071] 0\n",
            "[1.         0.         0.         0.         0.         3.\n",
            " 0.         6.         0.25519849] 0\n",
            "[ 1.          0.          0.          0.          0.          0.\n",
            "  3.         24.          0.33459357] 2\n",
            "[ 1.          1.          1.          1.          0.          1.\n",
            "  3.         18.          0.52551985] 2\n",
            "[1.         1.         0.         0.         0.         3.\n",
            " 0.         6.         0.27221172] 0\n",
            "[ 1.          0.          0.          1.          0.          0.\n",
            "  3.         18.          0.55072464] 3\n",
            "[1.         0.         1.         1.         1.         1.\n",
            " 0.         6.         0.33963453] 2\n",
            "[ 1.          0.          1.          1.          0.          0.\n",
            "  3.         18.          0.43730309] 3\n",
            "[ 1.          1.          1.          1.          1.          1.\n",
            "  3.         18.          0.31505986] 3\n",
            "[ 1.          1.          0.          1.          0.          1.\n",
            "  3.         24.          0.46124764] 3\n",
            "[ 2.          1.          1.          1.          0.          0.\n",
            "  3.         18.          0.36862004] 3\n",
            "[ 0.          0.          1.          1.          0.          0.\n",
            "  0.         24.          0.24700693] 2\n",
            "[ 1.          1.          1.          1.          0.          1.\n",
            "  2.         18.          0.43982357] 1\n",
            "[ 2.          1.          1.          1.          1.          0.\n",
            "  3.         18.          0.34341525] 3\n",
            "[ 1.          0.          1.          0.          0.          0.\n",
            "  0.         18.          0.26654064] 2\n",
            "[ 2.          0.          1.          1.          0.          0.\n",
            "  3.         12.          0.38878387] 1\n",
            "[ 2.          0.          0.          1.          0.          0.\n",
            "  3.         24.          0.50724638] 3\n",
            "[2.         1.         0.         0.         0.         0.\n",
            " 1.         6.         0.04536862] 0\n",
            "[ 0.          0.          1.          0.          0.          0.\n",
            "  1.         24.          0.07057341] 1\n",
            "[ 2.         1.         0.         1.         1.         0.\n",
            "  2.        18.         0.1726528] 3\n",
            "[ 1.         0.         1.         0.         0.         0.\n",
            "  2.        18.         0.2236925] 2\n",
            "[ 2.          0.          0.          1.          1.          0.\n",
            "  2.         12.          0.14429742] 1\n",
            "[ 1.          0.          1.          1.          0.          1.\n",
            "  3.         24.          0.54379332] 3\n",
            "[ 0.          1.          1.          1.          1.          1.\n",
            "  2.         12.          0.23377442] 1\n",
            "[ 2.          1.          1.          1.          0.          0.\n",
            "  3.         18.          0.47069943] 3\n",
            "[ 1.          1.          1.          0.          0.          1.\n",
            "  2.         24.          0.22936358] 1\n",
            "[ 2.          0.          0.          1.          0.          0.\n",
            "  2.         24.          0.30371771] 2\n",
            "[ 1.          0.          0.          1.          0.          0.\n",
            "  3.         24.          0.44801512] 3\n",
            "[0.         1.         0.         0.         0.         1.\n",
            " 2.         6.         0.21802142] 1\n",
            "[ 1.          0.          0.          1.          0.          0.\n",
            "  3.         18.          0.48582231] 3\n",
            "[0.00000000e+00 1.00000000e+00 1.00000000e+00 0.00000000e+00\n",
            " 1.00000000e+00 3.00000000e+00 1.00000000e+00 1.80000000e+01\n",
            " 1.44927536e-02] 0\n",
            "[ 2.          1.          0.          1.          1.          2.\n",
            "  2.         12.          0.14807813] 0\n",
            "[ 0.          0.          1.          1.          0.          0.\n",
            "  2.         18.          0.16887209] 2\n",
            "[1.         1.         1.         1.         0.         2.\n",
            " 1.         6.         0.31758034] 0\n",
            "[ 2.          1.          1.          0.          0.          0.\n",
            "  0.         12.          0.03024575] 1\n",
            "[ 2.          1.          0.          1.          1.          0.\n",
            "  3.         18.          0.37996219] 3\n",
            "[ 1.          1.          1.          0.          0.          1.\n",
            "  1.         24.          0.19092628] 0\n",
            "[ 0.          0.          1.          0.          0.          0.\n",
            "  1.         12.          0.08443604] 0\n",
            "[ 2.          0.          0.          0.          0.          0.\n",
            "  2.         18.          0.22432262] 1\n",
            "[0.         1.         1.         1.         0.         0.\n",
            " 0.         6.         0.43667297] 1\n",
            "[ 1.          1.          0.          0.          0.          1.\n",
            "  2.         12.          0.21045999] 1\n",
            "[ 1.          1.          1.          0.          0.          0.\n",
            "  0.         18.          0.15879017] 2\n",
            "[ 2.          1.          1.          1.          0.          0.\n",
            "  2.         18.          0.19911783] 1\n",
            "[ 0.          1.          1.          0.          0.          1.\n",
            "  0.         18.          0.05860113] 0\n",
            "[0.         1.         1.         0.         0.         1.\n",
            " 0.         6.         0.02016383] 0\n",
            "[ 1.         0.         0.         1.         0.         1.\n",
            "  3.        24.         0.5431632] 3\n",
            "[2.         1.         1.         0.         1.         0.\n",
            " 1.         6.         0.04914934] 0\n",
            "[1.         0.         1.         0.         1.         1.\n",
            " 0.         6.         0.28796471] 0\n",
            "[ 0.          1.          1.          0.          1.          1.\n",
            "  1.         12.          0.06679269] 0\n",
            "[ 1.          1.          0.          0.          0.          0.\n",
            "  2.         12.          0.15816005] 0\n",
            "[1.         1.         1.         0.         1.         1.\n",
            " 2.         6.         0.21865154] 1\n",
            "[ 1.          0.          1.          1.          1.          0.\n",
            "  3.         18.          0.33333333] 3\n",
            "[ 2.          0.          0.          1.          1.          2.\n",
            "  3.         24.          0.42091997] 3\n",
            "[ 2.          1.          0.          1.          0.          0.\n",
            "  3.         12.          0.40705734] 2\n",
            "[1.         1.         1.         0.         0.         1.\n",
            " 2.         6.         0.30560807] 1\n",
            "[ 1.          0.          0.          0.          0.          1.\n",
            "  2.         24.          0.24385633] 2\n",
            "[ 1.          0.          0.          1.          0.          1.\n",
            "  0.         24.          0.51795841] 3\n",
            "[2.         1.         0.         0.         0.         0.\n",
            " 0.         6.         0.34341525] 0\n",
            "[ 2.          0.          0.          1.          0.          0.\n",
            "  2.         12.          0.25897921] 1\n",
            "[ 1.          1.          0.          1.          1.          1.\n",
            "  3.         12.          0.68178954] 2\n",
            "[ 0.          0.          1.          0.          1.          0.\n",
            "  1.         24.          0.03276623] 1\n",
            "[ 1.          0.          1.          1.          1.          2.\n",
            "  3.         18.          0.48519219] 3\n",
            "[ 1.          0.          0.          0.          1.          1.\n",
            "  0.         18.          0.21991178] 2\n",
            "[ 2.          0.          1.          1.          1.          0.\n",
            "  3.         24.          0.35349716] 3\n",
            "[ 2.          1.          1.          1.          1.          0.\n",
            "  3.         18.          0.49338374] 3\n",
            "[0.000000e+00 1.000000e+00 1.000000e+00 0.000000e+00 1.000000e+00\n",
            " 2.000000e+00 0.000000e+00 2.400000e+01 2.268431e-02] 1\n",
            "[ 1.          1.          0.          1.          0.          1.\n",
            "  3.         18.          0.45746692] 2\n",
            "[ 1.          0.          1.          0.          0.          0.\n",
            "  2.         12.          0.19596723] 2\n",
            "[ 0.          0.          1.          1.          0.          0.\n",
            "  2.         18.          0.18651544] 2\n",
            "[0.         1.         1.         0.         1.         2.\n",
            " 1.         6.         0.02646503] 0\n",
            "[ 0.          0.          1.          0.          0.          0.\n",
            "  1.         18.          0.02079395] 1\n",
            "[2.         1.         0.         0.         0.         0.\n",
            " 1.         6.         0.09010712] 0\n",
            "[1.         1.         1.         1.         0.         3.\n",
            " 1.         6.         0.55009452] 0\n",
            "[2.         0.         0.         0.         0.         0.\n",
            " 0.         6.         0.26023945] 1\n",
            "[2.         0.         0.         0.         1.         0.\n",
            " 3.         6.         0.32073094] 1\n",
            "[ 0.          0.          1.          1.          1.          0.\n",
            "  2.         12.          0.09451796] 1\n",
            "[ 1.          0.          0.          1.          0.          2.\n",
            "  2.         24.          0.61247637] 2\n",
            "[ 1.          0.          0.          0.          1.          0.\n",
            "  3.         24.          0.41146818] 3\n",
            "[0.00000000e+00 1.00000000e+00 1.00000000e+00 0.00000000e+00\n",
            " 1.00000000e+00 2.00000000e+00 1.00000000e+00 1.80000000e+01\n",
            " 6.30119723e-04] 0\n",
            "[ 0.          1.          0.          0.          1.          2.\n",
            "  2.         12.          0.14555766] 0\n",
            "[ 0.          0.          1.          0.          0.          0.\n",
            "  1.         12.          0.07435413] 0\n",
            "[ 1.          0.          1.          1.          0.          0.\n",
            "  3.         12.          0.68494014] 3\n",
            "[ 2.         1.         0.         1.         1.         0.\n",
            "  3.        24.         0.6294896] 3\n",
            "[ 0.          0.          1.          1.          0.          1.\n",
            "  2.         12.          0.26780088] 1\n",
            "[ 1.         1.         0.         0.         0.         0.\n",
            "  3.        12.         0.3673598] 2\n",
            "[ 1.          0.          0.          1.          0.          2.\n",
            "  2.         12.          0.55135476] 1\n",
            "[ 1.          0.          0.          1.          0.          2.\n",
            "  2.         18.          0.64839319] 1\n",
            "[ 1.          1.          0.          1.          0.          1.\n",
            "  0.         12.          0.45431632] 3\n",
            "[2.         1.         0.         0.         1.         1.\n",
            " 1.         6.         0.08758664] 0\n",
            "[ 0.          1.          1.          1.          1.          1.\n",
            "  0.         24.          0.14555766] 0\n",
            "[ 1.          1.          0.          1.          0.          0.\n",
            "  2.         24.          0.15879017] 2\n",
            "[ 0.          1.          1.          1.          0.          0.\n",
            "  0.         12.          0.32514178] 0\n",
            "[ 0.          1.          1.          1.          0.          3.\n",
            "  1.         12.          0.31821046] 0\n",
            "[ 1.          1.          0.          0.          0.          1.\n",
            "  0.         24.          0.16194077] 2\n",
            "[ 1.          0.          0.          0.          0.          0.\n",
            "  3.         18.          0.34089477] 2\n",
            "[ 2.          1.          0.          0.          1.          0.\n",
            "  2.         12.          0.07498425] 0\n",
            "[0.        0.        1.        0.        0.        0.        0.\n",
            " 6.        0.0989288] 0\n",
            "[ 1.          0.          0.          1.          0.          3.\n",
            "  0.         18.          0.45557656] 3\n",
            "[ 1.          0.          1.          0.          0.          1.\n",
            "  1.         18.          0.15185885] 1\n",
            "[ 0.          0.          1.          0.          0.          0.\n",
            "  0.         12.          0.03213611] 0\n",
            "[ 2.         0.         1.         0.         0.         1.\n",
            "  1.        12.         0.1405167] 1\n",
            "[ 0.          1.          1.          0.          1.          1.\n",
            "  1.         12.          0.05229994] 0\n",
            "[ 2.          1.          1.          0.          0.          0.\n",
            "  1.         12.          0.12035287] 0\n",
            "[ 1.          0.          0.          1.          0.          3.\n",
            "  0.         12.          0.58349086] 0\n",
            "[0.        1.        1.        1.        0.        1.        2.\n",
            " 6.        0.2778828] 1\n",
            "[0.         1.         1.         1.         0.         3.\n",
            " 1.         6.         0.20100819] 0\n",
            "[ 0.          1.          1.          0.          0.          1.\n",
            "  1.         12.          0.03969754] 0\n",
            "[1.         1.         1.         0.         0.         1.\n",
            " 1.         6.         0.11405167] 0\n",
            "[ 0.          1.          1.          0.          1.          2.\n",
            "  0.         24.          0.08254568] 1\n",
            "[ 1.         1.         1.         0.         0.         2.\n",
            "  0.        12.         0.2747322] 2\n",
            "[ 1.        0.        0.        1.        0.        0.        3.\n",
            " 12.        0.357908] 3\n",
            "[ 1.          1.          0.          0.          0.          1.\n",
            "  0.         12.          0.24322621] 1\n",
            "[ 2.          1.          0.          1.          1.          0.\n",
            "  3.         18.          0.43352237] 3\n",
            "[ 1.          0.          0.          0.          0.          0.\n",
            "  2.         12.          0.28859483] 2\n",
            "[ 1.          1.          0.          0.          0.          0.\n",
            "  0.         12.          0.23818526] 1\n",
            "[ 0.          1.          1.          0.          0.          1.\n",
            "  1.         18.          0.05671078] 0\n",
            "[1.        1.        0.        0.        1.        1.        0.\n",
            " 6.        0.0957782] 1\n",
            "[ 2.          0.          0.          1.          0.          0.\n",
            "  2.         24.          0.28040328] 2\n",
            "[ 2.          1.          0.          1.          0.          0.\n",
            "  2.         12.          0.24637681] 2\n",
            "[ 2.          1.          0.          1.          0.          0.\n",
            "  3.         24.          0.38185255] 3\n",
            "[ 1.          0.          1.          0.          1.          0.\n",
            "  3.         24.          0.30812854] 3\n",
            "[ 1.          0.          0.          1.          0.          3.\n",
            "  1.         12.          0.35538752] 0\n",
            "[ 1.          0.          1.          1.          1.          2.\n",
            "  3.         24.          0.46250788] 3\n",
            "[0.         1.         1.         0.         0.         1.\n",
            " 1.         6.         0.02016383] 0\n",
            "[2.         0.         1.         1.         0.         0.\n",
            " 2.         6.         0.31442974] 1\n",
            "[ 1.          0.          0.          1.          0.          2.\n",
            "  2.         12.          0.53560176] 1\n",
            "[ 1.          0.          1.          0.          0.          0.\n",
            "  2.         24.          0.21676118] 2\n",
            "[ 1.          0.          0.          1.          1.          0.\n",
            "  3.         24.          0.50031506] 3\n",
            "[ 1.          0.          0.          1.          0.          2.\n",
            "  3.         18.          0.73345936] 3\n",
            "[1.         0.         0.         1.         0.         0.\n",
            " 2.         6.         0.20541903] 1\n",
            "[ 0.          0.          1.          1.          0.          1.\n",
            "  2.         24.          0.27410208] 2\n",
            "[ 1.          0.          0.          1.          0.          1.\n",
            "  0.         12.          0.38752363] 2\n",
            "[0.         1.         1.         0.         0.         3.\n",
            " 1.         6.         0.08128544] 0\n",
            "[ 1.         0.         0.         1.         0.         1.\n",
            "  3.        18.         0.5816005] 3\n",
            "[0.         1.         1.         0.         0.         3.\n",
            " 0.         6.         0.07876497] 1\n",
            "[ 2.        1.        0.        1.        0.        0.        3.\n",
            " 18.        0.373661] 3\n",
            "[ 1.          0.          1.          0.          0.          1.\n",
            "  1.         18.          0.17958412] 2\n",
            "[ 0.          0.          0.          0.          0.          3.\n",
            "  0.         12.          0.12287335] 0\n",
            "[ 1.          0.          0.          0.          0.          0.\n",
            "  3.         24.          0.39760555] 3\n",
            "[ 1.          0.          1.          0.          1.          1.\n",
            "  2.         24.          0.16761185] 2\n",
            "[ 1.          0.          1.          1.          1.          1.\n",
            "  0.         12.          0.55135476] 2\n",
            "[ 1.          1.          0.          0.          1.          3.\n",
            "  2.         24.          0.34215501] 2\n",
            "[2.         1.         0.         0.         0.         2.\n",
            " 1.         6.         0.01638311] 0\n",
            "[0.         1.         1.         0.         1.         0.\n",
            " 1.         6.         0.04536862] 0\n",
            "[ 1.         1.         0.         0.         0.         2.\n",
            "  1.        12.         0.2268431] 0\n",
            "[ 1.          0.          0.          1.          0.          1.\n",
            "  3.         12.          0.56206679] 2\n",
            "[ 1.          1.          0.          1.          0.          3.\n",
            "  1.         24.          0.45116572] 3\n",
            "[ 1.          0.          0.          1.          0.          0.\n",
            "  3.         24.          0.59231254] 3\n",
            "[ 1.          0.          1.          0.          0.          0.\n",
            "  2.         12.          0.22558286] 2\n",
            "[1.         0.         1.         0.         1.         2.\n",
            " 0.         6.         0.30560807] 1\n",
            "[ 0.          1.          1.          0.          0.          2.\n",
            "  1.         18.          0.07561437] 0\n",
            "[ 1.          0.          0.          1.          0.          0.\n",
            "  3.         18.          0.55702583] 3\n",
            "[ 1.          0.          0.          1.          1.          0.\n",
            "  3.         24.          0.40138626] 3\n",
            "[ 2.          0.          1.          1.          0.          0.\n",
            "  3.         24.          0.37618147] 3\n",
            "[ 2.          1.          0.          1.          1.          0.\n",
            "  3.         24.          0.44927536] 3\n",
            "[ 1.          1.          0.          1.          0.          1.\n",
            "  3.         24.          0.62822936] 3\n",
            "[ 1.          1.          1.          1.          0.          1.\n",
            "  2.         18.          0.33648393] 1\n",
            "[ 1.          0.          1.          0.          1.          0.\n",
            "  3.         12.          0.34845621] 3\n",
            "[ 1.          0.          0.          0.          1.          1.\n",
            "  3.         12.          0.34845621] 3\n",
            "[ 1.          0.          0.          1.          0.          0.\n",
            "  3.         24.          0.46691871] 3\n",
            "[ 0.          1.          0.          0.          1.          1.\n",
            "  0.         24.          0.13799622] 0\n",
            "[ 0.          0.          1.          1.          0.          0.\n",
            "  3.         12.          0.36357908] 2\n",
            "[ 1.         0.         0.         0.         0.         2.\n",
            "  0.        18.         0.3705104] 2\n",
            "[ 1.         0.         1.         0.         1.         1.\n",
            "  2.        12.         0.2205419] 1\n",
            "[0.         1.         1.         0.         0.         3.\n",
            " 0.         6.         0.02520479] 0\n",
            "[ 1.          0.          1.          0.          1.          0.\n",
            "  3.         18.          0.26339004] 3\n",
            "[ 0.          0.          1.          1.          0.          0.\n",
            "  2.         12.          0.16761185] 1\n",
            "[1.        0.        0.        1.        0.        0.        3.\n",
            " 6.        0.4057971] 2\n",
            "[1.         1.         0.         1.         0.         1.\n",
            " 0.         6.         0.30875866] 1\n",
            "[ 1.          0.          0.          1.          0.          0.\n",
            "  3.         24.          0.50535602] 3\n",
            "[ 1.          1.          0.          1.          0.          2.\n",
            "  2.         24.          0.34845621] 1\n",
            "[ 0.          1.          0.          0.          0.          3.\n",
            "  0.         12.          0.11153119] 1\n",
            "[0.         1.         0.         0.         0.         1.\n",
            " 1.         6.         0.09010712] 0\n",
            "[ 1.         0.         0.         0.         0.         0.\n",
            "  3.        24.         0.3163201] 2\n",
            "[ 1.          0.          1.          0.          0.          0.\n",
            "  2.         24.          0.20289855] 2\n",
            "[ 2.          1.          1.          0.          0.          0.\n",
            "  1.         12.          0.11846251] 0\n"
          ]
        }
      ]
    },
    {
      "cell_type": "markdown",
      "source": [
        "Evaluating the model"
      ],
      "metadata": {
        "id": "7yp1pAmC37i8"
      }
    },
    {
      "cell_type": "code",
      "source": [
        "print(\"Accuracy: \", accuracy_score(yTest, kncRes))\n",
        "print(\"MAE: \", mean_absolute_error(yTest, kncRes))\n",
        "print(\"MSE: \", mean_squared_error(yTest, kncRes))\n",
        "print(\"F1_Score: \", f1_score(yTest, kncRes, average='weighted'))\n",
        "print(classification_report(yTest, kncRes))\n",
        "print(confusion_matrix(yTest, kncRes, labels=[0,1]))"
      ],
      "metadata": {
        "colab": {
          "base_uri": "https://localhost:8080/"
        },
        "id": "XBZchzvM39YT",
        "outputId": "16cf91ce-e64b-4727-f5cc-b83c9295bad0"
      },
      "execution_count": 242,
      "outputs": [
        {
          "output_type": "stream",
          "name": "stdout",
          "text": [
            "Accuracy:  0.64\n",
            "MAE:  0.4\n",
            "MSE:  0.49\n",
            "F1_Score:  0.6345276217989227\n",
            "              precision    recall  f1-score   support\n",
            "\n",
            "           0       0.64      0.82      0.72        44\n",
            "           1       0.49      0.52      0.51        46\n",
            "           2       0.64      0.48      0.55        61\n",
            "           3       0.78      0.80      0.79        49\n",
            "\n",
            "    accuracy                           0.64       200\n",
            "   macro avg       0.64      0.65      0.64       200\n",
            "weighted avg       0.64      0.64      0.63       200\n",
            "\n",
            "[[36  8]\n",
            " [14 24]]\n"
          ]
        }
      ]
    },
    {
      "cell_type": "markdown",
      "source": [
        "<b>SVM"
      ],
      "metadata": {
        "id": "agoE6jaX4MBq"
      }
    },
    {
      "cell_type": "markdown",
      "source": [
        "Importing required libraries"
      ],
      "metadata": {
        "id": "vIkMc0h8-LLm"
      }
    },
    {
      "cell_type": "code",
      "source": [
        "from sklearn import svm"
      ],
      "metadata": {
        "id": "fSmIsKLA-NKW"
      },
      "execution_count": 243,
      "outputs": []
    },
    {
      "cell_type": "markdown",
      "source": [
        "Training the model"
      ],
      "metadata": {
        "id": "Jvuk3yRJ-Q24"
      }
    },
    {
      "cell_type": "code",
      "source": [
        "svmc = svm.SVC()\n",
        "svmc.fit(xTrain, yTrain)"
      ],
      "metadata": {
        "colab": {
          "base_uri": "https://localhost:8080/"
        },
        "id": "v7PMnk9j-SLv",
        "outputId": "7f9f8727-470a-435a-b3c6-f9bca0df68b6"
      },
      "execution_count": 244,
      "outputs": [
        {
          "output_type": "execute_result",
          "data": {
            "text/plain": [
              "SVC()"
            ]
          },
          "metadata": {},
          "execution_count": 244
        }
      ]
    },
    {
      "cell_type": "markdown",
      "source": [
        "Running the model"
      ],
      "metadata": {
        "id": "Qc6XSHod_IpY"
      }
    },
    {
      "cell_type": "code",
      "source": [
        "svmcRes = svmc.predict(xTest)\n",
        "\n",
        "for i in range(len(xTest)):\n",
        "  print(xTest.values[i], svmcRes[i])"
      ],
      "metadata": {
        "id": "PWug3mpe_KAs",
        "colab": {
          "base_uri": "https://localhost:8080/"
        },
        "outputId": "a6bb643a-55e1-422d-cd6d-eea93e2a015c"
      },
      "execution_count": 245,
      "outputs": [
        {
          "output_type": "stream",
          "name": "stdout",
          "text": [
            "[1.         1.         0.         1.         0.         2.\n",
            " 2.         6.         0.41965974] 1\n",
            "[2.         1.         1.         1.         0.         0.\n",
            " 2.         6.         0.23188406] 1\n",
            "[2.         1.         0.         0.         0.         0.\n",
            " 0.         6.         0.00819156] 0\n",
            "[0.         1.         1.         0.         1.         1.\n",
            " 1.         6.         0.02709515] 0\n",
            "[0.         1.         1.         0.         0.         2.\n",
            " 0.         6.         0.07309389] 0\n",
            "[ 0.         1.         1.         0.         0.         1.\n",
            "  0.        12.         0.0447385] 0\n",
            "[0.0000000e+00 1.0000000e+00 1.0000000e+00 0.0000000e+00 1.0000000e+00\n",
            " 3.0000000e+00 0.0000000e+00 1.2000000e+01 8.1915564e-03] 0\n",
            "[ 0.          0.          1.          0.          0.          1.\n",
            "  0.         24.          0.02583491] 3\n",
            "[ 0.          1.          0.          0.          0.          2.\n",
            "  1.         24.          0.10712035] 3\n",
            "[ 0.          1.          1.          1.          1.          0.\n",
            "  2.         12.          0.12602394] 1\n",
            "[ 1.          0.          1.          0.          1.          0.\n",
            "  3.         18.          0.24511657] 3\n",
            "[ 0.          0.          1.          0.          0.          0.\n",
            "  0.         18.          0.04914934] 2\n",
            "[ 1.          0.          1.          0.          0.          1.\n",
            "  2.         18.          0.22117202] 3\n",
            "[ 2.          1.          0.          1.          1.          0.\n",
            "  0.         12.          0.43604285] 1\n",
            "[ 2.          0.          0.          1.          0.          0.\n",
            "  3.         18.          0.40768746] 3\n",
            "[ 0.          1.          1.          0.          0.          0.\n",
            "  1.         18.          0.02142407] 2\n",
            "[0.         0.         1.         1.         0.         0.\n",
            " 2.         6.         0.22306238] 1\n",
            "[ 0.          0.          0.          1.          0.          0.\n",
            "  0.         18.          0.30749842] 3\n",
            "[ 2.          1.          0.          1.          0.          0.\n",
            "  2.         12.          0.25771897] 1\n",
            "[ 2.          1.          1.          1.          1.          0.\n",
            "  3.         18.          0.31568998] 3\n",
            "[ 1.          0.          0.          1.          1.          1.\n",
            "  3.         24.          0.71140517] 3\n",
            "[ 1.          0.          1.          0.          0.          0.\n",
            "  3.         12.          0.39004411] 1\n",
            "[1.         0.         0.         1.         0.         0.\n",
            " 3.         6.         0.67926906] 1\n",
            "[2.         0.         1.         1.         0.         0.\n",
            " 3.         6.         0.45179584] 1\n",
            "[0.         0.         1.         1.         0.         1.\n",
            " 1.         6.         0.10901071] 0\n",
            "[1.         0.         0.         0.         0.         3.\n",
            " 0.         6.         0.25519849] 0\n",
            "[ 1.          0.          0.          0.          0.          0.\n",
            "  3.         24.          0.33459357] 3\n",
            "[ 1.          1.          1.          1.          0.          1.\n",
            "  3.         18.          0.52551985] 3\n",
            "[1.         1.         0.         0.         0.         3.\n",
            " 0.         6.         0.27221172] 0\n",
            "[ 1.          0.          0.          1.          0.          0.\n",
            "  3.         18.          0.55072464] 3\n",
            "[1.         0.         1.         1.         1.         1.\n",
            " 0.         6.         0.33963453] 0\n",
            "[ 1.          0.          1.          1.          0.          0.\n",
            "  3.         18.          0.43730309] 3\n",
            "[ 1.          1.          1.          1.          1.          1.\n",
            "  3.         18.          0.31505986] 3\n",
            "[ 1.          1.          0.          1.          0.          1.\n",
            "  3.         24.          0.46124764] 3\n",
            "[ 2.          1.          1.          1.          0.          0.\n",
            "  3.         18.          0.36862004] 3\n",
            "[ 0.          0.          1.          1.          0.          0.\n",
            "  0.         24.          0.24700693] 3\n",
            "[ 1.          1.          1.          1.          0.          1.\n",
            "  2.         18.          0.43982357] 3\n",
            "[ 2.          1.          1.          1.          1.          0.\n",
            "  3.         18.          0.34341525] 3\n",
            "[ 1.          0.          1.          0.          0.          0.\n",
            "  0.         18.          0.26654064] 2\n",
            "[ 2.          0.          1.          1.          0.          0.\n",
            "  3.         12.          0.38878387] 2\n",
            "[ 2.          0.          0.          1.          0.          0.\n",
            "  3.         24.          0.50724638] 3\n",
            "[2.         1.         0.         0.         0.         0.\n",
            " 1.         6.         0.04536862] 1\n",
            "[ 0.          0.          1.          0.          0.          0.\n",
            "  1.         24.          0.07057341] 3\n",
            "[ 2.         1.         0.         1.         1.         0.\n",
            "  2.        18.         0.1726528] 3\n",
            "[ 1.         0.         1.         0.         0.         0.\n",
            "  2.        18.         0.2236925] 3\n",
            "[ 2.          0.          0.          1.          1.          0.\n",
            "  2.         12.          0.14429742] 2\n",
            "[ 1.          0.          1.          1.          0.          1.\n",
            "  3.         24.          0.54379332] 3\n",
            "[ 0.          1.          1.          1.          1.          1.\n",
            "  2.         12.          0.23377442] 1\n",
            "[ 2.          1.          1.          1.          0.          0.\n",
            "  3.         18.          0.47069943] 3\n",
            "[ 1.          1.          1.          0.          0.          1.\n",
            "  2.         24.          0.22936358] 3\n",
            "[ 2.          0.          0.          1.          0.          0.\n",
            "  2.         24.          0.30371771] 3\n",
            "[ 1.          0.          0.          1.          0.          0.\n",
            "  3.         24.          0.44801512] 3\n",
            "[0.         1.         0.         0.         0.         1.\n",
            " 2.         6.         0.21802142] 0\n",
            "[ 1.          0.          0.          1.          0.          0.\n",
            "  3.         18.          0.48582231] 3\n",
            "[0.00000000e+00 1.00000000e+00 1.00000000e+00 0.00000000e+00\n",
            " 1.00000000e+00 3.00000000e+00 1.00000000e+00 1.80000000e+01\n",
            " 1.44927536e-02] 0\n",
            "[ 2.          1.          0.          1.          1.          2.\n",
            "  2.         12.          0.14807813] 1\n",
            "[ 0.          0.          1.          1.          0.          0.\n",
            "  2.         18.          0.16887209] 3\n",
            "[1.         1.         1.         1.         0.         2.\n",
            " 1.         6.         0.31758034] 0\n",
            "[ 2.          1.          1.          0.          0.          0.\n",
            "  0.         12.          0.03024575] 0\n",
            "[ 2.          1.          0.          1.          1.          0.\n",
            "  3.         18.          0.37996219] 3\n",
            "[ 1.          1.          1.          0.          0.          1.\n",
            "  1.         24.          0.19092628] 3\n",
            "[ 0.          0.          1.          0.          0.          0.\n",
            "  1.         12.          0.08443604] 0\n",
            "[ 2.          0.          0.          0.          0.          0.\n",
            "  2.         18.          0.22432262] 3\n",
            "[0.         1.         1.         1.         0.         0.\n",
            " 0.         6.         0.43667297] 0\n",
            "[ 1.          1.          0.          0.          0.          1.\n",
            "  2.         12.          0.21045999] 1\n",
            "[ 1.          1.          1.          0.          0.          0.\n",
            "  0.         18.          0.15879017] 2\n",
            "[ 2.          1.          1.          1.          0.          0.\n",
            "  2.         18.          0.19911783] 3\n",
            "[ 0.          1.          1.          0.          0.          1.\n",
            "  0.         18.          0.05860113] 0\n",
            "[0.         1.         1.         0.         0.         1.\n",
            " 0.         6.         0.02016383] 0\n",
            "[ 1.         0.         0.         1.         0.         1.\n",
            "  3.        24.         0.5431632] 3\n",
            "[2.         1.         1.         0.         1.         0.\n",
            " 1.         6.         0.04914934] 0\n",
            "[1.         0.         1.         0.         1.         1.\n",
            " 0.         6.         0.28796471] 0\n",
            "[ 0.          1.          1.          0.          1.          1.\n",
            "  1.         12.          0.06679269] 0\n",
            "[ 1.          1.          0.          0.          0.          0.\n",
            "  2.         12.          0.15816005] 1\n",
            "[1.         1.         1.         0.         1.         1.\n",
            " 2.         6.         0.21865154] 0\n",
            "[ 1.          0.          1.          1.          1.          0.\n",
            "  3.         18.          0.33333333] 3\n",
            "[ 2.          0.          0.          1.          1.          2.\n",
            "  3.         24.          0.42091997] 3\n",
            "[ 2.          1.          0.          1.          0.          0.\n",
            "  3.         12.          0.40705734] 1\n",
            "[1.         1.         1.         0.         0.         1.\n",
            " 2.         6.         0.30560807] 0\n",
            "[ 1.          0.          0.          0.          0.          1.\n",
            "  2.         24.          0.24385633] 3\n",
            "[ 1.          0.          0.          1.          0.          1.\n",
            "  0.         24.          0.51795841] 3\n",
            "[2.         1.         0.         0.         0.         0.\n",
            " 0.         6.         0.34341525] 0\n",
            "[ 2.          0.          0.          1.          0.          0.\n",
            "  2.         12.          0.25897921] 2\n",
            "[ 1.          1.          0.          1.          1.          1.\n",
            "  3.         12.          0.68178954] 1\n",
            "[ 0.          0.          1.          0.          1.          0.\n",
            "  1.         24.          0.03276623] 3\n",
            "[ 1.          0.          1.          1.          1.          2.\n",
            "  3.         18.          0.48519219] 3\n",
            "[ 1.          0.          0.          0.          1.          1.\n",
            "  0.         18.          0.21991178] 3\n",
            "[ 2.          0.          1.          1.          1.          0.\n",
            "  3.         24.          0.35349716] 3\n",
            "[ 2.          1.          1.          1.          1.          0.\n",
            "  3.         18.          0.49338374] 3\n",
            "[0.000000e+00 1.000000e+00 1.000000e+00 0.000000e+00 1.000000e+00\n",
            " 2.000000e+00 0.000000e+00 2.400000e+01 2.268431e-02] 3\n",
            "[ 1.          1.          0.          1.          0.          1.\n",
            "  3.         18.          0.45746692] 3\n",
            "[ 1.          0.          1.          0.          0.          0.\n",
            "  2.         12.          0.19596723] 1\n",
            "[ 0.          0.          1.          1.          0.          0.\n",
            "  2.         18.          0.18651544] 3\n",
            "[0.         1.         1.         0.         1.         2.\n",
            " 1.         6.         0.02646503] 0\n",
            "[ 0.          0.          1.          0.          0.          0.\n",
            "  1.         18.          0.02079395] 2\n",
            "[2.         1.         0.         0.         0.         0.\n",
            " 1.         6.         0.09010712] 1\n",
            "[1.         1.         1.         1.         0.         3.\n",
            " 1.         6.         0.55009452] 0\n",
            "[2.         0.         0.         0.         0.         0.\n",
            " 0.         6.         0.26023945] 0\n",
            "[2.         0.         0.         0.         1.         0.\n",
            " 3.         6.         0.32073094] 1\n",
            "[ 0.          0.          1.          1.          1.          0.\n",
            "  2.         12.          0.09451796] 1\n",
            "[ 1.          0.          0.          1.          0.          2.\n",
            "  2.         24.          0.61247637] 3\n",
            "[ 1.          0.          0.          0.          1.          0.\n",
            "  3.         24.          0.41146818] 3\n",
            "[0.00000000e+00 1.00000000e+00 1.00000000e+00 0.00000000e+00\n",
            " 1.00000000e+00 2.00000000e+00 1.00000000e+00 1.80000000e+01\n",
            " 6.30119723e-04] 0\n",
            "[ 0.          1.          0.          0.          1.          2.\n",
            "  2.         12.          0.14555766] 0\n",
            "[ 0.          0.          1.          0.          0.          0.\n",
            "  1.         12.          0.07435413] 0\n",
            "[ 1.          0.          1.          1.          0.          0.\n",
            "  3.         12.          0.68494014] 1\n",
            "[ 2.         1.         0.         1.         1.         0.\n",
            "  3.        24.         0.6294896] 3\n",
            "[ 0.          0.          1.          1.          0.          1.\n",
            "  2.         12.          0.26780088] 1\n",
            "[ 1.         1.         0.         0.         0.         0.\n",
            "  3.        12.         0.3673598] 1\n",
            "[ 1.          0.          0.          1.          0.          2.\n",
            "  2.         12.          0.55135476] 1\n",
            "[ 1.          0.          0.          1.          0.          2.\n",
            "  2.         18.          0.64839319] 3\n",
            "[ 1.          1.          0.          1.          0.          1.\n",
            "  0.         12.          0.45431632] 0\n",
            "[2.         1.         0.         0.         1.         1.\n",
            " 1.         6.         0.08758664] 0\n",
            "[ 0.          1.          1.          1.          1.          1.\n",
            "  0.         24.          0.14555766] 3\n",
            "[ 1.          1.          0.          1.          0.          0.\n",
            "  2.         24.          0.15879017] 3\n",
            "[ 0.          1.          1.          1.          0.          0.\n",
            "  0.         12.          0.32514178] 0\n",
            "[ 0.          1.          1.          1.          0.          3.\n",
            "  1.         12.          0.31821046] 0\n",
            "[ 1.          1.          0.          0.          0.          1.\n",
            "  0.         24.          0.16194077] 3\n",
            "[ 1.          0.          0.          0.          0.          0.\n",
            "  3.         18.          0.34089477] 3\n",
            "[ 2.          1.          0.          0.          1.          0.\n",
            "  2.         12.          0.07498425] 1\n",
            "[0.        0.        1.        0.        0.        0.        0.\n",
            " 6.        0.0989288] 0\n",
            "[ 1.          0.          0.          1.          0.          3.\n",
            "  0.         18.          0.45557656] 3\n",
            "[ 1.          0.          1.          0.          0.          1.\n",
            "  1.         18.          0.15185885] 2\n",
            "[ 0.          0.          1.          0.          0.          0.\n",
            "  0.         12.          0.03213611] 0\n",
            "[ 2.         0.         1.         0.         0.         1.\n",
            "  1.        12.         0.1405167] 1\n",
            "[ 0.          1.          1.          0.          1.          1.\n",
            "  1.         12.          0.05229994] 0\n",
            "[ 2.          1.          1.          0.          0.          0.\n",
            "  1.         12.          0.12035287] 1\n",
            "[ 1.          0.          0.          1.          0.          3.\n",
            "  0.         12.          0.58349086] 0\n",
            "[0.        1.        1.        1.        0.        1.        2.\n",
            " 6.        0.2778828] 0\n",
            "[0.         1.         1.         1.         0.         3.\n",
            " 1.         6.         0.20100819] 0\n",
            "[ 0.          1.          1.          0.          0.          1.\n",
            "  1.         12.          0.03969754] 0\n",
            "[1.         1.         1.         0.         0.         1.\n",
            " 1.         6.         0.11405167] 0\n",
            "[ 0.          1.          1.          0.          1.          2.\n",
            "  0.         24.          0.08254568] 3\n",
            "[ 1.         1.         1.         0.         0.         2.\n",
            "  0.        12.         0.2747322] 0\n",
            "[ 1.        0.        0.        1.        0.        0.        3.\n",
            " 12.        0.357908] 2\n",
            "[ 1.          1.          0.          0.          0.          1.\n",
            "  0.         12.          0.24322621] 0\n",
            "[ 2.          1.          0.          1.          1.          0.\n",
            "  3.         18.          0.43352237] 3\n",
            "[ 1.          0.          0.          0.          0.          0.\n",
            "  2.         12.          0.28859483] 1\n",
            "[ 1.          1.          0.          0.          0.          0.\n",
            "  0.         12.          0.23818526] 0\n",
            "[ 0.          1.          1.          0.          0.          1.\n",
            "  1.         18.          0.05671078] 2\n",
            "[1.        1.        0.        0.        1.        1.        0.\n",
            " 6.        0.0957782] 0\n",
            "[ 2.          0.          0.          1.          0.          0.\n",
            "  2.         24.          0.28040328] 3\n",
            "[ 2.          1.          0.          1.          0.          0.\n",
            "  2.         12.          0.24637681] 1\n",
            "[ 2.          1.          0.          1.          0.          0.\n",
            "  3.         24.          0.38185255] 3\n",
            "[ 1.          0.          1.          0.          1.          0.\n",
            "  3.         24.          0.30812854] 3\n",
            "[ 1.          0.          0.          1.          0.          3.\n",
            "  1.         12.          0.35538752] 0\n",
            "[ 1.          0.          1.          1.          1.          2.\n",
            "  3.         24.          0.46250788] 3\n",
            "[0.         1.         1.         0.         0.         1.\n",
            " 1.         6.         0.02016383] 0\n",
            "[2.         0.         1.         1.         0.         0.\n",
            " 2.         6.         0.31442974] 1\n",
            "[ 1.          0.          0.          1.          0.          2.\n",
            "  2.         12.          0.53560176] 1\n",
            "[ 1.          0.          1.          0.          0.          0.\n",
            "  2.         24.          0.21676118] 3\n",
            "[ 1.          0.          0.          1.          1.          0.\n",
            "  3.         24.          0.50031506] 3\n",
            "[ 1.          0.          0.          1.          0.          2.\n",
            "  3.         18.          0.73345936] 3\n",
            "[1.         0.         0.         1.         0.         0.\n",
            " 2.         6.         0.20541903] 1\n",
            "[ 0.          0.          1.          1.          0.          1.\n",
            "  2.         24.          0.27410208] 3\n",
            "[ 1.          0.          0.          1.          0.          1.\n",
            "  0.         12.          0.38752363] 0\n",
            "[0.         1.         1.         0.         0.         3.\n",
            " 1.         6.         0.08128544] 0\n",
            "[ 1.         0.         0.         1.         0.         1.\n",
            "  3.        18.         0.5816005] 3\n",
            "[0.         1.         1.         0.         0.         3.\n",
            " 0.         6.         0.07876497] 0\n",
            "[ 2.        1.        0.        1.        0.        0.        3.\n",
            " 18.        0.373661] 3\n",
            "[ 1.          0.          1.          0.          0.          1.\n",
            "  1.         18.          0.17958412] 2\n",
            "[ 0.          0.          0.          0.          0.          3.\n",
            "  0.         12.          0.12287335] 0\n",
            "[ 1.          0.          0.          0.          0.          0.\n",
            "  3.         24.          0.39760555] 3\n",
            "[ 1.          0.          1.          0.          1.          1.\n",
            "  2.         24.          0.16761185] 3\n",
            "[ 1.          0.          1.          1.          1.          1.\n",
            "  0.         12.          0.55135476] 0\n",
            "[ 1.          1.          0.          0.          1.          3.\n",
            "  2.         24.          0.34215501] 3\n",
            "[2.         1.         0.         0.         0.         2.\n",
            " 1.         6.         0.01638311] 0\n",
            "[0.         1.         1.         0.         1.         0.\n",
            " 1.         6.         0.04536862] 0\n",
            "[ 1.         1.         0.         0.         0.         2.\n",
            "  1.        12.         0.2268431] 0\n",
            "[ 1.          0.          0.          1.          0.          1.\n",
            "  3.         12.          0.56206679] 1\n",
            "[ 1.          1.          0.          1.          0.          3.\n",
            "  1.         24.          0.45116572] 3\n",
            "[ 1.          0.          0.          1.          0.          0.\n",
            "  3.         24.          0.59231254] 3\n",
            "[ 1.          0.          1.          0.          0.          0.\n",
            "  2.         12.          0.22558286] 1\n",
            "[1.         0.         1.         0.         1.         2.\n",
            " 0.         6.         0.30560807] 0\n",
            "[ 0.          1.          1.          0.          0.          2.\n",
            "  1.         18.          0.07561437] 0\n",
            "[ 1.          0.          0.          1.          0.          0.\n",
            "  3.         18.          0.55702583] 3\n",
            "[ 1.          0.          0.          1.          1.          0.\n",
            "  3.         24.          0.40138626] 3\n",
            "[ 2.          0.          1.          1.          0.          0.\n",
            "  3.         24.          0.37618147] 3\n",
            "[ 2.          1.          0.          1.          1.          0.\n",
            "  3.         24.          0.44927536] 3\n",
            "[ 1.          1.          0.          1.          0.          1.\n",
            "  3.         24.          0.62822936] 3\n",
            "[ 1.          1.          1.          1.          0.          1.\n",
            "  2.         18.          0.33648393] 3\n",
            "[ 1.          0.          1.          0.          1.          0.\n",
            "  3.         12.          0.34845621] 1\n",
            "[ 1.          0.          0.          0.          1.          1.\n",
            "  3.         12.          0.34845621] 1\n",
            "[ 1.          0.          0.          1.          0.          0.\n",
            "  3.         24.          0.46691871] 3\n",
            "[ 0.          1.          0.          0.          1.          1.\n",
            "  0.         24.          0.13799622] 3\n",
            "[ 0.          0.          1.          1.          0.          0.\n",
            "  3.         12.          0.36357908] 1\n",
            "[ 1.         0.         0.         0.         0.         2.\n",
            "  0.        18.         0.3705104] 2\n",
            "[ 1.         0.         1.         0.         1.         1.\n",
            "  2.        12.         0.2205419] 1\n",
            "[0.         1.         1.         0.         0.         3.\n",
            " 0.         6.         0.02520479] 0\n",
            "[ 1.          0.          1.          0.          1.          0.\n",
            "  3.         18.          0.26339004] 3\n",
            "[ 0.          0.          1.          1.          0.          0.\n",
            "  2.         12.          0.16761185] 1\n",
            "[1.        0.        0.        1.        0.        0.        3.\n",
            " 6.        0.4057971] 1\n",
            "[1.         1.         0.         1.         0.         1.\n",
            " 0.         6.         0.30875866] 0\n",
            "[ 1.          0.          0.          1.          0.          0.\n",
            "  3.         24.          0.50535602] 3\n",
            "[ 1.          1.          0.          1.          0.          2.\n",
            "  2.         24.          0.34845621] 3\n",
            "[ 0.          1.          0.          0.          0.          3.\n",
            "  0.         12.          0.11153119] 0\n",
            "[0.         1.         0.         0.         0.         1.\n",
            " 1.         6.         0.09010712] 0\n",
            "[ 1.         0.         0.         0.         0.         0.\n",
            "  3.        24.         0.3163201] 3\n",
            "[ 1.          0.          1.          0.          0.          0.\n",
            "  2.         24.          0.20289855] 3\n",
            "[ 2.          1.          1.          0.          0.          0.\n",
            "  1.         12.          0.11846251] 1\n"
          ]
        }
      ]
    },
    {
      "cell_type": "markdown",
      "source": [
        "Evaluating the model"
      ],
      "metadata": {
        "id": "FcmnuYl3_PgA"
      }
    },
    {
      "cell_type": "code",
      "source": [
        "print(\"Accuracy: \", accuracy_score(yTest, svmcRes))\n",
        "print(\"MAE: \", mean_absolute_error(yTest, svmcRes))\n",
        "print(\"MSE: \", mean_squared_error(yTest, svmcRes))\n",
        "print(\"F1_Score: \", f1_score(yTest, svmcRes, average='weighted'))\n",
        "print(classification_report(yTest, svmcRes))\n",
        "print(confusion_matrix(yTest, svmcRes, labels=[0,1]))"
      ],
      "metadata": {
        "colab": {
          "base_uri": "https://localhost:8080/"
        },
        "id": "ebKGdyN__RII",
        "outputId": "80af886f-6893-4b21-d59c-5086eb4704e7"
      },
      "execution_count": 246,
      "outputs": [
        {
          "output_type": "stream",
          "name": "stdout",
          "text": [
            "Accuracy:  0.505\n",
            "MAE:  0.705\n",
            "MSE:  1.165\n",
            "F1_Score:  0.4440891422265586\n",
            "              precision    recall  f1-score   support\n",
            "\n",
            "           0       0.59      0.82      0.69        44\n",
            "           1       0.49      0.43      0.46        46\n",
            "           2       0.38      0.08      0.14        61\n",
            "           3       0.47      0.82      0.60        49\n",
            "\n",
            "    accuracy                           0.51       200\n",
            "   macro avg       0.48      0.54      0.47       200\n",
            "weighted avg       0.47      0.51      0.44       200\n",
            "\n",
            "[[36  1]\n",
            " [12 20]]\n"
          ]
        }
      ]
    },
    {
      "cell_type": "markdown",
      "source": [
        "Discussing the results overall"
      ],
      "metadata": {
        "id": "8tuH8kVaDML8"
      }
    },
    {
      "cell_type": "markdown",
      "source": [
        "After running all of the selected algorithms, they did okay but not well enough to say they are passable with the highest reaching 64% accuracy, that being the kNN model, followed very closely by random forest reaching 63% accuracy, while svm classifier did the worst at 50% accuracy."
      ],
      "metadata": {
        "id": "sFZGzfmlDhtm"
      }
    },
    {
      "cell_type": "markdown",
      "source": [
        "<h4>2b.  Perform hyper-parameters tuning to three machine learning\n",
        "algorithms of your choice from case number 2.a. The task is to predict the customer\n",
        "amount spent at the Bee Department Store (AmountSpent). Please explain your\n",
        "motivation on why do you choose such hyper-parameters tunning techniques.\n",
        "Moreover, please explain the process and the results. "
      ],
      "metadata": {
        "id": "SCDOnaVdEvzR"
      }
    },
    {
      "cell_type": "markdown",
      "source": [
        "There are sevelar methods that can be used to tune hyperparameters some popular methods include: grid search, random search, bayesian optimization.\n",
        "\n",
        "In this section I'll perform <b> grid search</b> as it is a simple yet methodical approach to hyperparameter tuning. "
      ],
      "metadata": {
        "id": "7wtzTDVUGTqs"
      }
    },
    {
      "cell_type": "markdown",
      "source": [
        "<b>Importing required libraries"
      ],
      "metadata": {
        "id": "ERvawROuRtMC"
      }
    },
    {
      "cell_type": "code",
      "source": [
        "from sklearn.model_selection import GridSearchCV"
      ],
      "metadata": {
        "id": "9RQlaHBFRwIq"
      },
      "execution_count": 247,
      "outputs": []
    },
    {
      "cell_type": "markdown",
      "source": [
        "<b>Hyperparamater tuning Random Forest"
      ],
      "metadata": {
        "id": "hdeOjdrhGOWC"
      }
    },
    {
      "cell_type": "markdown",
      "source": [
        "Declaring hyperparameters"
      ],
      "metadata": {
        "id": "cHkaEcVzQPeF"
      }
    },
    {
      "cell_type": "code",
      "source": [
        "nEstimators = [1, 3, 5, 10, 20, 50]\n",
        "maxFeatures = ['auto', 'sqrt']\n",
        "maxDepth = [5, 10, 15, 20, 25, 30]\n",
        "minSamplesSplit = [2, 6, 10]\n",
        "minSamplesLeaf = [1, 3, 4] \n",
        "bootstrap = [True, False] \n",
        "\n",
        "grid_rf = {\n",
        "  'n_estimators': nEstimators,\n",
        "  'max_features' : maxFeatures,\n",
        "  'max_depth': maxDepth,\n",
        "  'min_samples_split': minSamplesSplit,\n",
        "  'min_samples_leaf': minSamplesLeaf,\n",
        "  'bootstrap': bootstrap\n",
        "}"
      ],
      "metadata": {
        "id": "MJ1E1iBUOLC_"
      },
      "execution_count": 248,
      "outputs": []
    },
    {
      "cell_type": "markdown",
      "source": [
        "Executing grid search"
      ],
      "metadata": {
        "id": "wplrMBlGRcEc"
      }
    },
    {
      "cell_type": "code",
      "source": [
        "CV_rf = GridSearchCV(estimator=RandomForestClassifier(), param_grid=grid_rf)\n",
        "CV_rf.fit(xTrain, yTrain)"
      ],
      "metadata": {
        "id": "cnkbwDv-Rftp",
        "colab": {
          "base_uri": "https://localhost:8080/"
        },
        "outputId": "213a67c8-9413-4f89-e10c-afb43ac285f8"
      },
      "execution_count": 249,
      "outputs": [
        {
          "output_type": "execute_result",
          "data": {
            "text/plain": [
              "GridSearchCV(estimator=RandomForestClassifier(),\n",
              "             param_grid={'bootstrap': [True, False],\n",
              "                         'max_depth': [5, 10, 15, 20, 25, 30],\n",
              "                         'max_features': ['auto', 'sqrt'],\n",
              "                         'min_samples_leaf': [1, 3, 4],\n",
              "                         'min_samples_split': [2, 6, 10],\n",
              "                         'n_estimators': [1, 3, 5, 10, 20, 50]})"
            ]
          },
          "metadata": {},
          "execution_count": 249
        }
      ]
    },
    {
      "cell_type": "markdown",
      "source": [
        "Printing best parameters"
      ],
      "metadata": {
        "id": "zYHoCiPlUHRC"
      }
    },
    {
      "cell_type": "code",
      "source": [
        "print(\"Best parameters: \", CV_rf.best_params_)"
      ],
      "metadata": {
        "id": "amyV5Ip0T24w",
        "colab": {
          "base_uri": "https://localhost:8080/"
        },
        "outputId": "715d28bd-3ae9-4b97-cf57-ddcb6d16cc77"
      },
      "execution_count": 250,
      "outputs": [
        {
          "output_type": "stream",
          "name": "stdout",
          "text": [
            "Best parameters:  {'bootstrap': False, 'max_depth': 25, 'max_features': 'sqrt', 'min_samples_leaf': 4, 'min_samples_split': 10, 'n_estimators': 50}\n"
          ]
        }
      ]
    },
    {
      "cell_type": "markdown",
      "source": [
        "Utilizing best parameters"
      ],
      "metadata": {
        "id": "qVwjV9A4UI8d"
      }
    },
    {
      "cell_type": "markdown",
      "source": [
        "Training the model"
      ],
      "metadata": {
        "id": "R8ZmfVLQUlQ8"
      }
    },
    {
      "cell_type": "code",
      "source": [
        "rfcTuned = RandomForestClassifier(n_estimators=50, min_samples_split =10, min_samples_leaf=4, max_features='sqrt', max_depth=25, bootstrap=False)\n",
        "rfcTuned.fit(xTrain, yTrain)"
      ],
      "metadata": {
        "id": "6Sj1r2_LUPWu",
        "colab": {
          "base_uri": "https://localhost:8080/"
        },
        "outputId": "d55f6b18-63d1-41ee-d106-f150fb77d409"
      },
      "execution_count": 251,
      "outputs": [
        {
          "output_type": "execute_result",
          "data": {
            "text/plain": [
              "RandomForestClassifier(bootstrap=False, max_depth=25, max_features='sqrt',\n",
              "                       min_samples_leaf=4, min_samples_split=10,\n",
              "                       n_estimators=50)"
            ]
          },
          "metadata": {},
          "execution_count": 251
        }
      ]
    },
    {
      "cell_type": "markdown",
      "source": [
        "Running the model"
      ],
      "metadata": {
        "id": "KVzHoSawUpw1"
      }
    },
    {
      "cell_type": "code",
      "source": [
        "rfcTunedRes = rfcTuned.predict(xTest)\n",
        "\n",
        "for i in range(len(xTest)):\n",
        "  print(xTest.values[i], rfcTunedRes[i])"
      ],
      "metadata": {
        "id": "exMqzHFrUwVN",
        "colab": {
          "base_uri": "https://localhost:8080/"
        },
        "outputId": "b5c9ae25-7474-4e80-acb3-ff3d469f6957"
      },
      "execution_count": 252,
      "outputs": [
        {
          "output_type": "stream",
          "name": "stdout",
          "text": [
            "[1.         1.         0.         1.         0.         2.\n",
            " 2.         6.         0.41965974] 1\n",
            "[2.         1.         1.         1.         0.         0.\n",
            " 2.         6.         0.23188406] 1\n",
            "[2.         1.         0.         0.         0.         0.\n",
            " 0.         6.         0.00819156] 0\n",
            "[0.         1.         1.         0.         1.         1.\n",
            " 1.         6.         0.02709515] 0\n",
            "[0.         1.         1.         0.         0.         2.\n",
            " 0.         6.         0.07309389] 0\n",
            "[ 0.         1.         1.         0.         0.         1.\n",
            "  0.        12.         0.0447385] 0\n",
            "[0.0000000e+00 1.0000000e+00 1.0000000e+00 0.0000000e+00 1.0000000e+00\n",
            " 3.0000000e+00 0.0000000e+00 1.2000000e+01 8.1915564e-03] 0\n",
            "[ 0.          0.          1.          0.          0.          1.\n",
            "  0.         24.          0.02583491] 0\n",
            "[ 0.          1.          0.          0.          0.          2.\n",
            "  1.         24.          0.10712035] 0\n",
            "[ 0.          1.          1.          1.          1.          0.\n",
            "  2.         12.          0.12602394] 1\n",
            "[ 1.          0.          1.          0.          1.          0.\n",
            "  3.         18.          0.24511657] 3\n",
            "[ 0.          0.          1.          0.          0.          0.\n",
            "  0.         18.          0.04914934] 0\n",
            "[ 1.          0.          1.          0.          0.          1.\n",
            "  2.         18.          0.22117202] 2\n",
            "[ 2.          1.          0.          1.          1.          0.\n",
            "  0.         12.          0.43604285] 3\n",
            "[ 2.          0.          0.          1.          0.          0.\n",
            "  3.         18.          0.40768746] 3\n",
            "[ 0.          1.          1.          0.          0.          0.\n",
            "  1.         18.          0.02142407] 0\n",
            "[0.         0.         1.         1.         0.         0.\n",
            " 2.         6.         0.22306238] 1\n",
            "[ 0.          0.          0.          1.          0.          0.\n",
            "  0.         18.          0.30749842] 2\n",
            "[ 2.          1.          0.          1.          0.          0.\n",
            "  2.         12.          0.25771897] 1\n",
            "[ 2.          1.          1.          1.          1.          0.\n",
            "  3.         18.          0.31568998] 3\n",
            "[ 1.          0.          0.          1.          1.          1.\n",
            "  3.         24.          0.71140517] 3\n",
            "[ 1.          0.          1.          0.          0.          0.\n",
            "  3.         12.          0.39004411] 2\n",
            "[1.         0.         0.         1.         0.         0.\n",
            " 3.         6.         0.67926906] 3\n",
            "[2.         0.         1.         1.         0.         0.\n",
            " 3.         6.         0.45179584] 1\n",
            "[0.         0.         1.         1.         0.         1.\n",
            " 1.         6.         0.10901071] 0\n",
            "[1.         0.         0.         0.         0.         3.\n",
            " 0.         6.         0.25519849] 1\n",
            "[ 1.          0.          0.          0.          0.          0.\n",
            "  3.         24.          0.33459357] 2\n",
            "[ 1.          1.          1.          1.          0.          1.\n",
            "  3.         18.          0.52551985] 3\n",
            "[1.         1.         0.         0.         0.         3.\n",
            " 0.         6.         0.27221172] 1\n",
            "[ 1.          0.          0.          1.          0.          0.\n",
            "  3.         18.          0.55072464] 3\n",
            "[1.         0.         1.         1.         1.         1.\n",
            " 0.         6.         0.33963453] 2\n",
            "[ 1.          0.          1.          1.          0.          0.\n",
            "  3.         18.          0.43730309] 3\n",
            "[ 1.          1.          1.          1.          1.          1.\n",
            "  3.         18.          0.31505986] 3\n",
            "[ 1.          1.          0.          1.          0.          1.\n",
            "  3.         24.          0.46124764] 3\n",
            "[ 2.          1.          1.          1.          0.          0.\n",
            "  3.         18.          0.36862004] 2\n",
            "[ 0.          0.          1.          1.          0.          0.\n",
            "  0.         24.          0.24700693] 2\n",
            "[ 1.          1.          1.          1.          0.          1.\n",
            "  2.         18.          0.43982357] 2\n",
            "[ 2.          1.          1.          1.          1.          0.\n",
            "  3.         18.          0.34341525] 3\n",
            "[ 1.          0.          1.          0.          0.          0.\n",
            "  0.         18.          0.26654064] 2\n",
            "[ 2.          0.          1.          1.          0.          0.\n",
            "  3.         12.          0.38878387] 2\n",
            "[ 2.          0.          0.          1.          0.          0.\n",
            "  3.         24.          0.50724638] 3\n",
            "[2.         1.         0.         0.         0.         0.\n",
            " 1.         6.         0.04536862] 0\n",
            "[ 0.          0.          1.          0.          0.          0.\n",
            "  1.         24.          0.07057341] 1\n",
            "[ 2.         1.         0.         1.         1.         0.\n",
            "  2.        18.         0.1726528] 2\n",
            "[ 1.         0.         1.         0.         0.         0.\n",
            "  2.        18.         0.2236925] 2\n",
            "[ 2.          0.          0.          1.          1.          0.\n",
            "  2.         12.          0.14429742] 1\n",
            "[ 1.          0.          1.          1.          0.          1.\n",
            "  3.         24.          0.54379332] 3\n",
            "[ 0.          1.          1.          1.          1.          1.\n",
            "  2.         12.          0.23377442] 1\n",
            "[ 2.          1.          1.          1.          0.          0.\n",
            "  3.         18.          0.47069943] 3\n",
            "[ 1.          1.          1.          0.          0.          1.\n",
            "  2.         24.          0.22936358] 1\n",
            "[ 2.          0.          0.          1.          0.          0.\n",
            "  2.         24.          0.30371771] 2\n",
            "[ 1.          0.          0.          1.          0.          0.\n",
            "  3.         24.          0.44801512] 3\n",
            "[0.         1.         0.         0.         0.         1.\n",
            " 2.         6.         0.21802142] 1\n",
            "[ 1.          0.          0.          1.          0.          0.\n",
            "  3.         18.          0.48582231] 3\n",
            "[0.00000000e+00 1.00000000e+00 1.00000000e+00 0.00000000e+00\n",
            " 1.00000000e+00 3.00000000e+00 1.00000000e+00 1.80000000e+01\n",
            " 1.44927536e-02] 0\n",
            "[ 2.          1.          0.          1.          1.          2.\n",
            "  2.         12.          0.14807813] 1\n",
            "[ 0.          0.          1.          1.          0.          0.\n",
            "  2.         18.          0.16887209] 1\n",
            "[1.         1.         1.         1.         0.         2.\n",
            " 1.         6.         0.31758034] 0\n",
            "[ 2.          1.          1.          0.          0.          0.\n",
            "  0.         12.          0.03024575] 0\n",
            "[ 2.          1.          0.          1.          1.          0.\n",
            "  3.         18.          0.37996219] 3\n",
            "[ 1.          1.          1.          0.          0.          1.\n",
            "  1.         24.          0.19092628] 1\n",
            "[ 0.          0.          1.          0.          0.          0.\n",
            "  1.         12.          0.08443604] 0\n",
            "[ 2.          0.          0.          0.          0.          0.\n",
            "  2.         18.          0.22432262] 2\n",
            "[0.         1.         1.         1.         0.         0.\n",
            " 0.         6.         0.43667297] 1\n",
            "[ 1.          1.          0.          0.          0.          1.\n",
            "  2.         12.          0.21045999] 1\n",
            "[ 1.          1.          1.          0.          0.          0.\n",
            "  0.         18.          0.15879017] 2\n",
            "[ 2.          1.          1.          1.          0.          0.\n",
            "  2.         18.          0.19911783] 1\n",
            "[ 0.          1.          1.          0.          0.          1.\n",
            "  0.         18.          0.05860113] 0\n",
            "[0.         1.         1.         0.         0.         1.\n",
            " 0.         6.         0.02016383] 0\n",
            "[ 1.         0.         0.         1.         0.         1.\n",
            "  3.        24.         0.5431632] 3\n",
            "[2.         1.         1.         0.         1.         0.\n",
            " 1.         6.         0.04914934] 0\n",
            "[1.         0.         1.         0.         1.         1.\n",
            " 0.         6.         0.28796471] 2\n",
            "[ 0.          1.          1.          0.          1.          1.\n",
            "  1.         12.          0.06679269] 0\n",
            "[ 1.          1.          0.          0.          0.          0.\n",
            "  2.         12.          0.15816005] 1\n",
            "[1.         1.         1.         0.         1.         1.\n",
            " 2.         6.         0.21865154] 1\n",
            "[ 1.          0.          1.          1.          1.          0.\n",
            "  3.         18.          0.33333333] 3\n",
            "[ 2.          0.          0.          1.          1.          2.\n",
            "  3.         24.          0.42091997] 3\n",
            "[ 2.          1.          0.          1.          0.          0.\n",
            "  3.         12.          0.40705734] 2\n",
            "[1.         1.         1.         0.         0.         1.\n",
            " 2.         6.         0.30560807] 1\n",
            "[ 1.          0.          0.          0.          0.          1.\n",
            "  2.         24.          0.24385633] 2\n",
            "[ 1.          0.          0.          1.          0.          1.\n",
            "  0.         24.          0.51795841] 3\n",
            "[2.         1.         0.         0.         0.         0.\n",
            " 0.         6.         0.34341525] 2\n",
            "[ 2.          0.          0.          1.          0.          0.\n",
            "  2.         12.          0.25897921] 1\n",
            "[ 1.          1.          0.          1.          1.          1.\n",
            "  3.         12.          0.68178954] 3\n",
            "[ 0.          0.          1.          0.          1.          0.\n",
            "  1.         24.          0.03276623] 0\n",
            "[ 1.          0.          1.          1.          1.          2.\n",
            "  3.         18.          0.48519219] 3\n",
            "[ 1.          0.          0.          0.          1.          1.\n",
            "  0.         18.          0.21991178] 2\n",
            "[ 2.          0.          1.          1.          1.          0.\n",
            "  3.         24.          0.35349716] 3\n",
            "[ 2.          1.          1.          1.          1.          0.\n",
            "  3.         18.          0.49338374] 3\n",
            "[0.000000e+00 1.000000e+00 1.000000e+00 0.000000e+00 1.000000e+00\n",
            " 2.000000e+00 0.000000e+00 2.400000e+01 2.268431e-02] 0\n",
            "[ 1.          1.          0.          1.          0.          1.\n",
            "  3.         18.          0.45746692] 3\n",
            "[ 1.          0.          1.          0.          0.          0.\n",
            "  2.         12.          0.19596723] 1\n",
            "[ 0.          0.          1.          1.          0.          0.\n",
            "  2.         18.          0.18651544] 1\n",
            "[0.         1.         1.         0.         1.         2.\n",
            " 1.         6.         0.02646503] 0\n",
            "[ 0.          0.          1.          0.          0.          0.\n",
            "  1.         18.          0.02079395] 0\n",
            "[2.         1.         0.         0.         0.         0.\n",
            " 1.         6.         0.09010712] 0\n",
            "[1.         1.         1.         1.         0.         3.\n",
            " 1.         6.         0.55009452] 0\n",
            "[2.         0.         0.         0.         0.         0.\n",
            " 0.         6.         0.26023945] 2\n",
            "[2.         0.         0.         0.         1.         0.\n",
            " 3.         6.         0.32073094] 3\n",
            "[ 0.          0.          1.          1.          1.          0.\n",
            "  2.         12.          0.09451796] 1\n",
            "[ 1.          0.          0.          1.          0.          2.\n",
            "  2.         24.          0.61247637] 2\n",
            "[ 1.          0.          0.          0.          1.          0.\n",
            "  3.         24.          0.41146818] 3\n",
            "[0.00000000e+00 1.00000000e+00 1.00000000e+00 0.00000000e+00\n",
            " 1.00000000e+00 2.00000000e+00 1.00000000e+00 1.80000000e+01\n",
            " 6.30119723e-04] 0\n",
            "[ 0.          1.          0.          0.          1.          2.\n",
            "  2.         12.          0.14555766] 1\n",
            "[ 0.          0.          1.          0.          0.          0.\n",
            "  1.         12.          0.07435413] 0\n",
            "[ 1.          0.          1.          1.          0.          0.\n",
            "  3.         12.          0.68494014] 3\n",
            "[ 2.         1.         0.         1.         1.         0.\n",
            "  3.        24.         0.6294896] 3\n",
            "[ 0.          0.          1.          1.          0.          1.\n",
            "  2.         12.          0.26780088] 1\n",
            "[ 1.         1.         0.         0.         0.         0.\n",
            "  3.        12.         0.3673598] 2\n",
            "[ 1.          0.          0.          1.          0.          2.\n",
            "  2.         12.          0.55135476] 1\n",
            "[ 1.          0.          0.          1.          0.          2.\n",
            "  2.         18.          0.64839319] 1\n",
            "[ 1.          1.          0.          1.          0.          1.\n",
            "  0.         12.          0.45431632] 3\n",
            "[2.         1.         0.         0.         1.         1.\n",
            " 1.         6.         0.08758664] 0\n",
            "[ 0.          1.          1.          1.          1.          1.\n",
            "  0.         24.          0.14555766] 2\n",
            "[ 1.          1.          0.          1.          0.          0.\n",
            "  2.         24.          0.15879017] 2\n",
            "[ 0.          1.          1.          1.          0.          0.\n",
            "  0.         12.          0.32514178] 2\n",
            "[ 0.          1.          1.          1.          0.          3.\n",
            "  1.         12.          0.31821046] 0\n",
            "[ 1.          1.          0.          0.          0.          1.\n",
            "  0.         24.          0.16194077] 2\n",
            "[ 1.          0.          0.          0.          0.          0.\n",
            "  3.         18.          0.34089477] 2\n",
            "[ 2.          1.          0.          0.          1.          0.\n",
            "  2.         12.          0.07498425] 0\n",
            "[0.        0.        1.        0.        0.        0.        0.\n",
            " 6.        0.0989288] 0\n",
            "[ 1.          0.          0.          1.          0.          3.\n",
            "  0.         18.          0.45557656] 3\n",
            "[ 1.          0.          1.          0.          0.          1.\n",
            "  1.         18.          0.15185885] 1\n",
            "[ 0.          0.          1.          0.          0.          0.\n",
            "  0.         12.          0.03213611] 0\n",
            "[ 2.         0.         1.         0.         0.         1.\n",
            "  1.        12.         0.1405167] 0\n",
            "[ 0.          1.          1.          0.          1.          1.\n",
            "  1.         12.          0.05229994] 0\n",
            "[ 2.          1.          1.          0.          0.          0.\n",
            "  1.         12.          0.12035287] 1\n",
            "[ 1.          0.          0.          1.          0.          3.\n",
            "  0.         12.          0.58349086] 3\n",
            "[0.        1.        1.        1.        0.        1.        2.\n",
            " 6.        0.2778828] 1\n",
            "[0.         1.         1.         1.         0.         3.\n",
            " 1.         6.         0.20100819] 0\n",
            "[ 0.          1.          1.          0.          0.          1.\n",
            "  1.         12.          0.03969754] 0\n",
            "[1.         1.         1.         0.         0.         1.\n",
            " 1.         6.         0.11405167] 0\n",
            "[ 0.          1.          1.          0.          1.          2.\n",
            "  0.         24.          0.08254568] 1\n",
            "[ 1.         1.         1.         0.         0.         2.\n",
            "  0.        12.         0.2747322] 2\n",
            "[ 1.        0.        0.        1.        0.        0.        3.\n",
            " 12.        0.357908] 2\n",
            "[ 1.          1.          0.          0.          0.          1.\n",
            "  0.         12.          0.24322621] 2\n",
            "[ 2.          1.          0.          1.          1.          0.\n",
            "  3.         18.          0.43352237] 3\n",
            "[ 1.          0.          0.          0.          0.          0.\n",
            "  2.         12.          0.28859483] 1\n",
            "[ 1.          1.          0.          0.          0.          0.\n",
            "  0.         12.          0.23818526] 2\n",
            "[ 0.          1.          1.          0.          0.          1.\n",
            "  1.         18.          0.05671078] 0\n",
            "[1.        1.        0.        0.        1.        1.        0.\n",
            " 6.        0.0957782] 0\n",
            "[ 2.          0.          0.          1.          0.          0.\n",
            "  2.         24.          0.28040328] 2\n",
            "[ 2.          1.          0.          1.          0.          0.\n",
            "  2.         12.          0.24637681] 1\n",
            "[ 2.          1.          0.          1.          0.          0.\n",
            "  3.         24.          0.38185255] 3\n",
            "[ 1.          0.          1.          0.          1.          0.\n",
            "  3.         24.          0.30812854] 3\n",
            "[ 1.          0.          0.          1.          0.          3.\n",
            "  1.         12.          0.35538752] 0\n",
            "[ 1.          0.          1.          1.          1.          2.\n",
            "  3.         24.          0.46250788] 3\n",
            "[0.         1.         1.         0.         0.         1.\n",
            " 1.         6.         0.02016383] 0\n",
            "[2.         0.         1.         1.         0.         0.\n",
            " 2.         6.         0.31442974] 1\n",
            "[ 1.          0.          0.          1.          0.          2.\n",
            "  2.         12.          0.53560176] 1\n",
            "[ 1.          0.          1.          0.          0.          0.\n",
            "  2.         24.          0.21676118] 2\n",
            "[ 1.          0.          0.          1.          1.          0.\n",
            "  3.         24.          0.50031506] 3\n",
            "[ 1.          0.          0.          1.          0.          2.\n",
            "  3.         18.          0.73345936] 3\n",
            "[1.         0.         0.         1.         0.         0.\n",
            " 2.         6.         0.20541903] 1\n",
            "[ 0.          0.          1.          1.          0.          1.\n",
            "  2.         24.          0.27410208] 2\n",
            "[ 1.          0.          0.          1.          0.          1.\n",
            "  0.         12.          0.38752363] 2\n",
            "[0.         1.         1.         0.         0.         3.\n",
            " 1.         6.         0.08128544] 0\n",
            "[ 1.         0.         0.         1.         0.         1.\n",
            "  3.        18.         0.5816005] 3\n",
            "[0.         1.         1.         0.         0.         3.\n",
            " 0.         6.         0.07876497] 0\n",
            "[ 2.        1.        0.        1.        0.        0.        3.\n",
            " 18.        0.373661] 3\n",
            "[ 1.          0.          1.          0.          0.          1.\n",
            "  1.         18.          0.17958412] 1\n",
            "[ 0.          0.          0.          0.          0.          3.\n",
            "  0.         12.          0.12287335] 1\n",
            "[ 1.          0.          0.          0.          0.          0.\n",
            "  3.         24.          0.39760555] 3\n",
            "[ 1.          0.          1.          0.          1.          1.\n",
            "  2.         24.          0.16761185] 2\n",
            "[ 1.          0.          1.          1.          1.          1.\n",
            "  0.         12.          0.55135476] 3\n",
            "[ 1.          1.          0.          0.          1.          3.\n",
            "  2.         24.          0.34215501] 2\n",
            "[2.         1.         0.         0.         0.         2.\n",
            " 1.         6.         0.01638311] 0\n",
            "[0.         1.         1.         0.         1.         0.\n",
            " 1.         6.         0.04536862] 0\n",
            "[ 1.         1.         0.         0.         0.         2.\n",
            "  1.        12.         0.2268431] 1\n",
            "[ 1.          0.          0.          1.          0.          1.\n",
            "  3.         12.          0.56206679] 2\n",
            "[ 1.          1.          0.          1.          0.          3.\n",
            "  1.         24.          0.45116572] 0\n",
            "[ 1.          0.          0.          1.          0.          0.\n",
            "  3.         24.          0.59231254] 3\n",
            "[ 1.          0.          1.          0.          0.          0.\n",
            "  2.         12.          0.22558286] 1\n",
            "[1.         0.         1.         0.         1.         2.\n",
            " 0.         6.         0.30560807] 2\n",
            "[ 0.          1.          1.          0.          0.          2.\n",
            "  1.         18.          0.07561437] 0\n",
            "[ 1.          0.          0.          1.          0.          0.\n",
            "  3.         18.          0.55702583] 3\n",
            "[ 1.          0.          0.          1.          1.          0.\n",
            "  3.         24.          0.40138626] 3\n",
            "[ 2.          0.          1.          1.          0.          0.\n",
            "  3.         24.          0.37618147] 3\n",
            "[ 2.          1.          0.          1.          1.          0.\n",
            "  3.         24.          0.44927536] 3\n",
            "[ 1.          1.          0.          1.          0.          1.\n",
            "  3.         24.          0.62822936] 3\n",
            "[ 1.          1.          1.          1.          0.          1.\n",
            "  2.         18.          0.33648393] 2\n",
            "[ 1.          0.          1.          0.          1.          0.\n",
            "  3.         12.          0.34845621] 3\n",
            "[ 1.          0.          0.          0.          1.          1.\n",
            "  3.         12.          0.34845621] 3\n",
            "[ 1.          0.          0.          1.          0.          0.\n",
            "  3.         24.          0.46691871] 3\n",
            "[ 0.          1.          0.          0.          1.          1.\n",
            "  0.         24.          0.13799622] 1\n",
            "[ 0.          0.          1.          1.          0.          0.\n",
            "  3.         12.          0.36357908] 2\n",
            "[ 1.         0.         0.         0.         0.         2.\n",
            "  0.        18.         0.3705104] 3\n",
            "[ 1.         0.         1.         0.         1.         1.\n",
            "  2.        12.         0.2205419] 1\n",
            "[0.         1.         1.         0.         0.         3.\n",
            " 0.         6.         0.02520479] 0\n",
            "[ 1.          0.          1.          0.          1.          0.\n",
            "  3.         18.          0.26339004] 3\n",
            "[ 0.          0.          1.          1.          0.          0.\n",
            "  2.         12.          0.16761185] 1\n",
            "[1.        0.        0.        1.        0.        0.        3.\n",
            " 6.        0.4057971] 1\n",
            "[1.         1.         0.         1.         0.         1.\n",
            " 0.         6.         0.30875866] 1\n",
            "[ 1.          0.          0.          1.          0.          0.\n",
            "  3.         24.          0.50535602] 3\n",
            "[ 1.          1.          0.          1.          0.          2.\n",
            "  2.         24.          0.34845621] 1\n",
            "[ 0.          1.          0.          0.          0.          3.\n",
            "  0.         12.          0.11153119] 1\n",
            "[0.         1.         0.         0.         0.         1.\n",
            " 1.         6.         0.09010712] 0\n",
            "[ 1.         0.         0.         0.         0.         0.\n",
            "  3.        24.         0.3163201] 2\n",
            "[ 1.          0.          1.          0.          0.          0.\n",
            "  2.         24.          0.20289855] 1\n",
            "[ 2.          1.          1.          0.          0.          0.\n",
            "  1.         12.          0.11846251] 1\n"
          ]
        }
      ]
    },
    {
      "cell_type": "markdown",
      "source": [
        "Evaluating the model"
      ],
      "metadata": {
        "id": "dzXGHWvEVKQi"
      }
    },
    {
      "cell_type": "code",
      "source": [
        "print(\"Accuracy: \", accuracy_score(yTest, rfcTunedRes))\n",
        "print(\"MAE: \", mean_absolute_error(yTest, rfcTunedRes))\n",
        "print(\"MSE: \", mean_squared_error(yTest, rfcTunedRes))\n",
        "print(\"F1_Score: \", f1_score(yTest, rfcTunedRes, average='weighted'))\n",
        "print(classification_report(yTest, rfcTunedRes))\n",
        "print(confusion_matrix(yTest, rfcTunedRes, labels=[0,1]))"
      ],
      "metadata": {
        "id": "27On7A3hVLg1",
        "colab": {
          "base_uri": "https://localhost:8080/"
        },
        "outputId": "2e766107-004c-4689-fa17-1648549288e7"
      },
      "execution_count": 253,
      "outputs": [
        {
          "output_type": "stream",
          "name": "stdout",
          "text": [
            "Accuracy:  0.755\n",
            "MAE:  0.245\n",
            "MSE:  0.245\n",
            "F1_Score:  0.7477402685640012\n",
            "              precision    recall  f1-score   support\n",
            "\n",
            "           0       0.84      0.93      0.88        44\n",
            "           1       0.62      0.70      0.65        46\n",
            "           2       0.77      0.54      0.63        61\n",
            "           3       0.80      0.92      0.86        49\n",
            "\n",
            "    accuracy                           0.76       200\n",
            "   macro avg       0.76      0.77      0.76       200\n",
            "weighted avg       0.76      0.76      0.75       200\n",
            "\n",
            "[[41  3]\n",
            " [ 8 32]]\n"
          ]
        }
      ]
    },
    {
      "cell_type": "markdown",
      "source": [
        "<b>Hyperparameter tuning K-Nearest Neighbors"
      ],
      "metadata": {
        "id": "Z9YUbUqYca0l"
      }
    },
    {
      "cell_type": "markdown",
      "source": [
        "Declaring hyperparameters"
      ],
      "metadata": {
        "id": "abCqkZr2d3rD"
      }
    },
    {
      "cell_type": "code",
      "source": [
        "n_neighbors = [1, 2, 3, 5, 10, 20]\n",
        "algorithm = [\"auto\", \"ball_tree\", \"kd_tree\", \"brute\"]\n",
        "\n",
        "grid_knn = {\n",
        "    \"n_neighbors\": n_neighbors,\n",
        "    \"algorithm\": algorithm,\n",
        "}"
      ],
      "metadata": {
        "id": "MnhS1HFhclsz"
      },
      "execution_count": 254,
      "outputs": []
    },
    {
      "cell_type": "markdown",
      "source": [
        "Executing grid search"
      ],
      "metadata": {
        "id": "mhvFiwMId51Q"
      }
    },
    {
      "cell_type": "code",
      "source": [
        "CV_knn = GridSearchCV(estimator=KNeighborsClassifier(), param_grid=grid_knn)\n",
        "CV_knn.fit(xTrain, yTrain)"
      ],
      "metadata": {
        "id": "mbyZiXVFeGh4",
        "colab": {
          "base_uri": "https://localhost:8080/"
        },
        "outputId": "722819a9-f6d3-4e3f-cec5-81ebb5126d9e"
      },
      "execution_count": 255,
      "outputs": [
        {
          "output_type": "execute_result",
          "data": {
            "text/plain": [
              "GridSearchCV(estimator=KNeighborsClassifier(),\n",
              "             param_grid={'algorithm': ['auto', 'ball_tree', 'kd_tree', 'brute'],\n",
              "                         'n_neighbors': [1, 2, 3, 5, 10, 20]})"
            ]
          },
          "metadata": {},
          "execution_count": 255
        }
      ]
    },
    {
      "cell_type": "markdown",
      "source": [
        "Printing best parameters"
      ],
      "metadata": {
        "id": "yValCRHNed_H"
      }
    },
    {
      "cell_type": "code",
      "source": [
        "print(\"Best parameters: \", CV_knn.best_params_)"
      ],
      "metadata": {
        "id": "38B_q0akegTX",
        "colab": {
          "base_uri": "https://localhost:8080/"
        },
        "outputId": "bae842e1-7251-46c4-92f1-06e1e32fb34b"
      },
      "execution_count": 256,
      "outputs": [
        {
          "output_type": "stream",
          "name": "stdout",
          "text": [
            "Best parameters:  {'algorithm': 'auto', 'n_neighbors': 1}\n"
          ]
        }
      ]
    },
    {
      "cell_type": "markdown",
      "source": [
        "Utilizing best parameters"
      ],
      "metadata": {
        "id": "kh54ydprfLNZ"
      }
    },
    {
      "cell_type": "markdown",
      "source": [
        "Training the model"
      ],
      "metadata": {
        "id": "X37bYfkYfSMQ"
      }
    },
    {
      "cell_type": "code",
      "source": [
        "knnTuned = KNeighborsClassifier(n_neighbors=1, algorithm=\"auto\")\n",
        "knnTuned.fit(xTrain, yTrain)"
      ],
      "metadata": {
        "id": "C6gioZFWfVrH",
        "colab": {
          "base_uri": "https://localhost:8080/"
        },
        "outputId": "ed6f2a84-2273-483b-9988-bf8a813ff049"
      },
      "execution_count": 257,
      "outputs": [
        {
          "output_type": "execute_result",
          "data": {
            "text/plain": [
              "KNeighborsClassifier(n_neighbors=1)"
            ]
          },
          "metadata": {},
          "execution_count": 257
        }
      ]
    },
    {
      "cell_type": "markdown",
      "source": [
        "Running the model"
      ],
      "metadata": {
        "id": "UQvD9QiLepq6"
      }
    },
    {
      "cell_type": "code",
      "source": [
        "knnTunedRes = knnTuned.predict(xTest)\n",
        "\n",
        "for i in range(len(xTest)):\n",
        "  print(xTest.values[i], knnTunedRes[i])"
      ],
      "metadata": {
        "id": "Zwh9QZ5_eq0-",
        "colab": {
          "base_uri": "https://localhost:8080/"
        },
        "outputId": "6a1abff6-798c-4cfb-a480-0f8e638c7a42"
      },
      "execution_count": 258,
      "outputs": [
        {
          "output_type": "stream",
          "name": "stdout",
          "text": [
            "[1.         1.         0.         1.         0.         2.\n",
            " 2.         6.         0.41965974] 1\n",
            "[2.         1.         1.         1.         0.         0.\n",
            " 2.         6.         0.23188406] 1\n",
            "[2.         1.         0.         0.         0.         0.\n",
            " 0.         6.         0.00819156] 1\n",
            "[0.         1.         1.         0.         1.         1.\n",
            " 1.         6.         0.02709515] 0\n",
            "[0.         1.         1.         0.         0.         2.\n",
            " 0.         6.         0.07309389] 0\n",
            "[ 0.         1.         1.         0.         0.         1.\n",
            "  0.        12.         0.0447385] 0\n",
            "[0.0000000e+00 1.0000000e+00 1.0000000e+00 0.0000000e+00 1.0000000e+00\n",
            " 3.0000000e+00 0.0000000e+00 1.2000000e+01 8.1915564e-03] 0\n",
            "[ 0.          0.          1.          0.          0.          1.\n",
            "  0.         24.          0.02583491] 1\n",
            "[ 0.          1.          0.          0.          0.          2.\n",
            "  1.         24.          0.10712035] 0\n",
            "[ 0.          1.          1.          1.          1.          0.\n",
            "  2.         12.          0.12602394] 1\n",
            "[ 1.          0.          1.          0.          1.          0.\n",
            "  3.         18.          0.24511657] 2\n",
            "[ 0.          0.          1.          0.          0.          0.\n",
            "  0.         18.          0.04914934] 1\n",
            "[ 1.          0.          1.          0.          0.          1.\n",
            "  2.         18.          0.22117202] 2\n",
            "[ 2.          1.          0.          1.          1.          0.\n",
            "  0.         12.          0.43604285] 3\n",
            "[ 2.          0.          0.          1.          0.          0.\n",
            "  3.         18.          0.40768746] 3\n",
            "[ 0.          1.          1.          0.          0.          0.\n",
            "  1.         18.          0.02142407] 1\n",
            "[0.         0.         1.         1.         0.         0.\n",
            " 2.         6.         0.22306238] 1\n",
            "[ 0.          0.          0.          1.          0.          0.\n",
            "  0.         18.          0.30749842] 2\n",
            "[ 2.          1.          0.          1.          0.          0.\n",
            "  2.         12.          0.25771897] 2\n",
            "[ 2.          1.          1.          1.          1.          0.\n",
            "  3.         18.          0.31568998] 3\n",
            "[ 1.          0.          0.          1.          1.          1.\n",
            "  3.         24.          0.71140517] 3\n",
            "[ 1.          0.          1.          0.          0.          0.\n",
            "  3.         12.          0.39004411] 2\n",
            "[1.         0.         0.         1.         0.         0.\n",
            " 3.         6.         0.67926906] 2\n",
            "[2.         0.         1.         1.         0.         0.\n",
            " 3.         6.         0.45179584] 1\n",
            "[0.         0.         1.         1.         0.         1.\n",
            " 1.         6.         0.10901071] 0\n",
            "[1.         0.         0.         0.         0.         3.\n",
            " 0.         6.         0.25519849] 1\n",
            "[ 1.          0.          0.          0.          0.          0.\n",
            "  3.         24.          0.33459357] 2\n",
            "[ 1.          1.          1.          1.          0.          1.\n",
            "  3.         18.          0.52551985] 2\n",
            "[1.         1.         0.         0.         0.         3.\n",
            " 0.         6.         0.27221172] 2\n",
            "[ 1.          0.          0.          1.          0.          0.\n",
            "  3.         18.          0.55072464] 3\n",
            "[1.         0.         1.         1.         1.         1.\n",
            " 0.         6.         0.33963453] 2\n",
            "[ 1.          0.          1.          1.          0.          0.\n",
            "  3.         18.          0.43730309] 3\n",
            "[ 1.          1.          1.          1.          1.          1.\n",
            "  3.         18.          0.31505986] 3\n",
            "[ 1.          1.          0.          1.          0.          1.\n",
            "  3.         24.          0.46124764] 3\n",
            "[ 2.          1.          1.          1.          0.          0.\n",
            "  3.         18.          0.36862004] 3\n",
            "[ 0.          0.          1.          1.          0.          0.\n",
            "  0.         24.          0.24700693] 2\n",
            "[ 1.          1.          1.          1.          0.          1.\n",
            "  2.         18.          0.43982357] 2\n",
            "[ 2.          1.          1.          1.          1.          0.\n",
            "  3.         18.          0.34341525] 3\n",
            "[ 1.          0.          1.          0.          0.          0.\n",
            "  0.         18.          0.26654064] 2\n",
            "[ 2.          0.          1.          1.          0.          0.\n",
            "  3.         12.          0.38878387] 2\n",
            "[ 2.          0.          0.          1.          0.          0.\n",
            "  3.         24.          0.50724638] 3\n",
            "[2.         1.         0.         0.         0.         0.\n",
            " 1.         6.         0.04536862] 0\n",
            "[ 0.          0.          1.          0.          0.          0.\n",
            "  1.         24.          0.07057341] 1\n",
            "[ 2.         1.         0.         1.         1.         0.\n",
            "  2.        18.         0.1726528] 3\n",
            "[ 1.         0.         1.         0.         0.         0.\n",
            "  2.        18.         0.2236925] 2\n",
            "[ 2.          0.          0.          1.          1.          0.\n",
            "  2.         12.          0.14429742] 1\n",
            "[ 1.          0.          1.          1.          0.          1.\n",
            "  3.         24.          0.54379332] 3\n",
            "[ 0.          1.          1.          1.          1.          1.\n",
            "  2.         12.          0.23377442] 1\n",
            "[ 2.          1.          1.          1.          0.          0.\n",
            "  3.         18.          0.47069943] 2\n",
            "[ 1.          1.          1.          0.          0.          1.\n",
            "  2.         24.          0.22936358] 1\n",
            "[ 2.          0.          0.          1.          0.          0.\n",
            "  2.         24.          0.30371771] 2\n",
            "[ 1.          0.          0.          1.          0.          0.\n",
            "  3.         24.          0.44801512] 3\n",
            "[0.         1.         0.         0.         0.         1.\n",
            " 2.         6.         0.21802142] 1\n",
            "[ 1.          0.          0.          1.          0.          0.\n",
            "  3.         18.          0.48582231] 3\n",
            "[0.00000000e+00 1.00000000e+00 1.00000000e+00 0.00000000e+00\n",
            " 1.00000000e+00 3.00000000e+00 1.00000000e+00 1.80000000e+01\n",
            " 1.44927536e-02] 1\n",
            "[ 2.          1.          0.          1.          1.          2.\n",
            "  2.         12.          0.14807813] 0\n",
            "[ 0.          0.          1.          1.          0.          0.\n",
            "  2.         18.          0.16887209] 2\n",
            "[1.         1.         1.         1.         0.         2.\n",
            " 1.         6.         0.31758034] 0\n",
            "[ 2.          1.          1.          0.          0.          0.\n",
            "  0.         12.          0.03024575] 0\n",
            "[ 2.          1.          0.          1.          1.          0.\n",
            "  3.         18.          0.37996219] 3\n",
            "[ 1.          1.          1.          0.          0.          1.\n",
            "  1.         24.          0.19092628] 0\n",
            "[ 0.          0.          1.          0.          0.          0.\n",
            "  1.         12.          0.08443604] 0\n",
            "[ 2.          0.          0.          0.          0.          0.\n",
            "  2.         18.          0.22432262] 1\n",
            "[0.         1.         1.         1.         0.         0.\n",
            " 0.         6.         0.43667297] 1\n",
            "[ 1.          1.          0.          0.          0.          1.\n",
            "  2.         12.          0.21045999] 0\n",
            "[ 1.          1.          1.          0.          0.          0.\n",
            "  0.         18.          0.15879017] 2\n",
            "[ 2.          1.          1.          1.          0.          0.\n",
            "  2.         18.          0.19911783] 1\n",
            "[ 0.          1.          1.          0.          0.          1.\n",
            "  0.         18.          0.05860113] 0\n",
            "[0.         1.         1.         0.         0.         1.\n",
            " 0.         6.         0.02016383] 0\n",
            "[ 1.         0.         0.         1.         0.         1.\n",
            "  3.        24.         0.5431632] 3\n",
            "[2.         1.         1.         0.         1.         0.\n",
            " 1.         6.         0.04914934] 1\n",
            "[1.         0.         1.         0.         1.         1.\n",
            " 0.         6.         0.28796471] 2\n",
            "[ 0.          1.          1.          0.          1.          1.\n",
            "  1.         12.          0.06679269] 0\n",
            "[ 1.          1.          0.          0.          0.          0.\n",
            "  2.         12.          0.15816005] 2\n",
            "[1.         1.         1.         0.         1.         1.\n",
            " 2.         6.         0.21865154] 0\n",
            "[ 1.          0.          1.          1.          1.          0.\n",
            "  3.         18.          0.33333333] 3\n",
            "[ 2.          0.          0.          1.          1.          2.\n",
            "  3.         24.          0.42091997] 3\n",
            "[ 2.          1.          0.          1.          0.          0.\n",
            "  3.         12.          0.40705734] 2\n",
            "[1.         1.         1.         0.         0.         1.\n",
            " 2.         6.         0.30560807] 1\n",
            "[ 1.          0.          0.          0.          0.          1.\n",
            "  2.         24.          0.24385633] 1\n",
            "[ 1.          0.          0.          1.          0.          1.\n",
            "  0.         24.          0.51795841] 3\n",
            "[2.         1.         0.         0.         0.         0.\n",
            " 0.         6.         0.34341525] 1\n",
            "[ 2.          0.          0.          1.          0.          0.\n",
            "  2.         12.          0.25897921] 2\n",
            "[ 1.          1.          0.          1.          1.          1.\n",
            "  3.         12.          0.68178954] 2\n",
            "[ 0.          0.          1.          0.          1.          0.\n",
            "  1.         24.          0.03276623] 0\n",
            "[ 1.          0.          1.          1.          1.          2.\n",
            "  3.         18.          0.48519219] 2\n",
            "[ 1.          0.          0.          0.          1.          1.\n",
            "  0.         18.          0.21991178] 2\n",
            "[ 2.          0.          1.          1.          1.          0.\n",
            "  3.         24.          0.35349716] 3\n",
            "[ 2.          1.          1.          1.          1.          0.\n",
            "  3.         18.          0.49338374] 3\n",
            "[0.000000e+00 1.000000e+00 1.000000e+00 0.000000e+00 1.000000e+00\n",
            " 2.000000e+00 0.000000e+00 2.400000e+01 2.268431e-02] 0\n",
            "[ 1.          1.          0.          1.          0.          1.\n",
            "  3.         18.          0.45746692] 2\n",
            "[ 1.          0.          1.          0.          0.          0.\n",
            "  2.         12.          0.19596723] 1\n",
            "[ 0.          0.          1.          1.          0.          0.\n",
            "  2.         18.          0.18651544] 2\n",
            "[0.         1.         1.         0.         1.         2.\n",
            " 1.         6.         0.02646503] 0\n",
            "[ 0.          0.          1.          0.          0.          0.\n",
            "  1.         18.          0.02079395] 0\n",
            "[2.         1.         0.         0.         0.         0.\n",
            " 1.         6.         0.09010712] 0\n",
            "[1.         1.         1.         1.         0.         3.\n",
            " 1.         6.         0.55009452] 0\n",
            "[2.         0.         0.         0.         0.         0.\n",
            " 0.         6.         0.26023945] 1\n",
            "[2.         0.         0.         0.         1.         0.\n",
            " 3.         6.         0.32073094] 1\n",
            "[ 0.          0.          1.          1.          1.          0.\n",
            "  2.         12.          0.09451796] 1\n",
            "[ 1.          0.          0.          1.          0.          2.\n",
            "  2.         24.          0.61247637] 3\n",
            "[ 1.          0.          0.          0.          1.          0.\n",
            "  3.         24.          0.41146818] 3\n",
            "[0.00000000e+00 1.00000000e+00 1.00000000e+00 0.00000000e+00\n",
            " 1.00000000e+00 2.00000000e+00 1.00000000e+00 1.80000000e+01\n",
            " 6.30119723e-04] 0\n",
            "[ 0.          1.          0.          0.          1.          2.\n",
            "  2.         12.          0.14555766] 1\n",
            "[ 0.          0.          1.          0.          0.          0.\n",
            "  1.         12.          0.07435413] 0\n",
            "[ 1.          0.          1.          1.          0.          0.\n",
            "  3.         12.          0.68494014] 3\n",
            "[ 2.         1.         0.         1.         1.         0.\n",
            "  3.        24.         0.6294896] 3\n",
            "[ 0.          0.          1.          1.          0.          1.\n",
            "  2.         12.          0.26780088] 2\n",
            "[ 1.         1.         0.         0.         0.         0.\n",
            "  3.        12.         0.3673598] 2\n",
            "[ 1.          0.          0.          1.          0.          2.\n",
            "  2.         12.          0.55135476] 1\n",
            "[ 1.          0.          0.          1.          0.          2.\n",
            "  2.         18.          0.64839319] 2\n",
            "[ 1.          1.          0.          1.          0.          1.\n",
            "  0.         12.          0.45431632] 3\n",
            "[2.         1.         0.         0.         1.         1.\n",
            " 1.         6.         0.08758664] 0\n",
            "[ 0.          1.          1.          1.          1.          1.\n",
            "  0.         24.          0.14555766] 0\n",
            "[ 1.          1.          0.          1.          0.          0.\n",
            "  2.         24.          0.15879017] 1\n",
            "[ 0.          1.          1.          1.          0.          0.\n",
            "  0.         12.          0.32514178] 3\n",
            "[ 0.          1.          1.          1.          0.          3.\n",
            "  1.         12.          0.31821046] 0\n",
            "[ 1.          1.          0.          0.          0.          1.\n",
            "  0.         24.          0.16194077] 2\n",
            "[ 1.          0.          0.          0.          0.          0.\n",
            "  3.         18.          0.34089477] 2\n",
            "[ 2.          1.          0.          0.          1.          0.\n",
            "  2.         12.          0.07498425] 0\n",
            "[0.        0.        1.        0.        0.        0.        0.\n",
            " 6.        0.0989288] 0\n",
            "[ 1.          0.          0.          1.          0.          3.\n",
            "  0.         18.          0.45557656] 3\n",
            "[ 1.          0.          1.          0.          0.          1.\n",
            "  1.         18.          0.15185885] 1\n",
            "[ 0.          0.          1.          0.          0.          0.\n",
            "  0.         12.          0.03213611] 0\n",
            "[ 2.         0.         1.         0.         0.         1.\n",
            "  1.        12.         0.1405167] 0\n",
            "[ 0.          1.          1.          0.          1.          1.\n",
            "  1.         12.          0.05229994] 0\n",
            "[ 2.          1.          1.          0.          0.          0.\n",
            "  1.         12.          0.12035287] 1\n",
            "[ 1.          0.          0.          1.          0.          3.\n",
            "  0.         12.          0.58349086] 3\n",
            "[0.        1.        1.        1.        0.        1.        2.\n",
            " 6.        0.2778828] 1\n",
            "[0.         1.         1.         1.         0.         3.\n",
            " 1.         6.         0.20100819] 0\n",
            "[ 0.          1.          1.          0.          0.          1.\n",
            "  1.         12.          0.03969754] 0\n",
            "[1.         1.         1.         0.         0.         1.\n",
            " 1.         6.         0.11405167] 0\n",
            "[ 0.          1.          1.          0.          1.          2.\n",
            "  0.         24.          0.08254568] 1\n",
            "[ 1.         1.         1.         0.         0.         2.\n",
            "  0.        12.         0.2747322] 2\n",
            "[ 1.        0.        0.        1.        0.        0.        3.\n",
            " 12.        0.357908] 3\n",
            "[ 1.          1.          0.          0.          0.          1.\n",
            "  0.         12.          0.24322621] 3\n",
            "[ 2.          1.          0.          1.          1.          0.\n",
            "  3.         18.          0.43352237] 3\n",
            "[ 1.          0.          0.          0.          0.          0.\n",
            "  2.         12.          0.28859483] 1\n",
            "[ 1.          1.          0.          0.          0.          0.\n",
            "  0.         12.          0.23818526] 1\n",
            "[ 0.          1.          1.          0.          0.          1.\n",
            "  1.         18.          0.05671078] 0\n",
            "[1.        1.        0.        0.        1.        1.        0.\n",
            " 6.        0.0957782] 1\n",
            "[ 2.          0.          0.          1.          0.          0.\n",
            "  2.         24.          0.28040328] 2\n",
            "[ 2.          1.          0.          1.          0.          0.\n",
            "  2.         12.          0.24637681] 2\n",
            "[ 2.          1.          0.          1.          0.          0.\n",
            "  3.         24.          0.38185255] 2\n",
            "[ 1.          0.          1.          0.          1.          0.\n",
            "  3.         24.          0.30812854] 3\n",
            "[ 1.          0.          0.          1.          0.          3.\n",
            "  1.         12.          0.35538752] 0\n",
            "[ 1.          0.          1.          1.          1.          2.\n",
            "  3.         24.          0.46250788] 3\n",
            "[0.         1.         1.         0.         0.         1.\n",
            " 1.         6.         0.02016383] 0\n",
            "[2.         0.         1.         1.         0.         0.\n",
            " 2.         6.         0.31442974] 1\n",
            "[ 1.          0.          0.          1.          0.          2.\n",
            "  2.         12.          0.53560176] 1\n",
            "[ 1.          0.          1.          0.          0.          0.\n",
            "  2.         24.          0.21676118] 2\n",
            "[ 1.          0.          0.          1.          1.          0.\n",
            "  3.         24.          0.50031506] 2\n",
            "[ 1.          0.          0.          1.          0.          2.\n",
            "  3.         18.          0.73345936] 3\n",
            "[1.         0.         0.         1.         0.         0.\n",
            " 2.         6.         0.20541903] 1\n",
            "[ 0.          0.          1.          1.          0.          1.\n",
            "  2.         24.          0.27410208] 2\n",
            "[ 1.          0.          0.          1.          0.          1.\n",
            "  0.         12.          0.38752363] 2\n",
            "[0.         1.         1.         0.         0.         3.\n",
            " 1.         6.         0.08128544] 0\n",
            "[ 1.         0.         0.         1.         0.         1.\n",
            "  3.        18.         0.5816005] 3\n",
            "[0.         1.         1.         0.         0.         3.\n",
            " 0.         6.         0.07876497] 1\n",
            "[ 2.        1.        0.        1.        0.        0.        3.\n",
            " 18.        0.373661] 3\n",
            "[ 1.          0.          1.          0.          0.          1.\n",
            "  1.         18.          0.17958412] 1\n",
            "[ 0.          0.          0.          0.          0.          3.\n",
            "  0.         12.          0.12287335] 1\n",
            "[ 1.          0.          0.          0.          0.          0.\n",
            "  3.         24.          0.39760555] 3\n",
            "[ 1.          0.          1.          0.          1.          1.\n",
            "  2.         24.          0.16761185] 2\n",
            "[ 1.          0.          1.          1.          1.          1.\n",
            "  0.         12.          0.55135476] 2\n",
            "[ 1.          1.          0.          0.          1.          3.\n",
            "  2.         24.          0.34215501] 2\n",
            "[2.         1.         0.         0.         0.         2.\n",
            " 1.         6.         0.01638311] 0\n",
            "[0.         1.         1.         0.         1.         0.\n",
            " 1.         6.         0.04536862] 0\n",
            "[ 1.         1.         0.         0.         0.         2.\n",
            "  1.        12.         0.2268431] 1\n",
            "[ 1.          0.          0.          1.          0.          1.\n",
            "  3.         12.          0.56206679] 2\n",
            "[ 1.          1.          0.          1.          0.          3.\n",
            "  1.         24.          0.45116572] 2\n",
            "[ 1.          0.          0.          1.          0.          0.\n",
            "  3.         24.          0.59231254] 3\n",
            "[ 1.          0.          1.          0.          0.          0.\n",
            "  2.         12.          0.22558286] 1\n",
            "[1.         0.         1.         0.         1.         2.\n",
            " 0.         6.         0.30560807] 1\n",
            "[ 0.          1.          1.          0.          0.          2.\n",
            "  1.         18.          0.07561437] 0\n",
            "[ 1.          0.          0.          1.          0.          0.\n",
            "  3.         18.          0.55702583] 3\n",
            "[ 1.          0.          0.          1.          1.          0.\n",
            "  3.         24.          0.40138626] 3\n",
            "[ 2.          0.          1.          1.          0.          0.\n",
            "  3.         24.          0.37618147] 2\n",
            "[ 2.          1.          0.          1.          1.          0.\n",
            "  3.         24.          0.44927536] 3\n",
            "[ 1.          1.          0.          1.          0.          1.\n",
            "  3.         24.          0.62822936] 3\n",
            "[ 1.          1.          1.          1.          0.          1.\n",
            "  2.         18.          0.33648393] 2\n",
            "[ 1.          0.          1.          0.          1.          0.\n",
            "  3.         12.          0.34845621] 3\n",
            "[ 1.          0.          0.          0.          1.          1.\n",
            "  3.         12.          0.34845621] 3\n",
            "[ 1.          0.          0.          1.          0.          0.\n",
            "  3.         24.          0.46691871] 3\n",
            "[ 0.          1.          0.          0.          1.          1.\n",
            "  0.         24.          0.13799622] 0\n",
            "[ 0.          0.          1.          1.          0.          0.\n",
            "  3.         12.          0.36357908] 1\n",
            "[ 1.         0.         0.         0.         0.         2.\n",
            "  0.        18.         0.3705104] 2\n",
            "[ 1.         0.         1.         0.         1.         1.\n",
            "  2.        12.         0.2205419] 1\n",
            "[0.         1.         1.         0.         0.         3.\n",
            " 0.         6.         0.02520479] 0\n",
            "[ 1.          0.          1.          0.          1.          0.\n",
            "  3.         18.          0.26339004] 2\n",
            "[ 0.          0.          1.          1.          0.          0.\n",
            "  2.         12.          0.16761185] 1\n",
            "[1.        0.        0.        1.        0.        0.        3.\n",
            " 6.        0.4057971] 1\n",
            "[1.         1.         0.         1.         0.         1.\n",
            " 0.         6.         0.30875866] 1\n",
            "[ 1.          0.          0.          1.          0.          0.\n",
            "  3.         24.          0.50535602] 2\n",
            "[ 1.          1.          0.          1.          0.          2.\n",
            "  2.         24.          0.34845621] 1\n",
            "[ 0.          1.          0.          0.          0.          3.\n",
            "  0.         12.          0.11153119] 1\n",
            "[0.         1.         0.         0.         0.         1.\n",
            " 1.         6.         0.09010712] 0\n",
            "[ 1.         0.         0.         0.         0.         0.\n",
            "  3.        24.         0.3163201] 2\n",
            "[ 1.          0.          1.          0.          0.          0.\n",
            "  2.         24.          0.20289855] 2\n",
            "[ 2.          1.          1.          0.          0.          0.\n",
            "  1.         12.          0.11846251] 1\n"
          ]
        }
      ]
    },
    {
      "cell_type": "markdown",
      "source": [
        "Evaluating the model"
      ],
      "metadata": {
        "id": "NDQi5VsihOHp"
      }
    },
    {
      "cell_type": "code",
      "source": [
        "print(\"Accuracy: \", accuracy_score(yTest, knnTunedRes))\n",
        "print(\"MAE: \", mean_absolute_error(yTest, knnTunedRes))\n",
        "print(\"MSE: \", mean_squared_error(yTest, knnTunedRes))\n",
        "print(\"F1_Score: \", f1_score(yTest, knnTunedRes, average='weighted'))\n",
        "print(classification_report(yTest, knnTunedRes))\n",
        "print(confusion_matrix(yTest, knnTunedRes, labels=[0,1]))"
      ],
      "metadata": {
        "id": "h-iGqPNQhQEg",
        "colab": {
          "base_uri": "https://localhost:8080/"
        },
        "outputId": "30263e3f-4ae6-4568-91e2-670cf8331f2b"
      },
      "execution_count": 259,
      "outputs": [
        {
          "output_type": "stream",
          "name": "stdout",
          "text": [
            "Accuracy:  0.64\n",
            "MAE:  0.37\n",
            "MSE:  0.39\n",
            "F1_Score:  0.6395452485380116\n",
            "              precision    recall  f1-score   support\n",
            "\n",
            "           0       0.74      0.77      0.76        44\n",
            "           1       0.52      0.61      0.56        46\n",
            "           2       0.58      0.51      0.54        61\n",
            "           3       0.74      0.71      0.73        49\n",
            "\n",
            "    accuracy                           0.64       200\n",
            "   macro avg       0.65      0.65      0.65       200\n",
            "weighted avg       0.64      0.64      0.64       200\n",
            "\n",
            "[[34 10]\n",
            " [10 28]]\n"
          ]
        }
      ]
    },
    {
      "cell_type": "markdown",
      "source": [
        "<b>Hyperparameter tuning SVM"
      ],
      "metadata": {
        "id": "0TDSkI6_hfVM"
      }
    },
    {
      "cell_type": "markdown",
      "source": [
        "Declaring hyperparameter"
      ],
      "metadata": {
        "id": "0dhaIWwYko1B"
      }
    },
    {
      "cell_type": "code",
      "source": [
        "kernel = [\"rbf\", \"sigmoid\", \"linear\"]\n",
        "gamma = [0.001, 0.01, 0.1, 1]\n",
        "c = [0.1, 1, 10, 100]\n",
        "\n",
        "grid_svc = {\n",
        "    \"kernel\": kernel,\n",
        "    \"gamma\": gamma,\n",
        "    \"C\": c\n",
        "}"
      ],
      "metadata": {
        "id": "0JZeFtN1lpqW"
      },
      "execution_count": 260,
      "outputs": []
    },
    {
      "cell_type": "markdown",
      "source": [
        "Executing grid search"
      ],
      "metadata": {
        "id": "-QtCmUnhm03C"
      }
    },
    {
      "cell_type": "code",
      "source": [
        "CV_svc = GridSearchCV(estimator=svm.SVC(), param_grid=grid_svc)\n",
        "CV_svc.fit(xTrain, yTrain)"
      ],
      "metadata": {
        "id": "zGe5Guinl67q",
        "colab": {
          "base_uri": "https://localhost:8080/"
        },
        "outputId": "d73a9d51-6d42-457e-fa3b-f57eb6083ade"
      },
      "execution_count": 261,
      "outputs": [
        {
          "output_type": "execute_result",
          "data": {
            "text/plain": [
              "GridSearchCV(estimator=SVC(),\n",
              "             param_grid={'C': [0.1, 1, 10, 100], 'gamma': [0.001, 0.01, 0.1, 1],\n",
              "                         'kernel': ['rbf', 'sigmoid', 'linear']})"
            ]
          },
          "metadata": {},
          "execution_count": 261
        }
      ]
    },
    {
      "cell_type": "markdown",
      "source": [
        "Printing best parameters"
      ],
      "metadata": {
        "id": "SOgPedS963hA"
      }
    },
    {
      "cell_type": "code",
      "source": [
        "print(\"Best parameters: \", CV_svc.best_params_)"
      ],
      "metadata": {
        "id": "d7ENog5q69Er",
        "colab": {
          "base_uri": "https://localhost:8080/"
        },
        "outputId": "4130c8db-2194-49bf-a6d5-635a36868ba3"
      },
      "execution_count": 262,
      "outputs": [
        {
          "output_type": "stream",
          "name": "stdout",
          "text": [
            "Best parameters:  {'C': 100, 'gamma': 0.01, 'kernel': 'rbf'}\n"
          ]
        }
      ]
    },
    {
      "cell_type": "markdown",
      "source": [
        "Training the model"
      ],
      "metadata": {
        "id": "cTJkLa5qnU3u"
      }
    },
    {
      "cell_type": "code",
      "source": [
        "svcTuned = svm.SVC(kernel=\"rbf\", gamma=0.01, C=100)\n",
        "svcTuned.fit(xTrain, yTrain)"
      ],
      "metadata": {
        "id": "rbZACerqBhgp",
        "colab": {
          "base_uri": "https://localhost:8080/"
        },
        "outputId": "08b60765-32bd-4681-9b9c-8f80aad04669"
      },
      "execution_count": 263,
      "outputs": [
        {
          "output_type": "execute_result",
          "data": {
            "text/plain": [
              "SVC(C=100, gamma=0.01)"
            ]
          },
          "metadata": {},
          "execution_count": 263
        }
      ]
    },
    {
      "cell_type": "markdown",
      "source": [
        "Running the model"
      ],
      "metadata": {
        "id": "cXCTZxP6BtxV"
      }
    },
    {
      "cell_type": "code",
      "source": [
        "svcTunedRes = svcTuned.predict(xTest)\n",
        "\n",
        "for i in range(len(xTest)):\n",
        "  print(xTest.values[i], svcTunedRes[i])"
      ],
      "metadata": {
        "id": "B8c3TYg4Bv9F",
        "colab": {
          "base_uri": "https://localhost:8080/"
        },
        "outputId": "5a207135-0768-45db-fd13-3f57a72aadb7"
      },
      "execution_count": 264,
      "outputs": [
        {
          "output_type": "stream",
          "name": "stdout",
          "text": [
            "[1.         1.         0.         1.         0.         2.\n",
            " 2.         6.         0.41965974] 1\n",
            "[2.         1.         1.         1.         0.         0.\n",
            " 2.         6.         0.23188406] 1\n",
            "[2.         1.         0.         0.         0.         0.\n",
            " 0.         6.         0.00819156] 0\n",
            "[0.         1.         1.         0.         1.         1.\n",
            " 1.         6.         0.02709515] 0\n",
            "[0.         1.         1.         0.         0.         2.\n",
            " 0.         6.         0.07309389] 0\n",
            "[ 0.         1.         1.         0.         0.         1.\n",
            "  0.        12.         0.0447385] 0\n",
            "[0.0000000e+00 1.0000000e+00 1.0000000e+00 0.0000000e+00 1.0000000e+00\n",
            " 3.0000000e+00 0.0000000e+00 1.2000000e+01 8.1915564e-03] 0\n",
            "[ 0.          0.          1.          0.          0.          1.\n",
            "  0.         24.          0.02583491] 1\n",
            "[ 0.          1.          0.          0.          0.          2.\n",
            "  1.         24.          0.10712035] 0\n",
            "[ 0.          1.          1.          1.          1.          0.\n",
            "  2.         12.          0.12602394] 1\n",
            "[ 1.          0.          1.          0.          1.          0.\n",
            "  3.         18.          0.24511657] 3\n",
            "[ 0.          0.          1.          0.          0.          0.\n",
            "  0.         18.          0.04914934] 1\n",
            "[ 1.          0.          1.          0.          0.          1.\n",
            "  2.         18.          0.22117202] 1\n",
            "[ 2.          1.          0.          1.          1.          0.\n",
            "  0.         12.          0.43604285] 3\n",
            "[ 2.          0.          0.          1.          0.          0.\n",
            "  3.         18.          0.40768746] 3\n",
            "[ 0.          1.          1.          0.          0.          0.\n",
            "  1.         18.          0.02142407] 0\n",
            "[0.         0.         1.         1.         0.         0.\n",
            " 2.         6.         0.22306238] 1\n",
            "[ 0.          0.          0.          1.          0.          0.\n",
            "  0.         18.          0.30749842] 2\n",
            "[ 2.          1.          0.          1.          0.          0.\n",
            "  2.         12.          0.25771897] 1\n",
            "[ 2.          1.          1.          1.          1.          0.\n",
            "  3.         18.          0.31568998] 3\n",
            "[ 1.          0.          0.          1.          1.          1.\n",
            "  3.         24.          0.71140517] 3\n",
            "[ 1.          0.          1.          0.          0.          0.\n",
            "  3.         12.          0.39004411] 2\n",
            "[1.         0.         0.         1.         0.         0.\n",
            " 3.         6.         0.67926906] 2\n",
            "[2.         0.         1.         1.         0.         0.\n",
            " 3.         6.         0.45179584] 1\n",
            "[0.         0.         1.         1.         0.         1.\n",
            " 1.         6.         0.10901071] 0\n",
            "[1.         0.         0.         0.         0.         3.\n",
            " 0.         6.         0.25519849] 0\n",
            "[ 1.          0.          0.          0.          0.          0.\n",
            "  3.         24.          0.33459357] 2\n",
            "[ 1.          1.          1.          1.          0.          1.\n",
            "  3.         18.          0.52551985] 3\n",
            "[1.         1.         0.         0.         0.         3.\n",
            " 0.         6.         0.27221172] 0\n",
            "[ 1.          0.          0.          1.          0.          0.\n",
            "  3.         18.          0.55072464] 3\n",
            "[1.         0.         1.         1.         1.         1.\n",
            " 0.         6.         0.33963453] 2\n",
            "[ 1.          0.          1.          1.          0.          0.\n",
            "  3.         18.          0.43730309] 3\n",
            "[ 1.          1.          1.          1.          1.          1.\n",
            "  3.         18.          0.31505986] 3\n",
            "[ 1.          1.          0.          1.          0.          1.\n",
            "  3.         24.          0.46124764] 3\n",
            "[ 2.          1.          1.          1.          0.          0.\n",
            "  3.         18.          0.36862004] 3\n",
            "[ 0.          0.          1.          1.          0.          0.\n",
            "  0.         24.          0.24700693] 2\n",
            "[ 1.          1.          1.          1.          0.          1.\n",
            "  2.         18.          0.43982357] 2\n",
            "[ 2.          1.          1.          1.          1.          0.\n",
            "  3.         18.          0.34341525] 3\n",
            "[ 1.          0.          1.          0.          0.          0.\n",
            "  0.         18.          0.26654064] 2\n",
            "[ 2.          0.          1.          1.          0.          0.\n",
            "  3.         12.          0.38878387] 2\n",
            "[ 2.          0.          0.          1.          0.          0.\n",
            "  3.         24.          0.50724638] 3\n",
            "[2.         1.         0.         0.         0.         0.\n",
            " 1.         6.         0.04536862] 0\n",
            "[ 0.          0.          1.          0.          0.          0.\n",
            "  1.         24.          0.07057341] 1\n",
            "[ 2.         1.         0.         1.         1.         0.\n",
            "  2.        18.         0.1726528] 3\n",
            "[ 1.         0.         1.         0.         0.         0.\n",
            "  2.        18.         0.2236925] 2\n",
            "[ 2.          0.          0.          1.          1.          0.\n",
            "  2.         12.          0.14429742] 2\n",
            "[ 1.          0.          1.          1.          0.          1.\n",
            "  3.         24.          0.54379332] 3\n",
            "[ 0.          1.          1.          1.          1.          1.\n",
            "  2.         12.          0.23377442] 1\n",
            "[ 2.          1.          1.          1.          0.          0.\n",
            "  3.         18.          0.47069943] 3\n",
            "[ 1.          1.          1.          0.          0.          1.\n",
            "  2.         24.          0.22936358] 1\n",
            "[ 2.          0.          0.          1.          0.          0.\n",
            "  2.         24.          0.30371771] 2\n",
            "[ 1.          0.          0.          1.          0.          0.\n",
            "  3.         24.          0.44801512] 3\n",
            "[0.         1.         0.         0.         0.         1.\n",
            " 2.         6.         0.21802142] 1\n",
            "[ 1.          0.          0.          1.          0.          0.\n",
            "  3.         18.          0.48582231] 3\n",
            "[0.00000000e+00 1.00000000e+00 1.00000000e+00 0.00000000e+00\n",
            " 1.00000000e+00 3.00000000e+00 1.00000000e+00 1.80000000e+01\n",
            " 1.44927536e-02] 0\n",
            "[ 2.          1.          0.          1.          1.          2.\n",
            "  2.         12.          0.14807813] 1\n",
            "[ 0.          0.          1.          1.          0.          0.\n",
            "  2.         18.          0.16887209] 2\n",
            "[1.         1.         1.         1.         0.         2.\n",
            " 1.         6.         0.31758034] 0\n",
            "[ 2.          1.          1.          0.          0.          0.\n",
            "  0.         12.          0.03024575] 0\n",
            "[ 2.          1.          0.          1.          1.          0.\n",
            "  3.         18.          0.37996219] 3\n",
            "[ 1.          1.          1.          0.          0.          1.\n",
            "  1.         24.          0.19092628] 0\n",
            "[ 0.          0.          1.          0.          0.          0.\n",
            "  1.         12.          0.08443604] 0\n",
            "[ 2.          0.          0.          0.          0.          0.\n",
            "  2.         18.          0.22432262] 2\n",
            "[0.         1.         1.         1.         0.         0.\n",
            " 0.         6.         0.43667297] 1\n",
            "[ 1.          1.          0.          0.          0.          1.\n",
            "  2.         12.          0.21045999] 1\n",
            "[ 1.          1.          1.          0.          0.          0.\n",
            "  0.         18.          0.15879017] 2\n",
            "[ 2.          1.          1.          1.          0.          0.\n",
            "  2.         18.          0.19911783] 2\n",
            "[ 0.          1.          1.          0.          0.          1.\n",
            "  0.         18.          0.05860113] 0\n",
            "[0.         1.         1.         0.         0.         1.\n",
            " 0.         6.         0.02016383] 0\n",
            "[ 1.         0.         0.         1.         0.         1.\n",
            "  3.        24.         0.5431632] 3\n",
            "[2.         1.         1.         0.         1.         0.\n",
            " 1.         6.         0.04914934] 0\n",
            "[1.         0.         1.         0.         1.         1.\n",
            " 0.         6.         0.28796471] 2\n",
            "[ 0.          1.          1.          0.          1.          1.\n",
            "  1.         12.          0.06679269] 0\n",
            "[ 1.          1.          0.          0.          0.          0.\n",
            "  2.         12.          0.15816005] 1\n",
            "[1.         1.         1.         0.         1.         1.\n",
            " 2.         6.         0.21865154] 1\n",
            "[ 1.          0.          1.          1.          1.          0.\n",
            "  3.         18.          0.33333333] 3\n",
            "[ 2.          0.          0.          1.          1.          2.\n",
            "  3.         24.          0.42091997] 3\n",
            "[ 2.          1.          0.          1.          0.          0.\n",
            "  3.         12.          0.40705734] 2\n",
            "[1.         1.         1.         0.         0.         1.\n",
            " 2.         6.         0.30560807] 1\n",
            "[ 1.          0.          0.          0.          0.          1.\n",
            "  2.         24.          0.24385633] 2\n",
            "[ 1.          0.          0.          1.          0.          1.\n",
            "  0.         24.          0.51795841] 3\n",
            "[2.         1.         0.         0.         0.         0.\n",
            " 0.         6.         0.34341525] 1\n",
            "[ 2.          0.          0.          1.          0.          0.\n",
            "  2.         12.          0.25897921] 1\n",
            "[ 1.          1.          0.          1.          1.          1.\n",
            "  3.         12.          0.68178954] 3\n",
            "[ 0.          0.          1.          0.          1.          0.\n",
            "  1.         24.          0.03276623] 1\n",
            "[ 1.          0.          1.          1.          1.          2.\n",
            "  3.         18.          0.48519219] 3\n",
            "[ 1.          0.          0.          0.          1.          1.\n",
            "  0.         18.          0.21991178] 2\n",
            "[ 2.          0.          1.          1.          1.          0.\n",
            "  3.         24.          0.35349716] 3\n",
            "[ 2.          1.          1.          1.          1.          0.\n",
            "  3.         18.          0.49338374] 3\n",
            "[0.000000e+00 1.000000e+00 1.000000e+00 0.000000e+00 1.000000e+00\n",
            " 2.000000e+00 0.000000e+00 2.400000e+01 2.268431e-02] 0\n",
            "[ 1.          1.          0.          1.          0.          1.\n",
            "  3.         18.          0.45746692] 2\n",
            "[ 1.          0.          1.          0.          0.          0.\n",
            "  2.         12.          0.19596723] 1\n",
            "[ 0.          0.          1.          1.          0.          0.\n",
            "  2.         18.          0.18651544] 2\n",
            "[0.         1.         1.         0.         1.         2.\n",
            " 1.         6.         0.02646503] 0\n",
            "[ 0.          0.          1.          0.          0.          0.\n",
            "  1.         18.          0.02079395] 1\n",
            "[2.         1.         0.         0.         0.         0.\n",
            " 1.         6.         0.09010712] 0\n",
            "[1.         1.         1.         1.         0.         3.\n",
            " 1.         6.         0.55009452] 0\n",
            "[2.         0.         0.         0.         0.         0.\n",
            " 0.         6.         0.26023945] 2\n",
            "[2.         0.         0.         0.         1.         0.\n",
            " 3.         6.         0.32073094] 1\n",
            "[ 0.          0.          1.          1.          1.          0.\n",
            "  2.         12.          0.09451796] 1\n",
            "[ 1.          0.          0.          1.          0.          2.\n",
            "  2.         24.          0.61247637] 3\n",
            "[ 1.          0.          0.          0.          1.          0.\n",
            "  3.         24.          0.41146818] 3\n",
            "[0.00000000e+00 1.00000000e+00 1.00000000e+00 0.00000000e+00\n",
            " 1.00000000e+00 2.00000000e+00 1.00000000e+00 1.80000000e+01\n",
            " 6.30119723e-04] 0\n",
            "[ 0.          1.          0.          0.          1.          2.\n",
            "  2.         12.          0.14555766] 1\n",
            "[ 0.          0.          1.          0.          0.          0.\n",
            "  1.         12.          0.07435413] 0\n",
            "[ 1.          0.          1.          1.          0.          0.\n",
            "  3.         12.          0.68494014] 3\n",
            "[ 2.         1.         0.         1.         1.         0.\n",
            "  3.        24.         0.6294896] 3\n",
            "[ 0.          0.          1.          1.          0.          1.\n",
            "  2.         12.          0.26780088] 1\n",
            "[ 1.         1.         0.         0.         0.         0.\n",
            "  3.        12.         0.3673598] 2\n",
            "[ 1.          0.          0.          1.          0.          2.\n",
            "  2.         12.          0.55135476] 1\n",
            "[ 1.          0.          0.          1.          0.          2.\n",
            "  2.         18.          0.64839319] 3\n",
            "[ 1.          1.          0.          1.          0.          1.\n",
            "  0.         12.          0.45431632] 3\n",
            "[2.         1.         0.         0.         1.         1.\n",
            " 1.         6.         0.08758664] 0\n",
            "[ 0.          1.          1.          1.          1.          1.\n",
            "  0.         24.          0.14555766] 2\n",
            "[ 1.          1.          0.          1.          0.          0.\n",
            "  2.         24.          0.15879017] 2\n",
            "[ 0.          1.          1.          1.          0.          0.\n",
            "  0.         12.          0.32514178] 1\n",
            "[ 0.          1.          1.          1.          0.          3.\n",
            "  1.         12.          0.31821046] 0\n",
            "[ 1.          1.          0.          0.          0.          1.\n",
            "  0.         24.          0.16194077] 0\n",
            "[ 1.          0.          0.          0.          0.          0.\n",
            "  3.         18.          0.34089477] 2\n",
            "[ 2.          1.          0.          0.          1.          0.\n",
            "  2.         12.          0.07498425] 1\n",
            "[0.        0.        1.        0.        0.        0.        0.\n",
            " 6.        0.0989288] 0\n",
            "[ 1.          0.          0.          1.          0.          3.\n",
            "  0.         18.          0.45557656] 3\n",
            "[ 1.          0.          1.          0.          0.          1.\n",
            "  1.         18.          0.15185885] 1\n",
            "[ 0.          0.          1.          0.          0.          0.\n",
            "  0.         12.          0.03213611] 0\n",
            "[ 2.         0.         1.         0.         0.         1.\n",
            "  1.        12.         0.1405167] 0\n",
            "[ 0.          1.          1.          0.          1.          1.\n",
            "  1.         12.          0.05229994] 0\n",
            "[ 2.          1.          1.          0.          0.          0.\n",
            "  1.         12.          0.12035287] 0\n",
            "[ 1.          0.          0.          1.          0.          3.\n",
            "  0.         12.          0.58349086] 3\n",
            "[0.        1.        1.        1.        0.        1.        2.\n",
            " 6.        0.2778828] 1\n",
            "[0.         1.         1.         1.         0.         3.\n",
            " 1.         6.         0.20100819] 0\n",
            "[ 0.          1.          1.          0.          0.          1.\n",
            "  1.         12.          0.03969754] 0\n",
            "[1.         1.         1.         0.         0.         1.\n",
            " 1.         6.         0.11405167] 0\n",
            "[ 0.          1.          1.          0.          1.          2.\n",
            "  0.         24.          0.08254568] 0\n",
            "[ 1.         1.         1.         0.         0.         2.\n",
            "  0.        12.         0.2747322] 1\n",
            "[ 1.        0.        0.        1.        0.        0.        3.\n",
            " 12.        0.357908] 2\n",
            "[ 1.          1.          0.          0.          0.          1.\n",
            "  0.         12.          0.24322621] 1\n",
            "[ 2.          1.          0.          1.          1.          0.\n",
            "  3.         18.          0.43352237] 3\n",
            "[ 1.          0.          0.          0.          0.          0.\n",
            "  2.         12.          0.28859483] 2\n",
            "[ 1.          1.          0.          0.          0.          0.\n",
            "  0.         12.          0.23818526] 1\n",
            "[ 0.          1.          1.          0.          0.          1.\n",
            "  1.         18.          0.05671078] 0\n",
            "[1.        1.        0.        0.        1.        1.        0.\n",
            " 6.        0.0957782] 1\n",
            "[ 2.          0.          0.          1.          0.          0.\n",
            "  2.         24.          0.28040328] 2\n",
            "[ 2.          1.          0.          1.          0.          0.\n",
            "  2.         12.          0.24637681] 1\n",
            "[ 2.          1.          0.          1.          0.          0.\n",
            "  3.         24.          0.38185255] 3\n",
            "[ 1.          0.          1.          0.          1.          0.\n",
            "  3.         24.          0.30812854] 3\n",
            "[ 1.          0.          0.          1.          0.          3.\n",
            "  1.         12.          0.35538752] 0\n",
            "[ 1.          0.          1.          1.          1.          2.\n",
            "  3.         24.          0.46250788] 3\n",
            "[0.         1.         1.         0.         0.         1.\n",
            " 1.         6.         0.02016383] 0\n",
            "[2.         0.         1.         1.         0.         0.\n",
            " 2.         6.         0.31442974] 1\n",
            "[ 1.          0.          0.          1.          0.          2.\n",
            "  2.         12.          0.53560176] 1\n",
            "[ 1.          0.          1.          0.          0.          0.\n",
            "  2.         24.          0.21676118] 2\n",
            "[ 1.          0.          0.          1.          1.          0.\n",
            "  3.         24.          0.50031506] 3\n",
            "[ 1.          0.          0.          1.          0.          2.\n",
            "  3.         18.          0.73345936] 3\n",
            "[1.         0.         0.         1.         0.         0.\n",
            " 2.         6.         0.20541903] 1\n",
            "[ 0.          0.          1.          1.          0.          1.\n",
            "  2.         24.          0.27410208] 2\n",
            "[ 1.          0.          0.          1.          0.          1.\n",
            "  0.         12.          0.38752363] 2\n",
            "[0.         1.         1.         0.         0.         3.\n",
            " 1.         6.         0.08128544] 0\n",
            "[ 1.         0.         0.         1.         0.         1.\n",
            "  3.        18.         0.5816005] 3\n",
            "[0.         1.         1.         0.         0.         3.\n",
            " 0.         6.         0.07876497] 0\n",
            "[ 2.        1.        0.        1.        0.        0.        3.\n",
            " 18.        0.373661] 3\n",
            "[ 1.          0.          1.          0.          0.          1.\n",
            "  1.         18.          0.17958412] 1\n",
            "[ 0.          0.          0.          0.          0.          3.\n",
            "  0.         12.          0.12287335] 0\n",
            "[ 1.          0.          0.          0.          0.          0.\n",
            "  3.         24.          0.39760555] 3\n",
            "[ 1.          0.          1.          0.          1.          1.\n",
            "  2.         24.          0.16761185] 2\n",
            "[ 1.          0.          1.          1.          1.          1.\n",
            "  0.         12.          0.55135476] 3\n",
            "[ 1.          1.          0.          0.          1.          3.\n",
            "  2.         24.          0.34215501] 2\n",
            "[2.         1.         0.         0.         0.         2.\n",
            " 1.         6.         0.01638311] 0\n",
            "[0.         1.         1.         0.         1.         0.\n",
            " 1.         6.         0.04536862] 0\n",
            "[ 1.         1.         0.         0.         0.         2.\n",
            "  1.        12.         0.2268431] 0\n",
            "[ 1.          0.          0.          1.          0.          1.\n",
            "  3.         12.          0.56206679] 2\n",
            "[ 1.          1.          0.          1.          0.          3.\n",
            "  1.         24.          0.45116572] 2\n",
            "[ 1.          0.          0.          1.          0.          0.\n",
            "  3.         24.          0.59231254] 3\n",
            "[ 1.          0.          1.          0.          0.          0.\n",
            "  2.         12.          0.22558286] 1\n",
            "[1.         0.         1.         0.         1.         2.\n",
            " 0.         6.         0.30560807] 2\n",
            "[ 0.          1.          1.          0.          0.          2.\n",
            "  1.         18.          0.07561437] 0\n",
            "[ 1.          0.          0.          1.          0.          0.\n",
            "  3.         18.          0.55702583] 3\n",
            "[ 1.          0.          0.          1.          1.          0.\n",
            "  3.         24.          0.40138626] 3\n",
            "[ 2.          0.          1.          1.          0.          0.\n",
            "  3.         24.          0.37618147] 3\n",
            "[ 2.          1.          0.          1.          1.          0.\n",
            "  3.         24.          0.44927536] 3\n",
            "[ 1.          1.          0.          1.          0.          1.\n",
            "  3.         24.          0.62822936] 3\n",
            "[ 1.          1.          1.          1.          0.          1.\n",
            "  2.         18.          0.33648393] 2\n",
            "[ 1.          0.          1.          0.          1.          0.\n",
            "  3.         12.          0.34845621] 3\n",
            "[ 1.          0.          0.          0.          1.          1.\n",
            "  3.         12.          0.34845621] 2\n",
            "[ 1.          0.          0.          1.          0.          0.\n",
            "  3.         24.          0.46691871] 3\n",
            "[ 0.          1.          0.          0.          1.          1.\n",
            "  0.         24.          0.13799622] 1\n",
            "[ 0.          0.          1.          1.          0.          0.\n",
            "  3.         12.          0.36357908] 2\n",
            "[ 1.         0.         0.         0.         0.         2.\n",
            "  0.        18.         0.3705104] 2\n",
            "[ 1.         0.         1.         0.         1.         1.\n",
            "  2.        12.         0.2205419] 1\n",
            "[0.         1.         1.         0.         0.         3.\n",
            " 0.         6.         0.02520479] 0\n",
            "[ 1.          0.          1.          0.          1.          0.\n",
            "  3.         18.          0.26339004] 3\n",
            "[ 0.          0.          1.          1.          0.          0.\n",
            "  2.         12.          0.16761185] 1\n",
            "[1.        0.        0.        1.        0.        0.        3.\n",
            " 6.        0.4057971] 1\n",
            "[1.         1.         0.         1.         0.         1.\n",
            " 0.         6.         0.30875866] 1\n",
            "[ 1.          0.          0.          1.          0.          0.\n",
            "  3.         24.          0.50535602] 3\n",
            "[ 1.          1.          0.          1.          0.          2.\n",
            "  2.         24.          0.34845621] 2\n",
            "[ 0.          1.          0.          0.          0.          3.\n",
            "  0.         12.          0.11153119] 0\n",
            "[0.         1.         0.         0.         0.         1.\n",
            " 1.         6.         0.09010712] 0\n",
            "[ 1.         0.         0.         0.         0.         0.\n",
            "  3.        24.         0.3163201] 2\n",
            "[ 1.          0.          1.          0.          0.          0.\n",
            "  2.         24.          0.20289855] 2\n",
            "[ 2.          1.          1.          0.          0.          0.\n",
            "  1.         12.          0.11846251] 0\n"
          ]
        }
      ]
    },
    {
      "cell_type": "markdown",
      "source": [
        "Evaluating the model"
      ],
      "metadata": {
        "id": "o2gwx8YAB8tn"
      }
    },
    {
      "cell_type": "code",
      "source": [
        "print(\"Accuracy: \", accuracy_score(yTest, svcTunedRes))\n",
        "print(\"MAE: \", mean_absolute_error(yTest, svcTunedRes))\n",
        "print(\"MSE: \", mean_squared_error(yTest, svcTunedRes))\n",
        "print(\"F1_Score: \", f1_score(yTest, svcTunedRes, average='weighted'))\n",
        "print(classification_report(yTest, svcTunedRes))\n",
        "print(confusion_matrix(yTest, svcTunedRes, labels=[0,1]))"
      ],
      "metadata": {
        "id": "mQSyn7giB9w6",
        "colab": {
          "base_uri": "https://localhost:8080/"
        },
        "outputId": "eb2f3084-38ff-404a-d33e-9263f13b2cd7"
      },
      "execution_count": 265,
      "outputs": [
        {
          "output_type": "stream",
          "name": "stdout",
          "text": [
            "Accuracy:  0.675\n",
            "MAE:  0.33\n",
            "MSE:  0.34\n",
            "F1_Score:  0.6660439119290987\n",
            "              precision    recall  f1-score   support\n",
            "\n",
            "           0       0.75      0.89      0.81        44\n",
            "           1       0.54      0.57      0.55        46\n",
            "           2       0.64      0.48      0.55        61\n",
            "           3       0.75      0.84      0.79        49\n",
            "\n",
            "    accuracy                           0.68       200\n",
            "   macro avg       0.67      0.69      0.68       200\n",
            "weighted avg       0.67      0.68      0.67       200\n",
            "\n",
            "[[39  5]\n",
            " [12 26]]\n"
          ]
        }
      ]
    },
    {
      "cell_type": "markdown",
      "source": [
        "After running all the algorithms this time performing hyperparameter tuning, the order shifted massively. The most accurate algorithm is now random forest at 75% accuracy (12% increase), followed by SVM classification which improved the most out of all the algorithms now stands at 67% accuracy (17.5% accuracy), lastly the previous best which is kNN now sits last having unchanged accuracy at 64%, that being said the absolute and squared mean error did see improvement (0.4 and 0.49) to (0.37 and 0.39) respectively."
      ],
      "metadata": {
        "id": "s3CzVKKo5Eqc"
      }
    },
    {
      "cell_type": "markdown",
      "source": [
        "<h4>2c. Evaluate all the models trained with the machine learning algorithms\n",
        "from task no 2.b. Explain comprehensively: (1) the meaning of the results, (2) the\n",
        "future work direction to improve the model (i.e. what should we do to improve the\n",
        "results).\n"
      ],
      "metadata": {
        "id": "PPwgnOEAC26j"
      }
    },
    {
      "cell_type": "markdown",
      "source": [
        "Therefore it can be concluded that the random forest regression model is the best model to apply out of the three that was chosen both before and after hyperparameter tuning. \n",
        "\n",
        "For future work, two things come to mind that can be tried in order to improve the results. Different algorithms often require different preprocessing techniques to be applied, for example in this work, only minmaxscaler, a type of normalization is applied, however other algorithms might benefit a lot more from standardization being applied.\n",
        "\n",
        "\n",
        "The other suggestion is to experiment with other hyperparameter tuning algorithms, as mentioned in the beginning of the hyperparameter tuning section, Grid Search is a simplistic yet methodical technique where we the user define the possible values first, however other techniques don't require this and might yield better results for varying amount of computing power.\n"
      ],
      "metadata": {
        "id": "PetcbDQYC9vq"
      }
    },
    {
      "cell_type": "markdown",
      "source": [
        "<h4>3a.Prepare your data for the clustering task. Perform data preprocessing and features engineering process on the dataset specifically for clustering\n",
        "task! Please explain your motivation on why do you choose such data processing and\n",
        "feature engineering techniques. Moreover, please explain the process and the results."
      ],
      "metadata": {
        "id": "gcujhgxUXtPP"
      }
    },
    {
      "cell_type": "markdown",
      "source": [
        "Clustering is a distance based task, this means that data should be scaled, but not only that the most popular clustering algorithm that is K-Means also creates an assumption that the data is normally distributed. However we have a lot of columns that are already categorical in nature as such K-Means is not ideal, and we have already done the feature scaling in the previous section. "
      ],
      "metadata": {
        "id": "fJMRX_9Na-ht"
      }
    },
    {
      "cell_type": "markdown",
      "source": [
        "<h4> 3b. Choose at least two clustering algorithms of your choice to cluster\n",
        "the customer. Please explain your choice, the training process, and the training\n",
        "results. Moreover, perform hyper-parameters tuning to the best clustering\n",
        "algorithms."
      ],
      "metadata": {
        "id": "8Vp3p4fxG_QW"
      }
    },
    {
      "cell_type": "code",
      "source": [
        "from sklearn.cluster import DBSCAN\n",
        "from sklearn.mixture import GaussianMixture\n",
        "from sklearn.metrics import silhouette_score"
      ],
      "metadata": {
        "id": "_4-gCCU4ID4U"
      },
      "execution_count": 266,
      "outputs": []
    },
    {
      "cell_type": "markdown",
      "source": [
        "<b>DBScan"
      ],
      "metadata": {
        "id": "6NZ_mViiHsSB"
      }
    },
    {
      "cell_type": "code",
      "source": [
        "DBS = DBSCAN().fit(categorizedMarketingData)\n",
        "YPredict = DBS.fit_predict(categorizedMarketingData)\n",
        "DBSLabels = DBS.labels_\n",
        "DBSCore = DBS.core_sample_indices_\n",
        "print(\"DBS Labels : \", DBSLabels)\n",
        "print(\"DBS Core Sample : \", DBSCore)\n",
        "print(\"Y Predict : \", YPredict)\n",
        "print(\"DBS: \", silhouette_score(categorizedMarketingData, YPredict))"
      ],
      "metadata": {
        "colab": {
          "base_uri": "https://localhost:8080/"
        },
        "id": "x_DFYqnMLmyX",
        "outputId": "c04771e5-26c3-4d5a-e58e-ea7e87146970"
      },
      "execution_count": 267,
      "outputs": [
        {
          "output_type": "stream",
          "name": "stdout",
          "text": [
            "DBS Labels :  [-1 -1 -1 -1 -1 -1 -1  0 -1 -1  1  0 -1 -1 -1 -1 -1 -1 -1  0  0  2 -1 -1\n",
            " -1 -1 -1 -1 -1 -1 -1  3 -1  4  5  3 -1 -1 -1  1 -1 -1 -1 -1 -1  0  0  0\n",
            "  0 -1 -1 -1 -1 -1 -1 -1 -1 -1 -1  3 -1 -1  4 -1  0 -1 -1 -1  0 -1 -1  0\n",
            " -1 -1 -1  0 -1  2 -1  5 -1 -1  4 -1 -1  2 -1 -1 -1 -1 -1 -1 -1 -1 -1 -1\n",
            " -1 -1 -1 -1 -1 -1  1  0 -1 -1 -1 -1  4 -1 -1 -1 -1 -1 -1  2 -1  1 -1  3\n",
            " -1  6 -1  3 -1 -1  6 -1 -1 -1 -1  1 -1 -1  5  6 -1 -1 -1 -1 -1 -1 -1 -1\n",
            " -1  5 -1 -1 -1 -1 -1 -1  6 -1 -1 -1 -1 -1 -1 -1 -1 -1 -1 -1 -1 -1 -1  0\n",
            " -1 -1 -1 -1 -1 -1 -1 -1 -1 -1  6 -1 -1 -1 -1 -1 -1 -1 -1  5 -1 -1 -1  6\n",
            " -1  6 -1 -1 -1 -1 -1 -1 -1 -1 -1 -1 -1 -1 -1 -1 -1 -1 -1 -1 -1 -1 -1 -1\n",
            " -1 -1 -1 -1 -1 -1  4 -1 -1 -1 -1 -1 -1 -1  1 -1 -1 -1 -1 -1 -1 -1 -1 -1\n",
            "  5  2 -1 -1 -1 -1 -1 -1 -1 -1 -1 -1 -1 -1 -1 -1 -1 -1 -1 -1 -1 -1 -1 -1\n",
            " -1 -1 -1 -1 -1 -1 -1 -1 -1 -1 -1 -1 -1 -1 -1 -1 -1 -1 -1  7 -1 -1 -1 -1\n",
            " -1 -1 -1 -1 -1 -1 -1 -1  7 -1 -1 -1 -1 -1  8 -1 -1 -1 -1 -1 -1 -1 -1 -1\n",
            " -1 -1 -1 -1 -1  7 -1 -1 -1 -1 -1 -1 -1 -1 -1 -1 -1 -1 -1 -1 -1 -1 -1 -1\n",
            " -1 -1 -1 -1 -1 -1 -1 -1 -1 -1 -1 -1 -1 -1 -1 -1 -1 -1 -1 -1 -1 -1  7 -1\n",
            " -1 -1 -1 -1 -1 -1 -1 -1 -1 -1 -1 -1 -1 -1 -1 -1 -1 -1 -1 -1 -1 -1 -1 -1\n",
            " -1 -1 -1 -1 -1 -1 -1 -1 -1  7 -1 -1 -1 -1 -1 -1 -1 -1 -1 -1 -1 -1 -1 -1\n",
            " -1 -1 -1 -1 -1 -1 -1 -1 -1 -1 -1 -1 -1 -1 -1 -1 -1 -1 -1  8 -1 -1 -1  8\n",
            " -1 -1 -1 -1 -1 -1 -1 -1 -1 -1 -1 -1 -1 -1 -1 -1 -1 -1 -1 -1 -1 -1 -1 -1\n",
            " -1 -1 -1 -1  8 -1 -1 -1 -1 -1 -1 -1 -1 -1 -1 -1 -1 -1 -1 -1 -1 -1 -1 -1\n",
            " -1 -1 -1 -1 -1 -1  8 -1 -1 -1 -1 -1 -1 -1 -1 -1 -1 -1 -1 -1 -1 -1 -1 -1\n",
            " -1 -1 -1 -1 -1 -1 -1 -1 -1 -1 -1 -1 -1 -1 -1 -1 -1 -1 -1 -1 -1 -1 -1 -1\n",
            " -1 -1 -1 -1 -1 -1 -1 -1 -1 -1 -1 -1 -1 -1 -1 -1 -1 -1 -1 -1 -1 -1 -1 -1\n",
            " -1 -1 -1 -1 -1 -1 -1 -1 -1 -1 -1 -1 -1 -1 -1 -1 -1 -1 -1 -1 -1 -1 -1 -1\n",
            " -1 -1 -1 -1 -1 -1 -1 -1 -1 -1 -1 -1 -1 -1 -1 -1 -1 -1 -1 -1 -1 -1 -1 -1\n",
            " -1 -1 -1 -1 -1 -1 -1 -1 -1 -1 -1 -1 -1 -1 -1 -1 -1 -1 -1 -1 -1 -1 -1 -1\n",
            " -1 -1 -1 -1 -1 -1 -1 -1 -1 -1 -1 -1 -1 -1 -1 -1 -1 -1 -1 -1 -1 -1 -1 -1\n",
            " -1 -1 -1 -1 -1 -1 -1 -1 -1 -1 -1 -1 -1 -1 -1 -1 -1 -1 -1 -1 -1 -1 -1 -1\n",
            " -1 -1 -1 -1 -1 -1 -1 -1 -1 -1 -1 -1 -1 -1 -1 -1 -1 -1 -1 -1 -1 -1 -1 -1\n",
            " -1 -1 -1 -1 -1 -1 -1 -1 -1 -1 -1 -1 -1 -1 -1 -1 -1 -1 -1 -1 -1 -1 -1 -1\n",
            " -1 -1 -1 -1 -1 -1 -1 -1 -1 -1 -1 -1 -1 -1 -1 -1 -1 -1 -1 -1 -1 -1 -1 -1\n",
            " -1 -1 -1 -1 -1 -1 -1 -1 -1 -1 -1 -1 -1 -1 -1 -1 -1 -1  9 -1 -1 -1 -1 -1\n",
            " -1 -1 10 -1 -1 -1 -1 -1 -1 -1 -1 -1 -1 -1 11 -1 -1 -1 -1 -1 -1 -1 -1 -1\n",
            "  9 -1 12 -1 -1 -1 -1 -1 -1 11 12 -1 -1 -1 13 -1  9 -1 -1 10 -1  9 -1 12\n",
            " -1 13 -1 -1 14 10 -1 -1 -1 -1 -1 -1 -1 -1 -1 -1 -1 -1 -1 -1 -1 -1 -1 -1\n",
            " -1 -1 -1 -1 -1 -1 13 14 -1 -1 -1 -1 -1 -1 -1 -1 -1 -1 -1 -1 11 -1 -1 -1\n",
            " -1 -1 -1 12 -1 -1 -1 -1 15 -1 -1 -1 -1 14 -1 -1  9 -1 -1 -1 -1 -1 -1 11\n",
            " -1 14 -1  9 -1 14 -1 -1 -1 -1 10 -1 -1 -1 -1 -1 -1 16 -1 -1 -1 -1 -1 -1\n",
            "  9 13 -1 15 -1 13 -1 -1 -1 -1 -1 -1 -1 -1 -1 -1 -1 -1 -1 -1 10 -1 -1 -1\n",
            " 16 -1 -1 -1 -1 -1 -1 -1 -1 -1 -1 12 -1 -1 11 -1 -1 -1 -1 -1 -1 -1 16 -1\n",
            " -1 -1 -1 -1 -1 10  9 -1 -1  9 15 -1 -1 15 -1 -1 14 -1 -1 -1 16 -1  9 -1\n",
            " -1 -1 -1 -1 -1 -1 16 -1 -1 -1 -1 -1 -1 -1 15 13]\n",
            "DBS Core Sample :  [  7  10  11  19  20  21  31  33  34  35  39  45  46  47  48  59  62  64\n",
            "  68  71  75  77  79  82  85 102 103 108 115 117 119 121 123 126 131 134\n",
            " 135 145 152 167 178 187 191 193 222 230 240 241 283 296 302 317 358 393\n",
            " 427 431 460 486 762 770 782 792 794 801 802 806 808 811 813 815 817 820\n",
            " 821 846 847 860 867 872 877 880 887 889 891 893 898 905 912 913 915 917\n",
            " 932 936 947 950 958 965 966 969 970 973 976 980 982 990 998 999]\n",
            "Y Predict :  [-1 -1 -1 -1 -1 -1 -1  0 -1 -1  1  0 -1 -1 -1 -1 -1 -1 -1  0  0  2 -1 -1\n",
            " -1 -1 -1 -1 -1 -1 -1  3 -1  4  5  3 -1 -1 -1  1 -1 -1 -1 -1 -1  0  0  0\n",
            "  0 -1 -1 -1 -1 -1 -1 -1 -1 -1 -1  3 -1 -1  4 -1  0 -1 -1 -1  0 -1 -1  0\n",
            " -1 -1 -1  0 -1  2 -1  5 -1 -1  4 -1 -1  2 -1 -1 -1 -1 -1 -1 -1 -1 -1 -1\n",
            " -1 -1 -1 -1 -1 -1  1  0 -1 -1 -1 -1  4 -1 -1 -1 -1 -1 -1  2 -1  1 -1  3\n",
            " -1  6 -1  3 -1 -1  6 -1 -1 -1 -1  1 -1 -1  5  6 -1 -1 -1 -1 -1 -1 -1 -1\n",
            " -1  5 -1 -1 -1 -1 -1 -1  6 -1 -1 -1 -1 -1 -1 -1 -1 -1 -1 -1 -1 -1 -1  0\n",
            " -1 -1 -1 -1 -1 -1 -1 -1 -1 -1  6 -1 -1 -1 -1 -1 -1 -1 -1  5 -1 -1 -1  6\n",
            " -1  6 -1 -1 -1 -1 -1 -1 -1 -1 -1 -1 -1 -1 -1 -1 -1 -1 -1 -1 -1 -1 -1 -1\n",
            " -1 -1 -1 -1 -1 -1  4 -1 -1 -1 -1 -1 -1 -1  1 -1 -1 -1 -1 -1 -1 -1 -1 -1\n",
            "  5  2 -1 -1 -1 -1 -1 -1 -1 -1 -1 -1 -1 -1 -1 -1 -1 -1 -1 -1 -1 -1 -1 -1\n",
            " -1 -1 -1 -1 -1 -1 -1 -1 -1 -1 -1 -1 -1 -1 -1 -1 -1 -1 -1  7 -1 -1 -1 -1\n",
            " -1 -1 -1 -1 -1 -1 -1 -1  7 -1 -1 -1 -1 -1  8 -1 -1 -1 -1 -1 -1 -1 -1 -1\n",
            " -1 -1 -1 -1 -1  7 -1 -1 -1 -1 -1 -1 -1 -1 -1 -1 -1 -1 -1 -1 -1 -1 -1 -1\n",
            " -1 -1 -1 -1 -1 -1 -1 -1 -1 -1 -1 -1 -1 -1 -1 -1 -1 -1 -1 -1 -1 -1  7 -1\n",
            " -1 -1 -1 -1 -1 -1 -1 -1 -1 -1 -1 -1 -1 -1 -1 -1 -1 -1 -1 -1 -1 -1 -1 -1\n",
            " -1 -1 -1 -1 -1 -1 -1 -1 -1  7 -1 -1 -1 -1 -1 -1 -1 -1 -1 -1 -1 -1 -1 -1\n",
            " -1 -1 -1 -1 -1 -1 -1 -1 -1 -1 -1 -1 -1 -1 -1 -1 -1 -1 -1  8 -1 -1 -1  8\n",
            " -1 -1 -1 -1 -1 -1 -1 -1 -1 -1 -1 -1 -1 -1 -1 -1 -1 -1 -1 -1 -1 -1 -1 -1\n",
            " -1 -1 -1 -1  8 -1 -1 -1 -1 -1 -1 -1 -1 -1 -1 -1 -1 -1 -1 -1 -1 -1 -1 -1\n",
            " -1 -1 -1 -1 -1 -1  8 -1 -1 -1 -1 -1 -1 -1 -1 -1 -1 -1 -1 -1 -1 -1 -1 -1\n",
            " -1 -1 -1 -1 -1 -1 -1 -1 -1 -1 -1 -1 -1 -1 -1 -1 -1 -1 -1 -1 -1 -1 -1 -1\n",
            " -1 -1 -1 -1 -1 -1 -1 -1 -1 -1 -1 -1 -1 -1 -1 -1 -1 -1 -1 -1 -1 -1 -1 -1\n",
            " -1 -1 -1 -1 -1 -1 -1 -1 -1 -1 -1 -1 -1 -1 -1 -1 -1 -1 -1 -1 -1 -1 -1 -1\n",
            " -1 -1 -1 -1 -1 -1 -1 -1 -1 -1 -1 -1 -1 -1 -1 -1 -1 -1 -1 -1 -1 -1 -1 -1\n",
            " -1 -1 -1 -1 -1 -1 -1 -1 -1 -1 -1 -1 -1 -1 -1 -1 -1 -1 -1 -1 -1 -1 -1 -1\n",
            " -1 -1 -1 -1 -1 -1 -1 -1 -1 -1 -1 -1 -1 -1 -1 -1 -1 -1 -1 -1 -1 -1 -1 -1\n",
            " -1 -1 -1 -1 -1 -1 -1 -1 -1 -1 -1 -1 -1 -1 -1 -1 -1 -1 -1 -1 -1 -1 -1 -1\n",
            " -1 -1 -1 -1 -1 -1 -1 -1 -1 -1 -1 -1 -1 -1 -1 -1 -1 -1 -1 -1 -1 -1 -1 -1\n",
            " -1 -1 -1 -1 -1 -1 -1 -1 -1 -1 -1 -1 -1 -1 -1 -1 -1 -1 -1 -1 -1 -1 -1 -1\n",
            " -1 -1 -1 -1 -1 -1 -1 -1 -1 -1 -1 -1 -1 -1 -1 -1 -1 -1 -1 -1 -1 -1 -1 -1\n",
            " -1 -1 -1 -1 -1 -1 -1 -1 -1 -1 -1 -1 -1 -1 -1 -1 -1 -1  9 -1 -1 -1 -1 -1\n",
            " -1 -1 10 -1 -1 -1 -1 -1 -1 -1 -1 -1 -1 -1 11 -1 -1 -1 -1 -1 -1 -1 -1 -1\n",
            "  9 -1 12 -1 -1 -1 -1 -1 -1 11 12 -1 -1 -1 13 -1  9 -1 -1 10 -1  9 -1 12\n",
            " -1 13 -1 -1 14 10 -1 -1 -1 -1 -1 -1 -1 -1 -1 -1 -1 -1 -1 -1 -1 -1 -1 -1\n",
            " -1 -1 -1 -1 -1 -1 13 14 -1 -1 -1 -1 -1 -1 -1 -1 -1 -1 -1 -1 11 -1 -1 -1\n",
            " -1 -1 -1 12 -1 -1 -1 -1 15 -1 -1 -1 -1 14 -1 -1  9 -1 -1 -1 -1 -1 -1 11\n",
            " -1 14 -1  9 -1 14 -1 -1 -1 -1 10 -1 -1 -1 -1 -1 -1 16 -1 -1 -1 -1 -1 -1\n",
            "  9 13 -1 15 -1 13 -1 -1 -1 -1 -1 -1 -1 -1 -1 -1 -1 -1 -1 -1 10 -1 -1 -1\n",
            " 16 -1 -1 -1 -1 -1 -1 -1 -1 -1 -1 12 -1 -1 11 -1 -1 -1 -1 -1 -1 -1 16 -1\n",
            " -1 -1 -1 -1 -1 10  9 -1 -1  9 15 -1 -1 15 -1 -1 14 -1 -1 -1 16 -1  9 -1\n",
            " -1 -1 -1 -1 -1 -1 16 -1 -1 -1 -1 -1 -1 -1 15 13]\n",
            "DBS:  -0.548991693972505\n"
          ]
        }
      ]
    },
    {
      "cell_type": "markdown",
      "source": [
        "<b>Gaussian Mixture"
      ],
      "metadata": {
        "id": "PhRCqfWAKb2G"
      }
    },
    {
      "cell_type": "code",
      "source": [
        "GMM = GaussianMixture(n_components=5).fit(categorizedMarketingData)\n",
        "YPredict = GMM.predict(categorizedMarketingData)\n",
        "print(\"Y Predict : \", YPredict)\n",
        "print(\"GMM: \", silhouette_score(categorizedMarketingData, YPredict))"
      ],
      "metadata": {
        "colab": {
          "base_uri": "https://localhost:8080/"
        },
        "id": "9gplzjqCKfw0",
        "outputId": "caa2bfa7-a7bd-4570-ab6c-50c77ccedeaf"
      },
      "execution_count": 268,
      "outputs": [
        {
          "output_type": "stream",
          "name": "stdout",
          "text": [
            "Y Predict :  [3 3 3 3 3 3 1 3 3 3 3 3 1 1 3 3 3 3 3 3 3 1 1 3 3 3 3 3 1 3 3 2 1 3 3 2 1\n",
            " 3 3 3 3 1 2 3 3 3 3 3 3 3 3 2 3 3 3 3 1 3 0 2 3 3 3 3 3 3 2 1 3 1 1 3 3 2\n",
            " 3 3 1 1 3 3 3 2 3 3 0 1 1 1 1 2 2 3 1 3 3 1 3 3 3 3 0 0 3 3 3 3 3 3 3 3 3\n",
            " 3 1 1 2 1 3 3 3 2 1 1 3 2 3 1 1 3 2 1 2 3 3 0 3 1 1 3 1 3 0 1 2 1 3 3 3 3\n",
            " 1 1 3 0 1 1 1 3 1 1 1 1 2 0 1 3 3 2 1 3 3 0 3 1 0 3 2 1 0 1 1 3 1 1 2 1 2\n",
            " 0 3 3 1 2 2 1 0 1 2 0 2 0 1 3 1 1 3 3 1 0 1 1 1 3 3 1 1 2 2 2 1 1 1 1 0 1\n",
            " 3 2 3 2 1 1 3 0 3 3 1 1 2 1 3 0 1 1 3 1 1 2 3 3 1 3 0 3 3 3 3 1 3 3 2 0 1\n",
            " 3 2 0 2 3 3 2 0 0 1 0 3 3 2 3 3 1 3 3 1 3 0 3 2 3 2 3 2 1 1 1 0 1 1 3 3 1\n",
            " 3 0 1 0 1 1 1 0 2 1 1 4 1 2 2 1 2 1 1 3 1 3 3 2 1 1 1 1 3 1 1 3 3 2 3 0 3\n",
            " 3 3 0 2 3 0 3 3 1 3 2 1 0 3 1 3 4 0 0 3 0 3 2 4 2 3 0 1 3 1 4 3 0 1 0 3 3\n",
            " 1 3 3 3 4 3 3 3 0 1 3 4 3 0 3 3 3 4 0 1 3 4 4 3 1 3 1 2 3 2 2 4 3 3 3 3 1\n",
            " 1 1 0 3 2 1 1 3 1 3 0 3 3 1 1 3 1 1 1 1 1 1 3 3 1 3 1 1 1 0 1 1 3 3 1 1 1\n",
            " 3 4 1 2 3 2 4 1 3 1 4 3 2 1 4 1 1 3 3 0 3 1 4 0 1 4 0 4 2 0 0 4 1 2 0 0 3\n",
            " 0 3 1 1 1 1 1 2 0 3 0 1 3 0 1 1 0 4 4 1 3 3 1 3 4 0 0 3 1 1 4 2 3 0 3 3 0\n",
            " 1 1 4 1 3 1 4 4 0 3 1 2 4 3 1 1 0 1 4 3 1 0 1 1 4 2 4 2 0 1 3 1 1 1 1 1 1\n",
            " 0 1 1 0 0 0 0 3 0 1 1 3 0 1 0 3 1 2 4 0 3 1 0 1 1 1 4 2 4 3 0 4 0 4 1 1 1\n",
            " 0 1 2 1 0 4 3 0 2 4 0 1 1 3 1 4 0 0 0 3 1 4 0 0 1 1 4 2 1 1 1 3 1 1 4 2 0\n",
            " 3 0 1 3 4 4 2 0 3 3 0 0 4 1 4 1 2 1 4 1 4 4 0 2 3 2 1 0 4 1 2 0 3 4 4 0 1\n",
            " 0 1 4 4 0 1 1 0 1 1 1 1 0 1 0 2 3 1 1 4 1 1 0 0 0 1 3 4 1 0 4 3 1 4 3 4 3\n",
            " 1 4 4 1 0 4 3 0 4 3 4 1 3 0 1 4 3 2 0 0 3 2 0 0 0 2 2 0 2 0 1 0 4 0 4 4 0\n",
            " 1 4 1 0 3 4 2 1 0 4 0 0 1 1 0 4 1 1 3 1 4 4 0 1 2 4 1 3 4 2 4 3 4 0 0 4 4\n",
            " 1 1 4 4 1 0 0 1 1 4 1 4 0 2 4 0 4 0 1 1 3 1 3 3 0 0 0 0 4 0 0 0 0 1 4 4 0\n",
            " 0 0 3 0 2 4 4 4 4 0 0 1 0 4 3 4 1 0 0 0 0 2 1 1 4 0 2 1 0 0 0 0 0 4 4 0 4\n",
            " 3 4 1 1 1 4 4 4 2 0 0 0 4 1 1 4 0 0 1 0 4 0 1 0 2 1 4 4 0 0 4 0 2 2 0 1 0\n",
            " 1 4 0 0 1 4 1 0 4 4 4 0 0 0 4 0 1 0 0 0 4 4 1 4 0 0 0 0 2 0 1 0 0 0 4 0 2\n",
            " 0 0 0 0 1 2 1 4 0 0 3 0 0 1 0 4 0 0 0 0 0 2 0 1 0 0 0 0 0 0 1 0 2 0 0 0 4\n",
            " 1 2 0 4 0 0 0 0 0 4 4 0 2 2 4 4 4 4 0 0 0 4 2 1 0 4 0 4 0 1 2 4 0 0 0 0 0\n",
            " 0]\n",
            "GMM:  0.49711021312517856\n"
          ]
        }
      ]
    },
    {
      "cell_type": "markdown",
      "source": [
        "Since gaussian mixture achieved a higher silhouette score than db scan, I will move ahead to the next phase that is attempt to tune its hyperparameter using GridSearchCV as is the case in the previous section."
      ],
      "metadata": {
        "id": "vO8zeY3d9DXW"
      }
    },
    {
      "cell_type": "markdown",
      "source": [
        "</b>Hyperparameter tuning Gaussian Mixture"
      ],
      "metadata": {
        "id": "M1XuSme2IAxG"
      }
    },
    {
      "cell_type": "markdown",
      "source": [
        "Declaring hyperparameter"
      ],
      "metadata": {
        "id": "9jLytTYMSffj"
      }
    },
    {
      "cell_type": "code",
      "source": [
        "n_components = [2, 3, 5, 10, 15, 20, 25, 30, 50]\n",
        "\n",
        "gm_grid = {\n",
        "    \"n_components\": n_components\n",
        "}"
      ],
      "metadata": {
        "id": "RpJ4Py-nI5tT"
      },
      "execution_count": 269,
      "outputs": []
    },
    {
      "cell_type": "markdown",
      "source": [
        "Executing grid search"
      ],
      "metadata": {
        "id": "Of7Moa0MSho_"
      }
    },
    {
      "cell_type": "code",
      "source": [
        "CV_gm = GridSearchCV(GaussianMixture(), param_grid=gm_grid)\n",
        "CV_gm.fit(categorizedMarketingData)"
      ],
      "metadata": {
        "colab": {
          "base_uri": "https://localhost:8080/"
        },
        "id": "b-FR4UaXSvZ2",
        "outputId": "ced16e74-e167-4be0-dd57-04ba78ae7d7b"
      },
      "execution_count": 270,
      "outputs": [
        {
          "output_type": "execute_result",
          "data": {
            "text/plain": [
              "GridSearchCV(estimator=GaussianMixture(),\n",
              "             param_grid={'n_components': [2, 3, 5, 10, 15, 20, 25, 30, 50]})"
            ]
          },
          "metadata": {},
          "execution_count": 270
        }
      ]
    },
    {
      "cell_type": "markdown",
      "source": [
        "Printing best parameters"
      ],
      "metadata": {
        "id": "NXEbXg1XUnGZ"
      }
    },
    {
      "cell_type": "code",
      "source": [
        "print(CV_gm.best_params_)"
      ],
      "metadata": {
        "colab": {
          "base_uri": "https://localhost:8080/"
        },
        "id": "ihDghv7lUrxP",
        "outputId": "fef38455-624e-42da-e551-c36ee82abb7d"
      },
      "execution_count": 271,
      "outputs": [
        {
          "output_type": "stream",
          "name": "stdout",
          "text": [
            "{'n_components': 15}\n"
          ]
        }
      ]
    },
    {
      "cell_type": "markdown",
      "source": [
        "Utlizing best parameters"
      ],
      "metadata": {
        "id": "ZzekZlUbUzMi"
      }
    },
    {
      "cell_type": "code",
      "source": [
        "GMM = GaussianMixture(n_components=15).fit(categorizedMarketingData)\n",
        "YPredict = GMM.predict(categorizedMarketingData)\n",
        "print(\"Y Predict : \", YPredict)\n",
        "print(\"GMM: \", silhouette_score(categorizedMarketingData, YPredict))"
      ],
      "metadata": {
        "colab": {
          "base_uri": "https://localhost:8080/"
        },
        "id": "S-7I_2U6U0rQ",
        "outputId": "ed2eff04-0843-46e9-c974-aeeaa4e7d2c8"
      },
      "execution_count": 272,
      "outputs": [
        {
          "output_type": "stream",
          "name": "stdout",
          "text": [
            "Y Predict :  [ 2  2  2  2  2  2 10  2  2  2 12  2  7  7  2  2  2  2  2  2  2  7  7 12\n",
            " 12  2  2  2  7  2 12  3  1  2  2  3  1  2  2 12  2  7  3  2  2  2  2  2\n",
            "  2 12  2  3  2 12 12  2  7  2  0  3 12  2  2 12  2  2  3  5  2  7 10  2\n",
            "  2  3  2  2 10  7  2  2  2  3  2  2 14  7  7  5  5  3  3  2 10 12  2 10\n",
            "  2  2  2  2 14 14 12  2  2  2  2 12  2 12  2  2  7  7  3  7  2 12  2  3\n",
            "  5  7  2  3 12 10  7  2  3 10  3 12  2 14  2  7  1  2 10 12 14  5  3 10\n",
            "  2  2 12  2  7  5 12 14  7  5  5  2  5  5 10  5  3 14  7  2  2  3 10  2\n",
            "  2 13  2  5 14 12  3 10 13  7  7  2  5  7  3  7  3 14 12  2 10  3  3  7\n",
            " 14  7  3 14  3 14  5  2  7 10  2 12  5 13  1  5  1  2 12  5  5  3  3  3\n",
            "  5  5  1  5 14  1  2  8  2  3  1  5  2 14 12 12  5  7  3  5  2  0  5  5\n",
            "  2  7 10  3  6  2  5  2 14  6  9  9  6  5 12  6  8 11  1  9  3 14  3 12\n",
            " 12  3 13 14  7 13 12 12  3  9  9  1 12  9  7  9 13  6  3  9  8  9  3 10\n",
            "  5 10 14  7  7  6  6  5  9 13  5 13  7  7 10  0  3  5  5  3 10  3  3 10\n",
            "  8  5  7  9  7  9 12  3  7  7  7  1  9  1  1 12 12  3 12 13  9 12 12  0\n",
            "  3  9 14 12 12 10 12  8  1  0 12  7 12  3 14 14  9 11  9  3  3  3  9 14\n",
            "  7  9  1  3  9 14 10 11  9  9  7 12  9 12  4 12  6  9 11 10  9  3 12 13\n",
            "  9 12 12  3 11  7 12  3  4  9  7  9  1  3  6  3  8  4  6  9  6  9  7  1\n",
            " 10 13  9  3  5  7 12  7  6 13 12  9  7  1 12  1  7  1  7 10  5 12 12 10\n",
            " 12  7  7  5 14  1  7  9 12  7  1  1  6  3  1  3 12  8  4  1  6  5  4  6\n",
            "  3  5  3  1 10  6  9 11  6  5  3  0  1  4 14  3  3 14  0  3  7  3 13  0\n",
            "  6 14 12  7  7  5 10  1  3  0 12 11  7 12  0  7  5 11  4  3  5 12 12  1\n",
            "  6  4 14 11  9  1  1  4  8 12  0  6 12 14  1 10  3  1 12  7  4  3 13 12\n",
            "  5  8  4 12  1  7  0 10  4  9  1  0  7  7  4  8  4  8 11  1 12  5  1 10\n",
            "  5  7  5 13  1  5 11  0 11 11  9  0  5  1 12  0  1  0  6  1  8  4  0  9\n",
            "  5 11  5 10  5  4  8  3 12  0  4 13  4  5  5  5 11  7  8  5 11  4 12 13\n",
            "  8  4 14  1  5 12 10  4 14  0  0 12  5  4  0 14  7  1  4  8  1  1  5 12\n",
            "  1  1  4  8 13  9 13  7 12  4  4  8  0 12 12 13  0  3  5  4  1  8  1  4\n",
            "  7  4  4  0  8 12  8  1  0  4 10  8  0 12  4  4 11  7  0  5  3  4 13  5\n",
            "  1  0  5  5  1  7  0  1 13  8  9  1  1  4  5 10 13  0  0 10  9  4  5 11\n",
            "  4 12  5  4 12  4 12  5  4  4  5 11  4 12 11  4  9  4  5 12  0  5  4  9\n",
            "  8 11 14 12  8  0 13 13  8  8 14  8 13  5 13  4 13  4  4  0  5  4  7 11\n",
            " 12  4  8  5  0  4  0 13  1  5 13  4  1  1 12  1  4  4  0  5  8  4  5  6\n",
            "  4  8  4  6  4 11  0  4  4  7  5  4  4  5 11 11  5  7  4  1  4 11  8  4\n",
            "  0  4  0  1  1  6  5  6  6 11  0  0 14  4  0  0  0  0  1  4  4  0 13  0\n",
            "  6  0  8  4  4  4  4 11  0  5  0  4 12  4  7 11 13 13 11  8  1 10  4 13\n",
            "  8  1 13 13  0  0  0  4  4  0  4 12  4  5  5  7  4  4  4  8 11 11 11  4\n",
            "  1  7  4  0 13 10 13  4 11  5 11  8  1  4  4 13 11  4 13  8  8 13  1 11\n",
            "  5  4  0  0  1  4  5  0  4  4  4 13 13 13  4 11  5  0 13 13  4  4 10  4\n",
            " 11  0 11 11  8  0  1 11 13 13  4  0  8 11 13  0  0  5  8  5  4 11  0 12\n",
            "  0  0  5 13  4  0 13 11  0  0  8  0  5  0 11  0 11 13 13  1  0  8  0 13\n",
            " 11  4  5  8  0  4  0 13  0  0 11  4  4 11  8  8  4  4  4  4  0  0 11  4\n",
            "  8  5  0  4  0  4  0  1  8  4  0  0  0 11 11  0]\n",
            "GMM:  0.1720987860453049\n"
          ]
        }
      ]
    },
    {
      "cell_type": "markdown",
      "source": [
        "3c. Evaluate all the models trained with the machine learning algorithms\n",
        "from task no 2.b. Explain comprehensively: (1) the meaning of the results, (2) the\n",
        "future work direction to improve the model (i.e. what should we do to improve the\n",
        "results)."
      ],
      "metadata": {
        "id": "sv51iSGV9ifs"
      }
    },
    {
      "cell_type": "markdown",
      "source": [
        "Oddly enough the score of the \"tuned\" GMM is closer to 0 than the original assumed n_components of 5, this does make sense to an extent as silhouette score measures how much distance the clusters have between one another, with the presence of more clusters inevitably the distance between them will lessen as some would be split.  \n",
        "\n",
        "In order to improve the model I would suggest to try out some other algorithms first. One such algorithm that might work better is k modes which reportedly handles categorical data rather well, other than that, transforming the data so that its distribution can be shaped normally and reapplying dbscan or alternatively trying the well performing k-means algorithm might also work."
      ],
      "metadata": {
        "id": "ZXSWM4cG-BWu"
      }
    }
  ]
}